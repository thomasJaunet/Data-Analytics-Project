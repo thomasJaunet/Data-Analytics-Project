{
 "cells": [
  {
   "cell_type": "markdown",
   "metadata": {},
   "source": [
    "# Build the model\n",
    "\n",
    "This notebook is meant to work on the listings with the ratings added to see if we get better results"
   ]
  },
  {
   "cell_type": "code",
   "execution_count": 88,
   "metadata": {},
   "outputs": [],
   "source": [
    "import pandas as pd\n",
    "import matplotlib.pyplot as plt\n",
    "from sklearn.model_selection import train_test_split\n",
    "from sklearn import ensemble\n",
    "from sklearn.metrics import mean_absolute_error, mean_squared_error\n",
    "from sklearn.externals import joblib\n",
    "from sklearn.model_selection import GridSearchCV\n",
    "import numpy as np\n",
    "from sklearn.neighbors import KNeighborsClassifier"
   ]
  },
  {
   "cell_type": "code",
   "execution_count": 69,
   "metadata": {},
   "outputs": [
    {
     "name": "stdout",
     "output_type": "stream",
     "text": [
      "<class 'pandas.core.frame.DataFrame'>\n",
      "RangeIndex: 3666 entries, 0 to 3665\n",
      "Data columns (total 18 columns):\n",
      "id                                   3666 non-null int64\n",
      "price                                3666 non-null int64\n",
      "minimum_nights                       3666 non-null int64\n",
      "number_of_reviews                    3666 non-null int64\n",
      "reviews_per_month                    3666 non-null float64\n",
      "availability_365                     3666 non-null int64\n",
      "room_type_Entire home/apt            3666 non-null int64\n",
      "room_type_Private room               3666 non-null int64\n",
      "room_type_Shared room                3666 non-null int64\n",
      "neighbourhood_Harlem                 3666 non-null int64\n",
      "neighbourhood_Morningside Heights    3666 non-null int64\n",
      "neighbourhood_Upper West Side        3666 non-null int64\n",
      "Accuracy                             3666 non-null float64\n",
      "Communication                        3666 non-null float64\n",
      "Cleanliness                          3666 non-null float64\n",
      "Location                             3666 non-null float64\n",
      "Check-In                             3666 non-null float64\n",
      "Value                                3666 non-null float64\n",
      "dtypes: float64(7), int64(11)\n",
      "memory usage: 515.6 KB\n"
     ]
    }
   ],
   "source": [
    "filename = 'listings_ratings.csv'\n",
    "data_borough = pd.read_csv(filename)\n",
    "del data_borough['Unnamed: 0']\n",
    "data_borough.info()"
   ]
  },
  {
   "cell_type": "code",
   "execution_count": 4,
   "metadata": {},
   "outputs": [
    {
     "data": {
      "image/png": "[encoded data removed]",
      "text/plain": [
       "<Figure size 432x288 with 1 Axes>"
      ]
     },
     "metadata": {
      "needs_background": "light"
     },
     "output_type": "display_data"
    }
   ],
   "source": [
    "plt.pcolor(data_borough.corr(),cmap='coolwarm') \n",
    "plt.show()"
   ]
  },
  {
   "cell_type": "code",
   "execution_count": 6,
   "metadata": {},
   "outputs": [
    {
     "data": {
      "text/plain": [
       "id                                  -0.037353\n",
       "price                                1.000000\n",
       "minimum_nights                       0.045884\n",
       "number_of_reviews                   -0.035344\n",
       "reviews_per_month                   -0.046204\n",
       "availability_365                     0.139831\n",
       "room_type_Entire home/apt            0.343480\n",
       "room_type_Private room              -0.329910\n",
       "room_type_Shared room               -0.056439\n",
       "neighbourhood_Harlem                -0.157438\n",
       "neighbourhood_Morningside Heights   -0.055148\n",
       "neighbourhood_Upper West Side        0.190040\n",
       "Accuracy                             0.008344\n",
       "Communication                       -0.008891\n",
       "Cleanliness                          0.052962\n",
       "Location                             0.051794\n",
       "Check-In                            -0.011515\n",
       "Value                               -0.002629\n",
       "Name: price, dtype: float64"
      ]
     },
     "execution_count": 6,
     "metadata": {},
     "output_type": "execute_result"
    }
   ],
   "source": [
    "data_borough.corr()['price']"
   ]
  },
  {
   "cell_type": "code",
   "execution_count": 67,
   "metadata": {},
   "outputs": [
    {
     "data": {
      "text/html": [
       "<div>\n",
       "<style scoped>\n",
       "    .dataframe tbody tr th:only-of-type {\n",
       "        vertical-align: middle;\n",
       "    }\n",
       "\n",
       "    .dataframe tbody tr th {\n",
       "        vertical-align: top;\n",
       "    }\n",
       "\n",
       "    .dataframe thead th {\n",
       "        text-align: right;\n",
       "    }\n",
       "</style>\n",
       "<table border=\"1\" class=\"dataframe\">\n",
       "  <thead>\n",
       "    <tr style=\"text-align: right;\">\n",
       "      <th></th>\n",
       "      <th>Accuracy</th>\n",
       "      <th>Communication</th>\n",
       "      <th>Cleanliness</th>\n",
       "      <th>Location</th>\n",
       "      <th>Check-In</th>\n",
       "      <th>Value</th>\n",
       "    </tr>\n",
       "  </thead>\n",
       "  <tbody>\n",
       "    <tr>\n",
       "      <th>id</th>\n",
       "      <td>0.015685</td>\n",
       "      <td>-0.012763</td>\n",
       "      <td>0.023313</td>\n",
       "      <td>0.095117</td>\n",
       "      <td>0.007920</td>\n",
       "      <td>0.040932</td>\n",
       "    </tr>\n",
       "    <tr>\n",
       "      <th>minimum_nights</th>\n",
       "      <td>-0.040179</td>\n",
       "      <td>-0.062081</td>\n",
       "      <td>-0.038480</td>\n",
       "      <td>0.004913</td>\n",
       "      <td>-0.024905</td>\n",
       "      <td>-0.026728</td>\n",
       "    </tr>\n",
       "    <tr>\n",
       "      <th>availability_365</th>\n",
       "      <td>-0.041320</td>\n",
       "      <td>-0.029802</td>\n",
       "      <td>0.048498</td>\n",
       "      <td>-0.010201</td>\n",
       "      <td>-0.012042</td>\n",
       "      <td>-0.090502</td>\n",
       "    </tr>\n",
       "    <tr>\n",
       "      <th>room_type_Entire home/apt</th>\n",
       "      <td>0.062681</td>\n",
       "      <td>0.026890</td>\n",
       "      <td>0.042189</td>\n",
       "      <td>0.062187</td>\n",
       "      <td>0.007599</td>\n",
       "      <td>-0.005631</td>\n",
       "    </tr>\n",
       "    <tr>\n",
       "      <th>room_type_Private room</th>\n",
       "      <td>-0.059093</td>\n",
       "      <td>-0.025216</td>\n",
       "      <td>-0.043602</td>\n",
       "      <td>-0.062005</td>\n",
       "      <td>-0.004964</td>\n",
       "      <td>0.004663</td>\n",
       "    </tr>\n",
       "    <tr>\n",
       "      <th>room_type_Shared room</th>\n",
       "      <td>-0.014110</td>\n",
       "      <td>-0.006590</td>\n",
       "      <td>0.005722</td>\n",
       "      <td>-0.000572</td>\n",
       "      <td>-0.010457</td>\n",
       "      <td>0.003831</td>\n",
       "    </tr>\n",
       "    <tr>\n",
       "      <th>neighbourhood_Harlem</th>\n",
       "      <td>0.056104</td>\n",
       "      <td>0.031899</td>\n",
       "      <td>0.069286</td>\n",
       "      <td>-0.317611</td>\n",
       "      <td>0.021181</td>\n",
       "      <td>0.043391</td>\n",
       "    </tr>\n",
       "    <tr>\n",
       "      <th>neighbourhood_Morningside Heights</th>\n",
       "      <td>-0.014518</td>\n",
       "      <td>-0.005233</td>\n",
       "      <td>-0.023509</td>\n",
       "      <td>0.070285</td>\n",
       "      <td>-0.003335</td>\n",
       "      <td>0.009596</td>\n",
       "    </tr>\n",
       "    <tr>\n",
       "      <th>neighbourhood_Upper West Side</th>\n",
       "      <td>-0.050246</td>\n",
       "      <td>-0.030167</td>\n",
       "      <td>-0.059099</td>\n",
       "      <td>0.290743</td>\n",
       "      <td>-0.020104</td>\n",
       "      <td>-0.049878</td>\n",
       "    </tr>\n",
       "    <tr>\n",
       "      <th>Accuracy</th>\n",
       "      <td>1.000000</td>\n",
       "      <td>0.463433</td>\n",
       "      <td>0.568237</td>\n",
       "      <td>0.277785</td>\n",
       "      <td>0.477485</td>\n",
       "      <td>0.641197</td>\n",
       "    </tr>\n",
       "    <tr>\n",
       "      <th>Communication</th>\n",
       "      <td>0.463433</td>\n",
       "      <td>1.000000</td>\n",
       "      <td>0.401893</td>\n",
       "      <td>0.324801</td>\n",
       "      <td>0.646360</td>\n",
       "      <td>0.498234</td>\n",
       "    </tr>\n",
       "    <tr>\n",
       "      <th>Cleanliness</th>\n",
       "      <td>0.568237</td>\n",
       "      <td>0.401893</td>\n",
       "      <td>1.000000</td>\n",
       "      <td>0.256755</td>\n",
       "      <td>0.363325</td>\n",
       "      <td>0.566683</td>\n",
       "    </tr>\n",
       "    <tr>\n",
       "      <th>Location</th>\n",
       "      <td>0.277785</td>\n",
       "      <td>0.324801</td>\n",
       "      <td>0.256755</td>\n",
       "      <td>1.000000</td>\n",
       "      <td>0.306831</td>\n",
       "      <td>0.411402</td>\n",
       "    </tr>\n",
       "    <tr>\n",
       "      <th>Check-In</th>\n",
       "      <td>0.477485</td>\n",
       "      <td>0.646360</td>\n",
       "      <td>0.363325</td>\n",
       "      <td>0.306831</td>\n",
       "      <td>1.000000</td>\n",
       "      <td>0.462782</td>\n",
       "    </tr>\n",
       "    <tr>\n",
       "      <th>Value</th>\n",
       "      <td>0.641197</td>\n",
       "      <td>0.498234</td>\n",
       "      <td>0.566683</td>\n",
       "      <td>0.411402</td>\n",
       "      <td>0.462782</td>\n",
       "      <td>1.000000</td>\n",
       "    </tr>\n",
       "  </tbody>\n",
       "</table>\n",
       "</div>"
      ],
      "text/plain": [
       "                                   Accuracy  Communication  Cleanliness  \\\n",
       "id                                 0.015685      -0.012763     0.023313   \n",
       "minimum_nights                    -0.040179      -0.062081    -0.038480   \n",
       "availability_365                  -0.041320      -0.029802     0.048498   \n",
       "room_type_Entire home/apt          0.062681       0.026890     0.042189   \n",
       "room_type_Private room            -0.059093      -0.025216    -0.043602   \n",
       "room_type_Shared room             -0.014110      -0.006590     0.005722   \n",
       "neighbourhood_Harlem               0.056104       0.031899     0.069286   \n",
       "neighbourhood_Morningside Heights -0.014518      -0.005233    -0.023509   \n",
       "neighbourhood_Upper West Side     -0.050246      -0.030167    -0.059099   \n",
       "Accuracy                           1.000000       0.463433     0.568237   \n",
       "Communication                      0.463433       1.000000     0.401893   \n",
       "Cleanliness                        0.568237       0.401893     1.000000   \n",
       "Location                           0.277785       0.324801     0.256755   \n",
       "Check-In                           0.477485       0.646360     0.363325   \n",
       "Value                              0.641197       0.498234     0.566683   \n",
       "\n",
       "                                   Location  Check-In     Value  \n",
       "id                                 0.095117  0.007920  0.040932  \n",
       "minimum_nights                     0.004913 -0.024905 -0.026728  \n",
       "availability_365                  -0.010201 -0.012042 -0.090502  \n",
       "room_type_Entire home/apt          0.062187  0.007599 -0.005631  \n",
       "room_type_Private room            -0.062005 -0.004964  0.004663  \n",
       "room_type_Shared room             -0.000572 -0.010457  0.003831  \n",
       "neighbourhood_Harlem              -0.317611  0.021181  0.043391  \n",
       "neighbourhood_Morningside Heights  0.070285 -0.003335  0.009596  \n",
       "neighbourhood_Upper West Side      0.290743 -0.020104 -0.049878  \n",
       "Accuracy                           0.277785  0.477485  0.641197  \n",
       "Communication                      0.324801  0.646360  0.498234  \n",
       "Cleanliness                        0.256755  0.363325  0.566683  \n",
       "Location                           1.000000  0.306831  0.411402  \n",
       "Check-In                           0.306831  1.000000  0.462782  \n",
       "Value                              0.411402  0.462782  1.000000  "
      ]
     },
     "execution_count": 67,
     "metadata": {},
     "output_type": "execute_result"
    }
   ],
   "source": [
    "data_borough.corr()[['Accuracy', 'Communication', 'Cleanliness', 'Location', 'Check-In', 'Value']]"
   ]
  },
  {
   "cell_type": "markdown",
   "metadata": {},
   "source": [
    "#### The new features are correlated between each other"
   ]
  },
  {
   "cell_type": "markdown",
   "metadata": {},
   "source": [
    " "
   ]
  },
  {
   "cell_type": "code",
   "execution_count": 70,
   "metadata": {},
   "outputs": [],
   "source": [
    "y = data_borough['price']\n",
    "del data_borough['price']\n",
    "del data_borough['number_of_reviews']\n",
    "del data_borough['reviews_per_month']\n",
    "data_borough['availability_365'] = (data_borough['availability_365'] - data_borough['availability_365'].mean())/(data_borough['availability_365'].std())**2\n",
    "data_borough['minimum_nights'] = (data_borough['minimum_nights'] - data_borough['minimum_nights'].mean())/(data_borough['minimum_nights'].std())**2\n",
    "data_borough['Accuracy'] = (data_borough['Accuracy'] - data_borough['Accuracy'].mean())/(data_borough['Accuracy'].std())**2\n",
    "data_borough['Communication'] = (data_borough['Communication'] - data_borough['Communication'].mean())/(data_borough['Communication'].std())**2\n",
    "data_borough['Cleanliness'] = (data_borough['Cleanliness'] - data_borough['Cleanliness'].mean())/(data_borough['Cleanliness'].std())**2\n",
    "data_borough['Location'] = (data_borough['Location'] - data_borough['Location'].mean())/(data_borough['Location'].std())**2\n",
    "data_borough['Check-In'] = (data_borough['Check-In'] - data_borough['Check-In'].mean())/(data_borough['Check-In'].std())**2\n",
    "data_borough['Value'] = (data_borough['Value'] - data_borough['Value'].mean())/(data_borough['Value'].std())**2\n",
    "X = data_borough"
   ]
  },
  {
   "cell_type": "code",
   "execution_count": 14,
   "metadata": {},
   "outputs": [],
   "source": [
    "X_train, X_test, y_train, y_test = train_test_split(X, y, test_size=0.15)"
   ]
  },
  {
   "cell_type": "markdown",
   "metadata": {},
   "source": [
    "### Gradient Boosting"
   ]
  },
  {
   "cell_type": "code",
   "execution_count": 15,
   "metadata": {},
   "outputs": [
    {
     "name": "stderr",
     "output_type": "stream",
     "text": [
      "/anaconda3/lib/python3.7/site-packages/sklearn/model_selection/_split.py:2053: FutureWarning: You should specify a value for 'cv' instead of relying on the default value. The default value will change from 3 to 5 in version 0.22.\n",
      "  warnings.warn(CV_WARNING, FutureWarning)\n",
      "/anaconda3/lib/python3.7/site-packages/sklearn/model_selection/_search.py:841: DeprecationWarning: The default of the `iid` parameter will change from True to False in version 0.22 and will be removed in 0.24. This will change numeric results when test-set sizes are unequal.\n",
      "  DeprecationWarning)\n"
     ]
    },
    {
     "name": "stdout",
     "output_type": "stream",
     "text": [
      "{'learning_rate': 0.05, 'loss': 'huber', 'max_depth': 6, 'max_features': 0.1, 'min_samples_leaf': 3, 'n_estimators': 1000}\n",
      "Training Set Mean Absolute Error: 36.0056\n",
      "Test Set Mean Absolute Error: 54.2187\n"
     ]
    }
   ],
   "source": [
    "# Create the model\n",
    "model = ensemble.GradientBoostingRegressor()\n",
    "\n",
    "# Parameters we want to try\n",
    "param_grid = {\n",
    "    'n_estimators': [500, 1000, 2000],\n",
    "    'max_depth': [4, 6],\n",
    "    'min_samples_leaf': [3, 5, 9],\n",
    "    'learning_rate': [0.1, 0.05, 0.02],\n",
    "    'max_features': [1.0, 0.3, 0.1],\n",
    "    'loss': ['ls', 'lad', 'huber']\n",
    "}\n",
    "\n",
    "# Define the grid search we want to run. Run it with six cpus in parallel.\n",
    "gs_cv = GridSearchCV(model, param_grid, n_jobs=6)\n",
    "\n",
    "# Run the grid search - on only the training data!\n",
    "gs_cv.fit(X_train, y_train)\n",
    "\n",
    "# Print the parameters that gave us the best result!\n",
    "print(gs_cv.best_params_)\n",
    "\n",
    "# Find the error rate on the training set using the best parameters\n",
    "mse = mean_absolute_error(y_train, gs_cv.predict(X_train))\n",
    "print(\"Training Set Mean Absolute Error: %.4f\" % mse)\n",
    "\n",
    "# Find the error rate on the test set using the best parameters\n",
    "mse = mean_absolute_error(y_test, gs_cv.predict(X_test))\n",
    "print(\"Test Set Mean Absolute Error: %.4f\" % mse)\n"
   ]
  },
  {
   "cell_type": "code",
   "execution_count": 78,
   "metadata": {},
   "outputs": [
    {
     "name": "stdout",
     "output_type": "stream",
     "text": [
      "Training Set Mean Absolute Error: 36.9240\n",
      "Test Set Mean Absolute Error: 54.0250\n"
     ]
    }
   ],
   "source": [
    "#Fit regression model\n",
    "model = ensemble.GradientBoostingRegressor(\n",
    "    n_estimators=1000,\n",
    "    learning_rate=0.05,\n",
    "    max_depth=6,\n",
    "    min_samples_leaf = 3,\n",
    "    max_features=0.1,\n",
    "    loss='huber',\n",
    "    random_state=0\n",
    ")\n",
    "model.fit(X_train, y_train)\n",
    "# Save the trained model to a file so we can use it in other programs\n",
    "#joblib.dump(model, 'trained_house_classifier_model_year_sq.pkl')\n",
    "\n",
    "# Find the error rate on the training set\n",
    "mse = mean_absolute_error(y_train, model.predict(X_train))\n",
    "print(\"Training Set Mean Absolute Error: %.4f\" % mse)\n",
    "\n",
    "# Find the error rate on the test set\n",
    "mse = mean_absolute_error(y_test, model.predict(X_test))\n",
    "print(\"Test Set Mean Absolute Error: %.4f\" % mse)"
   ]
  },
  {
   "cell_type": "markdown",
   "metadata": {},
   "source": [
    "#### We overfit a lot ! Let's try to delete redundant features."
   ]
  },
  {
   "cell_type": "code",
   "execution_count": 71,
   "metadata": {},
   "outputs": [],
   "source": [
    "#First, we try to suppress some features to reduce overfitting\n",
    "del data_borough['Value']\n",
    "del data_borough['Cleanliness']\n",
    "del data_borough['Check-In']"
   ]
  },
  {
   "cell_type": "code",
   "execution_count": 72,
   "metadata": {},
   "outputs": [],
   "source": [
    "X3_train, X3_test, y3_train, y3_test = train_test_split(X, y, test_size=0.1)"
   ]
  },
  {
   "cell_type": "code",
   "execution_count": 76,
   "metadata": {},
   "outputs": [
    {
     "name": "stderr",
     "output_type": "stream",
     "text": [
      "/anaconda3/lib/python3.7/site-packages/sklearn/model_selection/_split.py:2053: FutureWarning: You should specify a value for 'cv' instead of relying on the default value. The default value will change from 3 to 5 in version 0.22.\n",
      "  warnings.warn(CV_WARNING, FutureWarning)\n"
     ]
    },
    {
     "name": "stdout",
     "output_type": "stream",
     "text": [
      "{'learning_rate': 0.02, 'loss': 'huber', 'max_depth': 6, 'max_features': 1.0, 'min_samples_leaf': 3, 'n_estimators': 500}\n",
      "Training Set Mean Absolute Error: 36.8007\n",
      "Test Set Mean Absolute Error: 50.8095\n"
     ]
    }
   ],
   "source": [
    "# Create the model\n",
    "model = ensemble.GradientBoostingRegressor()\n",
    "\n",
    "# Parameters we want to try\n",
    "param_grid = {\n",
    "    'n_estimators': [500, 1000, 2000],\n",
    "    'max_depth': [4, 6],\n",
    "    'min_samples_leaf': [3, 5, 9],\n",
    "    'learning_rate': [0.1, 0.05, 0.02],\n",
    "    'max_features': [1.0, 0.3, 0.1],\n",
    "    'loss': ['ls', 'lad', 'huber']\n",
    "}\n",
    "\n",
    "# Define the grid search we want to run. Run it with six cpus in parallel.\n",
    "gs_cv = GridSearchCV(model, param_grid, n_jobs=6)\n",
    "\n",
    "# Run the grid search - on only the training data!\n",
    "gs_cv.fit(X3_train, y3_train)\n",
    "\n",
    "# Print the parameters that gave us the best result!\n",
    "print(gs_cv.best_params_)\n",
    "\n",
    "# Find the error rate on the training set using the best parameters\n",
    "mse = mean_absolute_error(y3_train, gs_cv.predict(X3_train))\n",
    "print(\"Training Set Mean Absolute Error: %.4f\" % mse)\n",
    "\n",
    "# Find the error rate on the test set using the best parameters\n",
    "mse = mean_absolute_error(y3_test, gs_cv.predict(X3_test))\n",
    "print(\"Test Set Mean Absolute Error: %.4f\" % mse)"
   ]
  },
  {
   "cell_type": "code",
   "execution_count": 83,
   "metadata": {},
   "outputs": [
    {
     "name": "stdout",
     "output_type": "stream",
     "text": [
      "Training Set Mean Absolute Error: 42.7619\n",
      "Test Set Mean Absolute Error: 48.1655\n"
     ]
    }
   ],
   "source": [
    "#Fit regression model\n",
    "model = ensemble.GradientBoostingRegressor(\n",
    "    n_estimators=500,\n",
    "    learning_rate=0.02,\n",
    "    max_depth=9,\n",
    "    min_samples_leaf=12,\n",
    "    max_features=0.1,\n",
    "    loss='huber',\n",
    "    #random_state=0\n",
    ")\n",
    "model.fit(X3_train, y3_train)\n",
    "# Save the trained model to a file so we can use it in other programs\n",
    "#joblib.dump(model, 'trained_house_classifier_model_year_sq.pkl')\n",
    "\n",
    "# Find the error rate on the training set\n",
    "mse = mean_absolute_error(y3_train, model.predict(X3_train))\n",
    "print(\"Training Set Mean Absolute Error: %.4f\" % mse)\n",
    "\n",
    "# Find the error rate on the test set\n",
    "mse = mean_absolute_error(y3_test, model.predict(X3_test))\n",
    "print(\"Test Set Mean Absolute Error: %.4f\" % mse)"
   ]
  },
  {
   "cell_type": "markdown",
   "metadata": {},
   "source": [
    "#### We still overfit, but less and the results are better than without the ratings. Still we need to get rid of the outlier values."
   ]
  },
  {
   "cell_type": "code",
   "execution_count": 98,
   "metadata": {},
   "outputs": [
    {
     "name": "stdout",
     "output_type": "stream",
     "text": [
      "y: (3483,)\n",
      "X: (3483, 12)\n"
     ]
    }
   ],
   "source": [
    "data_borough = pd.read_csv(filename)\n",
    "data_borough = data_borough[data_borough['price'] <= 300]\n",
    "y = data_borough['price']\n",
    "del data_borough['Unnamed: 0']\n",
    "del data_borough['price']\n",
    "del data_borough['number_of_reviews']\n",
    "del data_borough['reviews_per_month']\n",
    "del data_borough['Value']\n",
    "del data_borough['Cleanliness']\n",
    "del data_borough['Check-In']\n",
    "data_borough['availability_365'] = (data_borough['availability_365'] - data_borough['availability_365'].mean())/(data_borough['availability_365'].std())**2\n",
    "data_borough['minimum_nights'] = (data_borough['minimum_nights'] - data_borough['minimum_nights'].mean())/(data_borough['minimum_nights'].std())**2\n",
    "data_borough['Accuracy'] = (data_borough['Accuracy'] - data_borough['Accuracy'].mean())/(data_borough['Accuracy'].std())**2\n",
    "data_borough['Communication'] = (data_borough['Communication'] - data_borough['Communication'].mean())/(data_borough['Communication'].std())**2\n",
    "data_borough['Location'] = (data_borough['Location'] - data_borough['Location'].mean())/(data_borough['Location'].std())**2\n",
    "X = data_borough\n",
    "print('y:', y.shape)\n",
    "print('X:', X.shape)"
   ]
  },
  {
   "cell_type": "code",
   "execution_count": 99,
   "metadata": {},
   "outputs": [],
   "source": [
    "X2_train, X2_test, y2_train, y2_test = train_test_split(X, y, test_size=0.1)"
   ]
  },
  {
   "cell_type": "code",
   "execution_count": 103,
   "metadata": {},
   "outputs": [
    {
     "name": "stderr",
     "output_type": "stream",
     "text": [
      "/anaconda3/lib/python3.7/site-packages/sklearn/model_selection/_split.py:2053: FutureWarning: You should specify a value for 'cv' instead of relying on the default value. The default value will change from 3 to 5 in version 0.22.\n",
      "  warnings.warn(CV_WARNING, FutureWarning)\n"
     ]
    },
    {
     "name": "stdout",
     "output_type": "stream",
     "text": [
      "{'learning_rate': 0.02, 'loss': 'huber', 'max_depth': 4, 'max_features': 0.3, 'min_samples_leaf': 9, 'n_estimators': 500}\n",
      "Training Set Mean Absolute Error: 29.4162\n",
      "Test Set Mean Absolute Error: 30.6588\n"
     ]
    }
   ],
   "source": [
    "# Create the model\n",
    "model = ensemble.GradientBoostingRegressor()\n",
    "\n",
    "# Parameters we want to try\n",
    "param_grid = {\n",
    "    'n_estimators': [500, 1000, 1500],\n",
    "    'max_depth': [4, 6],\n",
    "    'min_samples_leaf': [3, 5, 9],\n",
    "    'learning_rate': [0.1, 0.05, 0.02],\n",
    "    'max_features': [1.0, 0.3, 0.1],\n",
    "    'loss': ['huber']\n",
    "}\n",
    "\n",
    "# Define the grid search we want to run. Run it with six cpus in parallel.\n",
    "gs_cv = GridSearchCV(model, param_grid, n_jobs=6)\n",
    "\n",
    "# Run the grid search - on only the training data!\n",
    "gs_cv.fit(X2_train, y2_train)\n",
    "\n",
    "# Print the parameters that gave us the best result!\n",
    "print(gs_cv.best_params_)\n",
    "\n",
    "# Find the error rate on the training set using the best parameters\n",
    "mse = mean_absolute_error(y2_train, gs_cv.predict(X2_train))\n",
    "print(\"Training Set Mean Absolute Error: %.4f\" % mse)\n",
    "\n",
    "# Find the error rate on the test set using the best parameters\n",
    "mse = mean_absolute_error(y2_test, gs_cv.predict(X2_test))\n",
    "print(\"Test Set Mean Absolute Error: %.4f\" % mse)"
   ]
  },
  {
   "cell_type": "code",
   "execution_count": 105,
   "metadata": {},
   "outputs": [
    {
     "name": "stdout",
     "output_type": "stream",
     "text": [
      "Training Set Mean Absolute Error: 28.4671\n",
      "Test Set Mean Absolute Error: 30.5577\n"
     ]
    }
   ],
   "source": [
    "#Fit regression model\n",
    "model = ensemble.GradientBoostingRegressor(\n",
    "    n_estimators=500,\n",
    "    learning_rate=0.02,\n",
    "    max_depth=6,\n",
    "    min_samples_leaf=9,\n",
    "    max_features=0.1,\n",
    "    loss='huber',\n",
    "    #random_state=0\n",
    ")\n",
    "model.fit(X2_train, y2_train)\n",
    "# Save the trained model to a file so we can use it in other programs\n",
    "#joblib.dump(model, 'trained_house_classifier_model_year_sq.pkl')\n",
    "\n",
    "# Find the error rate on the training set\n",
    "mse = mean_absolute_error(y2_train, model.predict(X2_train))\n",
    "print(\"Training Set Mean Absolute Error: %.4f\" % mse)\n",
    "\n",
    "# Find the error rate on the test set\n",
    "mse = mean_absolute_error(y2_test, model.predict(X2_test))\n",
    "print(\"Test Set Mean Absolute Error: %.4f\" % mse)"
   ]
  },
  {
   "cell_type": "code",
   "execution_count": 106,
   "metadata": {},
   "outputs": [
    {
     "data": {
      "text/plain": [
       "['Neighborhoods_near_Columbia_300.pkl']"
      ]
     },
     "execution_count": 106,
     "metadata": {},
     "output_type": "execute_result"
    }
   ],
   "source": [
    "# Save the trained model to a file so we can use it in other programs\n",
    "joblib.dump(model, 'Neighborhoods_near_Columbia_300.pkl')"
   ]
  },
  {
   "cell_type": "markdown",
   "metadata": {},
   "source": [
    "#### The results are slightly better than for the previous model without outliers. It is not very surprising since the price and the ratings were barely correlated. We verify that the ratings are not very explanatory of the price."
   ]
  },
  {
   "cell_type": "markdown",
   "metadata": {},
   "source": [
    "### Random Forest"
   ]
  },
  {
   "cell_type": "code",
   "execution_count": 107,
   "metadata": {},
   "outputs": [
    {
     "name": "stderr",
     "output_type": "stream",
     "text": [
      "/anaconda3/lib/python3.7/site-packages/sklearn/model_selection/_split.py:652: Warning: The least populated class in y has only 1 members, which is too few. The minimum number of members in any class cannot be less than n_splits=3.\n",
      "  % (min_groups, self.n_splits)), Warning)\n"
     ]
    },
    {
     "data": {
      "text/plain": [
       "(0.07603714426054341,\n",
       " {'max_depth': 4,\n",
       "  'min_samples_leaf': 16,\n",
       "  'min_samples_split': 8,\n",
       "  'n_estimators': 100})"
      ]
     },
     "execution_count": 107,
     "metadata": {},
     "output_type": "execute_result"
    }
   ],
   "source": [
    "from sklearn.ensemble import RandomForestClassifier\n",
    "import numpy as np\n",
    "model = RandomForestClassifier()\n",
    "\n",
    "parameters = {\n",
    "     'n_estimators':(30, 50, 100), #the number of trees\n",
    "     'max_depth':(4,6,10),\n",
    "     'min_samples_split': (2, 4, 8),\n",
    "     'min_samples_leaf': (4,8,12,16)\n",
    "}\n",
    "\n",
    "model = GridSearchCV(RandomForestClassifier(),parameters,cv=3,iid=False)\n",
    "model.fit(X_train, y_train)\n",
    "model.best_score_, model.best_params_"
   ]
  },
  {
   "cell_type": "code",
   "execution_count": 108,
   "metadata": {},
   "outputs": [
    {
     "name": "stdout",
     "output_type": "stream",
     "text": [
      "Training Set Mean Absolute Error: 53.6726\n",
      "Test Set Mean Absolute Error: 49.6866\n"
     ]
    }
   ],
   "source": [
    "#Fit regression model\n",
    "model = RandomForestClassifier(n_estimators=100, max_depth=4, min_samples_leaf=16, min_samples_split=8)\n",
    "\n",
    "model.fit(X3_train, y3_train)\n",
    "# Save the trained model to a file so we can use it in other programs\n",
    "#joblib.dump(model, 'trained_house_classifier_model_year_sq.pkl')\n",
    "\n",
    "# Find the error rate on the training set\n",
    "mse = mean_absolute_error(y3_train, model.predict(X3_train))\n",
    "print(\"Training Set Mean Absolute Error: %.4f\" % mse)\n",
    "\n",
    "# Find the error rate on the test set\n",
    "mse = mean_absolute_error(y3_test, model.predict(X3_test))\n",
    "print(\"Test Set Mean Absolute Error: %.4f\" % mse)"
   ]
  },
  {
   "cell_type": "code",
   "execution_count": 112,
   "metadata": {},
   "outputs": [
    {
     "name": "stdout",
     "output_type": "stream",
     "text": [
      "Training Set Mean Absolute Error: 34.1685\n",
      "Test Set Mean Absolute Error: 33.7135\n"
     ]
    }
   ],
   "source": [
    "#Fit regression model\n",
    "model = RandomForestClassifier(n_estimators=100, max_depth=4, min_samples_leaf=16, min_samples_split=8)\n",
    "\n",
    "model.fit(X2_train, y2_train)\n",
    "# Save the trained model to a file so we can use it in other programs\n",
    "#joblib.dump(model, 'trained_house_classifier_model_year_sq.pkl')\n",
    "\n",
    "# Find the error rate on the training set\n",
    "mse = mean_absolute_error(y2_train, model.predict(X2_train))\n",
    "print(\"Training Set Mean Absolute Error: %.4f\" % mse)\n",
    "\n",
    "# Find the error rate on the test set\n",
    "mse = mean_absolute_error(y2_test, model.predict(X2_test))\n",
    "print(\"Test Set Mean Absolute Error: %.4f\" % mse)"
   ]
  },
  {
   "cell_type": "markdown",
   "metadata": {},
   "source": [
    "#### Almost match the performances of Gradient boosting"
   ]
  },
  {
   "cell_type": "markdown",
   "metadata": {},
   "source": [
    "### K-NN"
   ]
  },
  {
   "cell_type": "code",
   "execution_count": 90,
   "metadata": {},
   "outputs": [
    {
     "data": {
      "text/plain": [
       "[<matplotlib.lines.Line2D at 0x1a24436518>]"
      ]
     },
     "execution_count": 90,
     "metadata": {},
     "output_type": "execute_result"
    },
    {
     "data": {
      "image/png": "[encoded data removed]",
      "text/plain": [
       "<Figure size 432x288 with 1 Axes>"
      ]
     },
     "metadata": {
      "needs_background": "light"
     },
     "output_type": "display_data"
    }
   ],
   "source": [
    "errors=list()\n",
    "for K in range(100):\n",
    "    knn_model = KNeighborsClassifier(K+1)\n",
    "    knn_model.fit(X3_train,y3_train)\n",
    "    errors.append(mean_squared_error(y3_test,knn_model.predict(X3_test)))\n",
    "plt.plot(errors)"
   ]
  },
  {
   "cell_type": "code",
   "execution_count": 91,
   "metadata": {},
   "outputs": [
    {
     "name": "stdout",
     "output_type": "stream",
     "text": [
      "mean absolute error on test set: 70.80\n"
     ]
    }
   ],
   "source": [
    "bestK = np.argmin(errors)+1\n",
    "knn_model = KNeighborsClassifier(bestK)\n",
    "knn_model.fit(X3_train,y3_train)\n",
    "ypred_test = knn_model.predict(X3_test)\n",
    "print('mean absolute error on test set: %.2f' % mean_absolute_error(y3_test,ypred_test))"
   ]
  },
  {
   "cell_type": "code",
   "execution_count": 92,
   "metadata": {},
   "outputs": [
    {
     "data": {
      "text/plain": [
       "count     550.000000\n",
       "mean      141.125455\n",
       "std       152.446893\n",
       "min        16.000000\n",
       "25%        75.000000\n",
       "50%       100.000000\n",
       "75%       170.000000\n",
       "max      2000.000000\n",
       "Name: price, dtype: float64"
      ]
     },
     "execution_count": 92,
     "metadata": {},
     "output_type": "execute_result"
    }
   ],
   "source": [
    "y_test.describe()"
   ]
  },
  {
   "cell_type": "code",
   "execution_count": 93,
   "metadata": {},
   "outputs": [
    {
     "data": {
      "text/plain": [
       "count    367.000000\n",
       "mean     105.171662\n",
       "std       39.772790\n",
       "min       50.000000\n",
       "25%       75.000000\n",
       "50%      100.000000\n",
       "75%      150.000000\n",
       "max      250.000000\n",
       "dtype: float64"
      ]
     },
     "execution_count": 93,
     "metadata": {},
     "output_type": "execute_result"
    }
   ],
   "source": [
    "pd.Series(ypred_test).describe()"
   ]
  },
  {
   "cell_type": "markdown",
   "metadata": {},
   "source": [
    "#### Training the model without outlier values"
   ]
  },
  {
   "cell_type": "code",
   "execution_count": 100,
   "metadata": {},
   "outputs": [],
   "source": [
    "errors2 = list()\n",
    "for K in range(100):\n",
    "    knn_model = KNeighborsClassifier(K+1)\n",
    "    knn_model.fit(X2_train,y2_train)\n",
    "    errors2.append(mean_squared_error(y2_test,knn_model.predict(X2_test)))"
   ]
  },
  {
   "cell_type": "code",
   "execution_count": 101,
   "metadata": {},
   "outputs": [
    {
     "data": {
      "text/plain": [
       "[<matplotlib.lines.Line2D at 0x1a3936b860>]"
      ]
     },
     "execution_count": 101,
     "metadata": {},
     "output_type": "execute_result"
    },
    {
     "data": {
      "image/png": "[encoded data removed]",
      "text/plain": [
       "<Figure size 432x288 with 1 Axes>"
      ]
     },
     "metadata": {
      "needs_background": "light"
     },
     "output_type": "display_data"
    }
   ],
   "source": [
    "plt.plot(errors2)"
   ]
  },
  {
   "cell_type": "code",
   "execution_count": 102,
   "metadata": {},
   "outputs": [
    {
     "name": "stdout",
     "output_type": "stream",
     "text": [
      "mean absolute error on test set: 53.74\n"
     ]
    }
   ],
   "source": [
    "bestK2 = np.argmin(errors2)+1\n",
    "knn_model = KNeighborsClassifier(bestK2)\n",
    "knn_model.fit(X2_train,y2_train)\n",
    "ypred_val2 = knn_model.predict(X2_test)\n",
    "print('mean absolute error on test set: %.2f' % mean_absolute_error(y2_test,ypred_val2))"
   ]
  }
 ],
 "metadata": {
  "kernelspec": {
   "display_name": "Python 3",
   "language": "python",
   "name": "python3"
  },
  "language_info": {
   "codemirror_mode": {
    "name": "ipython",
    "version": 3
   },
   "file_extension": ".py",
   "mimetype": "text/x-python",
   "name": "python",
   "nbconvert_exporter": "python",
   "pygments_lexer": "ipython3",
   "version": "3.7.1"
  }
 },
 "nbformat": 4,
 "nbformat_minor": 2
}
