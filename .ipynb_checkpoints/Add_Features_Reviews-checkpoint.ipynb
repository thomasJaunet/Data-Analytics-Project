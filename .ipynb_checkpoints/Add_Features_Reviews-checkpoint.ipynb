{
 "cells": [
  {
   "cell_type": "markdown",
   "metadata": {},
   "source": [
    "# Reviews\n",
    "### This notebook is meant to add new features to our listings: the reviews\n",
    "## 7 Reviews are available in the code by default, additionaly, we are collecting the host description "
   ]
  },
  {
   "cell_type": "code",
   "execution_count": 1,
   "metadata": {},
   "outputs": [],
   "source": [
    "import time   \n",
    "from random import randint\n",
    "from bs4 import BeautifulSoup\n",
    "import re\n",
    "import urllib\n",
    "import requests\n",
    "import pandas as pd\n",
    "import numpy as np\n",
    "\n",
    "def get_result(room_):\n",
    "    hdr = {'User-Agent': \n",
    "           'Mozilla/5.0 (X11; Linux x86_64) AppleWebKit/537.11 (KHTML, like Gecko) Chrome/23.0.1271.64 Safari/537.11'}\n",
    "    room=str(room_)\n",
    "    url = \"https://www.airbnb.com/rooms/\"\n",
    "    search= '?guests=1&adults=1'\n",
    "    url_=url+room+search\n",
    "    time.sleep(randint(0,1))\n",
    "    response = requests.get(url_, hdr, timeout=20)\n",
    "    result_page = BeautifulSoup(response.content,'lxml')\n",
    "    \n",
    "    return result_page\n",
    "\n",
    "def get_avail(room_):\n",
    "    result_page = get_result(room_)\n",
    "    meta_=result_page.find_all(id=\"reviews\") #If empty, listing is not available\n",
    "    if meta_==[]:\n",
    "        available_=False\n",
    "    else:\n",
    "        available_=True\n",
    "\n",
    "    return available_"
   ]
  },
  {
   "cell_type": "code",
   "execution_count": 9,
   "metadata": {},
   "outputs": [],
   "source": [
    "def reviews(room_): \n",
    "    result_page = get_result(room_)\n",
    "    available_=get_avail(room_)\n",
    "    \n",
    "        \n",
    "    try:\n",
    "        \n",
    "        if available_==False:\n",
    "            review_df=pd.DataFrame([[np.NAN, np.NAN, np.NAN, np.NAN, np.NAN, np.NAN, np.NAN, np.NAN]],index = [room_], \n",
    "                    columns = ['Review 1','Review 2','Review 3','Review 4','Review 5','Review 6','Review 7','Description'])\n",
    "    \n",
    "        else:\n",
    "            abc_=result_page.find_all(type=\"application/json\")[2].get_text()\n",
    "            \n",
    "            rev_=(abc_[abc_.find('\"sorted_reviews\"')+17:abc_.rfind('\"visible_review_count\"')-1])\n",
    "\n",
    "            rev_1=rev_[rev_.find('\"comments\"')+11:rev_.find('\"id\"')-1]\n",
    "\n",
    "            rev_=rev_[rev_.find('\"id\"')+5:]\n",
    "            rev_=rev_[rev_.find('\"comments\"'):]\n",
    "            rev_2=rev_[rev_.find('\"comments\"')+11:rev_.find('\"id\"')-1]\n",
    "\n",
    "            rev_=rev_[rev_.find('\"id\"')+5:]\n",
    "            rev_=rev_[rev_.find('\"comments\"'):]  \n",
    "            rev_3=rev_[rev_.find('\"comments\"')+11:rev_.find('\"id\"')-1]\n",
    "\n",
    "            rev_=rev_[rev_.find('\"id\"')+5:]\n",
    "            rev_=rev_[rev_.find('\"comments\"'):]\n",
    "            rev_4=rev_[rev_.find('\"comments\"')+11:rev_.find('\"id\"')-1]\n",
    "\n",
    "            rev_=rev_[rev_.find('\"id\"')+5:]\n",
    "            rev_=rev_[rev_.find('\"comments\"'):]\n",
    "            rev_5=rev_[rev_.find('\"comments\"')+11:rev_.find('\"id\"')-1]\n",
    "\n",
    "            rev_=rev_[rev_.find('\"id\"')+5:]\n",
    "            rev_=rev_[rev_.find('\"comments\"'):]\n",
    "            rev_6=rev_[rev_.find('\"comments\"')+11:rev_.find('\"id\"')-1]\n",
    "\n",
    "            rev_=rev_[rev_.find('\"id\"')+5:]\n",
    "            rev_=rev_[rev_.find('\"comments\"'):]\n",
    "            rev_7=rev_[rev_.find('\"comments\"')+11:rev_.find('\"id\"')-1]\n",
    "            \n",
    "            descrip_=(abc_[abc_.find('sectioned_description'):abc_.find('\"star_rating\"')])\n",
    "\n",
    "            rev_summ=[rev_1,rev_2,rev_3,rev_4,rev_5,rev_6,rev_7,descrip_]\n",
    "                        \n",
    "            review_df=pd.DataFrame([rev_summ],index = [room_], \n",
    "                    columns = ['Review 1','Review 2','Review 3','Review 4','Review 5','Review 6','Review 7','Description'])\n",
    "            \n",
    "        return review_df\n",
    "        \n",
    "    except:\n",
    "        \n",
    "        print(\"Didn't work\",'Room:',room_)\n",
    "        return pd.DataFrame([[np.NAN, np.NAN, np.NAN, np.NAN, np.NAN, np.NAN, np.NAN, np.NAN]],index = [room_], \n",
    "                    columns = ['Review 1','Review 2','Review 3','Review 4','Review 5','Review 6','Review 7','Description'])\n",
    "    "
   ]
  },
  {
   "cell_type": "code",
   "execution_count": 3,
   "metadata": {},
   "outputs": [
    {
     "data": {
      "text/html": [
       "<div>\n",
       "<style scoped>\n",
       "    .dataframe tbody tr th:only-of-type {\n",
       "        vertical-align: middle;\n",
       "    }\n",
       "\n",
       "    .dataframe tbody tr th {\n",
       "        vertical-align: top;\n",
       "    }\n",
       "\n",
       "    .dataframe thead th {\n",
       "        text-align: right;\n",
       "    }\n",
       "</style>\n",
       "<table border=\"1\" class=\"dataframe\">\n",
       "  <thead>\n",
       "    <tr style=\"text-align: right;\">\n",
       "      <th></th>\n",
       "      <th>id</th>\n",
       "      <th>price</th>\n",
       "      <th>minimum_nights</th>\n",
       "      <th>number_of_reviews</th>\n",
       "      <th>reviews_per_month</th>\n",
       "      <th>availability_365</th>\n",
       "      <th>room_type_Entire home/apt</th>\n",
       "      <th>room_type_Private room</th>\n",
       "      <th>room_type_Shared room</th>\n",
       "      <th>neighbourhood_Harlem</th>\n",
       "      <th>neighbourhood_Morningside Heights</th>\n",
       "      <th>neighbourhood_Upper West Side</th>\n",
       "    </tr>\n",
       "  </thead>\n",
       "  <tbody>\n",
       "    <tr>\n",
       "      <th>0</th>\n",
       "      <td>3647</td>\n",
       "      <td>150</td>\n",
       "      <td>3</td>\n",
       "      <td>0</td>\n",
       "      <td>0.00</td>\n",
       "      <td>365</td>\n",
       "      <td>0</td>\n",
       "      <td>1</td>\n",
       "      <td>0</td>\n",
       "      <td>1</td>\n",
       "      <td>0</td>\n",
       "      <td>0</td>\n",
       "    </tr>\n",
       "    <tr>\n",
       "      <th>1</th>\n",
       "      <td>5203</td>\n",
       "      <td>79</td>\n",
       "      <td>2</td>\n",
       "      <td>118</td>\n",
       "      <td>1.03</td>\n",
       "      <td>0</td>\n",
       "      <td>0</td>\n",
       "      <td>1</td>\n",
       "      <td>0</td>\n",
       "      <td>0</td>\n",
       "      <td>0</td>\n",
       "      <td>1</td>\n",
       "    </tr>\n",
       "    <tr>\n",
       "      <th>2</th>\n",
       "      <td>5295</td>\n",
       "      <td>135</td>\n",
       "      <td>5</td>\n",
       "      <td>43</td>\n",
       "      <td>0.36</td>\n",
       "      <td>53</td>\n",
       "      <td>1</td>\n",
       "      <td>0</td>\n",
       "      <td>0</td>\n",
       "      <td>0</td>\n",
       "      <td>0</td>\n",
       "      <td>1</td>\n",
       "    </tr>\n",
       "    <tr>\n",
       "      <th>3</th>\n",
       "      <td>6021</td>\n",
       "      <td>85</td>\n",
       "      <td>2</td>\n",
       "      <td>100</td>\n",
       "      <td>0.84</td>\n",
       "      <td>365</td>\n",
       "      <td>0</td>\n",
       "      <td>1</td>\n",
       "      <td>0</td>\n",
       "      <td>0</td>\n",
       "      <td>0</td>\n",
       "      <td>1</td>\n",
       "    </tr>\n",
       "    <tr>\n",
       "      <th>4</th>\n",
       "      <td>9668</td>\n",
       "      <td>50</td>\n",
       "      <td>3</td>\n",
       "      <td>230</td>\n",
       "      <td>2.02</td>\n",
       "      <td>348</td>\n",
       "      <td>0</td>\n",
       "      <td>1</td>\n",
       "      <td>0</td>\n",
       "      <td>1</td>\n",
       "      <td>0</td>\n",
       "      <td>0</td>\n",
       "    </tr>\n",
       "  </tbody>\n",
       "</table>\n",
       "</div>"
      ],
      "text/plain": [
       "     id  price  minimum_nights  number_of_reviews  reviews_per_month  \\\n",
       "0  3647    150               3                  0               0.00   \n",
       "1  5203     79               2                118               1.03   \n",
       "2  5295    135               5                 43               0.36   \n",
       "3  6021     85               2                100               0.84   \n",
       "4  9668     50               3                230               2.02   \n",
       "\n",
       "   availability_365  room_type_Entire home/apt  room_type_Private room  \\\n",
       "0               365                          0                       1   \n",
       "1                 0                          0                       1   \n",
       "2                53                          1                       0   \n",
       "3               365                          0                       1   \n",
       "4               348                          0                       1   \n",
       "\n",
       "   room_type_Shared room  neighbourhood_Harlem  \\\n",
       "0                      0                     1   \n",
       "1                      0                     0   \n",
       "2                      0                     0   \n",
       "3                      0                     0   \n",
       "4                      0                     1   \n",
       "\n",
       "   neighbourhood_Morningside Heights  neighbourhood_Upper West Side  \n",
       "0                                  0                              0  \n",
       "1                                  0                              1  \n",
       "2                                  0                              1  \n",
       "3                                  0                              1  \n",
       "4                                  0                              0  "
      ]
     },
     "execution_count": 3,
     "metadata": {},
     "output_type": "execute_result"
    }
   ],
   "source": [
    "filename = 'listings_neibourhood.csv'\n",
    "data_borough = pd.read_csv(filename)\n",
    "del data_borough['Unnamed: 0']\n",
    "data_borough.head()"
   ]
  },
  {
   "cell_type": "code",
   "execution_count": 11,
   "metadata": {},
   "outputs": [
    {
     "data": {
      "text/html": [
       "<div>\n",
       "<style scoped>\n",
       "    .dataframe tbody tr th:only-of-type {\n",
       "        vertical-align: middle;\n",
       "    }\n",
       "\n",
       "    .dataframe tbody tr th {\n",
       "        vertical-align: top;\n",
       "    }\n",
       "\n",
       "    .dataframe thead th {\n",
       "        text-align: right;\n",
       "    }\n",
       "</style>\n",
       "<table border=\"1\" class=\"dataframe\">\n",
       "  <thead>\n",
       "    <tr style=\"text-align: right;\">\n",
       "      <th></th>\n",
       "      <th>Review 1</th>\n",
       "      <th>Review 2</th>\n",
       "      <th>Review 3</th>\n",
       "      <th>Review 4</th>\n",
       "      <th>Review 5</th>\n",
       "      <th>Review 6</th>\n",
       "      <th>Review 7</th>\n",
       "      <th>Description</th>\n",
       "    </tr>\n",
       "  </thead>\n",
       "  <tbody>\n",
       "    <tr>\n",
       "      <th>5203</th>\n",
       "      <td>\"fantastic. great stay and nice people \"</td>\n",
       "      <td>\"Great location, 5min walk to Columbia campus;...</td>\n",
       "      <td>\"Great price for the room and location. My hos...</td>\n",
       "      <td>\"Welcoming space, clean, great location, comfo...</td>\n",
       "      <td>\"Hands down my favorite Airbnb listing where I...</td>\n",
       "      <td>\"MaryEllen is a very nice, hospitable person. ...</td>\n",
       "      <td>\"The whole family is amazing, including their ...</td>\n",
       "      <td>sectioned_description\":{\"access\":\"Guests will ...</td>\n",
       "    </tr>\n",
       "  </tbody>\n",
       "</table>\n",
       "</div>"
      ],
      "text/plain": [
       "                                      Review 1  \\\n",
       "5203  \"fantastic. great stay and nice people \"   \n",
       "\n",
       "                                               Review 2  \\\n",
       "5203  \"Great location, 5min walk to Columbia campus;...   \n",
       "\n",
       "                                               Review 3  \\\n",
       "5203  \"Great price for the room and location. My hos...   \n",
       "\n",
       "                                               Review 4  \\\n",
       "5203  \"Welcoming space, clean, great location, comfo...   \n",
       "\n",
       "                                               Review 5  \\\n",
       "5203  \"Hands down my favorite Airbnb listing where I...   \n",
       "\n",
       "                                               Review 6  \\\n",
       "5203  \"MaryEllen is a very nice, hospitable person. ...   \n",
       "\n",
       "                                               Review 7  \\\n",
       "5203  \"The whole family is amazing, including their ...   \n",
       "\n",
       "                                            Description  \n",
       "5203  sectioned_description\":{\"access\":\"Guests will ...  "
      ]
     },
     "execution_count": 11,
     "metadata": {},
     "output_type": "execute_result"
    }
   ],
   "source": [
    "reviews(5203)"
   ]
  },
  {
   "cell_type": "code",
   "execution_count": 10,
   "metadata": {},
   "outputs": [
    {
     "data": {
      "text/plain": [
       "5296"
      ]
     },
     "execution_count": 10,
     "metadata": {},
     "output_type": "execute_result"
    }
   ],
   "source": [
    "ids = data_borough['id']\n",
    "len(ids)"
   ]
  },
  {
   "cell_type": "code",
   "execution_count": 6,
   "metadata": {},
   "outputs": [
    {
     "data": {
      "text/plain": [
       "0    3647\n",
       "1    5203\n",
       "2    5295\n",
       "3    6021\n",
       "4    9668\n",
       "Name: id, dtype: int64"
      ]
     },
     "execution_count": 6,
     "metadata": {},
     "output_type": "execute_result"
    }
   ],
   "source": [
    "ids.head()"
   ]
  },
  {
   "cell_type": "markdown",
   "metadata": {},
   "source": [
    "Data frame is generated in small batch in order to mitigate mistakes due to internet connections, loading errors, etc. There is a timeout between each call to avoid blockage from AirBNB"
   ]
  },
  {
   "cell_type": "code",
   "execution_count": 13,
   "metadata": {},
   "outputs": [],
   "source": [
    "#Generating Data Frame \n",
    "review_ = reviews(ids.iloc[0])"
   ]
  },
  {
   "cell_type": "code",
   "execution_count": 14,
   "metadata": {},
   "outputs": [
    {
     "name": "stdout",
     "output_type": "stream",
     "text": [
      "step 50\n",
      "step 100\n",
      "Didn't work Room: 310338\n",
      "step 150\n",
      "step 200\n",
      "Didn't work Room: 770893\n",
      "step 250\n",
      "Didn't work Room: 842494\n",
      "step 300\n",
      "step 350\n",
      "Didn't work Room: 1567225\n",
      "step 400\n",
      "step 450\n",
      "done\n"
     ]
    }
   ],
   "source": [
    "#Generating 1st 1000 entries\n",
    "for i in range(1,500):\n",
    "    review_ = review_.append(reviews(ids.iloc[i]))\n",
    "    if i%50 == 0:\n",
    "        print('step',i)\n",
    "print('done')"
   ]
  },
  {
   "cell_type": "code",
   "execution_count": 15,
   "metadata": {},
   "outputs": [
    {
     "name": "stdout",
     "output_type": "stream",
     "text": [
      "step 500\n",
      "step 550\n",
      "step 600\n",
      "Didn't work Room: 3139749\n",
      "Didn't work Room: 3359315\n",
      "step 650\n",
      "Didn't work Room: 3838375\n",
      "step 700\n",
      "step 750\n",
      "step 800\n",
      "Didn't work Room: 4572225\n",
      "step 850\n",
      "Didn't work Room: 4778638\n",
      "step 900\n",
      "step 950\n",
      "done\n"
     ]
    }
   ],
   "source": [
    "#Generating 1st 1000 entries\n",
    "for i in range(500,1000):\n",
    "    review_ = review_.append(reviews(ids.iloc[i]))\n",
    "    if i%50 == 0:\n",
    "        print('step',i)\n",
    "print('done')"
   ]
  },
  {
   "cell_type": "code",
   "execution_count": 16,
   "metadata": {},
   "outputs": [
    {
     "name": "stdout",
     "output_type": "stream",
     "text": [
      "step 1000\n",
      "Didn't work Room: 5763191\n",
      "Didn't work Room: 5944801\n",
      "step 1050\n",
      "step 1100\n",
      "Didn't work Room: 6590570\n",
      "Didn't work Room: 6644669\n",
      "step 1150\n",
      "step 1200\n",
      "step 1250\n",
      "step 1300\n",
      "Didn't work Room: 7799045\n",
      "Didn't work Room: 7823121\n",
      "step 1350\n",
      "step 1400\n",
      "step 1450\n",
      "done\n"
     ]
    }
   ],
   "source": [
    "#Generating next entries\n",
    "for i in range(1000,1500):\n",
    "    review_ = review_.append(reviews(ids.iloc[i]))\n",
    "    if i%50 == 0:\n",
    "        print('step',i)\n",
    "print('done')"
   ]
  },
  {
   "cell_type": "code",
   "execution_count": 17,
   "metadata": {},
   "outputs": [],
   "source": [
    "bak1500_=review_ #Backup dataframe"
   ]
  },
  {
   "cell_type": "code",
   "execution_count": 18,
   "metadata": {},
   "outputs": [
    {
     "name": "stdout",
     "output_type": "stream",
     "text": [
      "step 1500\n",
      "step 1550\n",
      "Didn't work Room: 9341671\n",
      "step 1600\n",
      "step 1650\n",
      "step 1700\n",
      "step 1750\n",
      "step 1800\n",
      "step 1850\n",
      "step 1900\n",
      "step 1950\n",
      "done\n"
     ]
    }
   ],
   "source": [
    "#Generating next entries\n",
    "for i in range(1500,2000):\n",
    "    review_ = review_.append(reviews(ids.iloc[i]))\n",
    "    if i%50 == 0:\n",
    "        print('step',i)\n",
    "print('done')"
   ]
  },
  {
   "cell_type": "code",
   "execution_count": 19,
   "metadata": {},
   "outputs": [
    {
     "name": "stdout",
     "output_type": "stream",
     "text": [
      "step 2000\n",
      "Didn't work Room: 12315833\n",
      "step 2050\n",
      "step 2100\n",
      "Didn't work Room: 12967227\n",
      "step 2150\n",
      "step 2200\n",
      "step 2250\n",
      "Didn't work Room: 13559208\n",
      "step 2300\n",
      "step 2350\n",
      "step 2400\n",
      "step 2450\n",
      "done\n"
     ]
    }
   ],
   "source": [
    "#Generating next entries\n",
    "for i in range(2000,2500):\n",
    "    review_ = review_.append(reviews(ids.iloc[i]))\n",
    "    if i%50 == 0:\n",
    "        print('step',i)\n",
    "print('done')"
   ]
  },
  {
   "cell_type": "code",
   "execution_count": 20,
   "metadata": {},
   "outputs": [],
   "source": [
    "bak2500_=review_ #Backup dataframe"
   ]
  },
  {
   "cell_type": "code",
   "execution_count": 21,
   "metadata": {},
   "outputs": [
    {
     "name": "stdout",
     "output_type": "stream",
     "text": [
      "step 2500\n",
      "Didn't work Room: 15234755\n",
      "step 2550\n",
      "step 2600\n",
      "step 2650\n",
      "step 2700\n",
      "step 2750\n",
      "Didn't work Room: 17304795\n",
      "step 2800\n",
      "step 2850\n",
      "step 2900\n",
      "step 2950\n",
      "done\n"
     ]
    }
   ],
   "source": [
    "#Generating next entries\n",
    "for i in range(2500,3000):\n",
    "    review_ = review_.append(reviews(ids.iloc[i]))\n",
    "    if i%50 == 0:\n",
    "        print('step',i)\n",
    "print('done')"
   ]
  },
  {
   "cell_type": "code",
   "execution_count": 22,
   "metadata": {},
   "outputs": [
    {
     "name": "stdout",
     "output_type": "stream",
     "text": [
      "step 3000\n",
      "step 3050\n",
      "step 3100\n",
      "Didn't work Room: 19389911\n",
      "step 3150\n",
      "step 3200\n",
      "step 3250\n",
      "step 3300\n",
      "step 3350\n",
      "step 3400\n",
      "step 3450\n",
      "done\n"
     ]
    }
   ],
   "source": [
    "#Generating next entries\n",
    "for i in range(3000,3500):\n",
    "    review_ = review_.append(reviews(ids.iloc[i]))\n",
    "    if i%50 == 0:\n",
    "        print('step',i)\n",
    "print('done')"
   ]
  },
  {
   "cell_type": "code",
   "execution_count": 23,
   "metadata": {},
   "outputs": [],
   "source": [
    "bak3500_=review_ #Backup dataframe"
   ]
  },
  {
   "cell_type": "code",
   "execution_count": 24,
   "metadata": {},
   "outputs": [
    {
     "name": "stdout",
     "output_type": "stream",
     "text": [
      "step 3500\n",
      "step 3550\n",
      "step 3600\n",
      "step 3650\n",
      "step 3700\n",
      "step 3750\n",
      "step 3800\n",
      "step 3850\n",
      "step 3900\n",
      "step 3950\n",
      "done\n"
     ]
    }
   ],
   "source": [
    "#Generating next entries\n",
    "for i in range(3500,4000):\n",
    "    review_ = review_.append(reviews(ids.iloc[i]))\n",
    "    if i%50 == 0:\n",
    "        print('step',i)\n",
    "print('done')"
   ]
  },
  {
   "cell_type": "code",
   "execution_count": 25,
   "metadata": {},
   "outputs": [
    {
     "name": "stdout",
     "output_type": "stream",
     "text": [
      "step 4000\n",
      "Didn't work Room: 24621401\n",
      "Didn't work Room: 24624581\n",
      "step 4050\n",
      "step 4100\n",
      "Didn't work Room: 25291991\n",
      "step 4150\n",
      "step 4200\n",
      "Didn't work Room: 26025770\n",
      "step 4250\n",
      "step 4300\n",
      "Didn't work Room: 26995950\n",
      "step 4350\n",
      "step 4400\n",
      "step 4450\n",
      "done\n"
     ]
    }
   ],
   "source": [
    "#Generating next entries\n",
    "for i in range(4000,4500):\n",
    "    review_ = review_.append(reviews(ids.iloc[i]))\n",
    "    if i%50 == 0:\n",
    "        print('step',i)\n",
    "print('done')"
   ]
  },
  {
   "cell_type": "code",
   "execution_count": 26,
   "metadata": {},
   "outputs": [
    {
     "name": "stdout",
     "output_type": "stream",
     "text": [
      "step 4500\n",
      "step 4550\n",
      "step 4600\n",
      "Didn't work Room: 29035502\n",
      "step 4650\n",
      "step 4700\n",
      "step 4750\n",
      "step 4800\n",
      "step 4850\n",
      "step 4900\n",
      "step 4950\n",
      "done\n"
     ]
    }
   ],
   "source": [
    "#Generating next entries\n",
    "for i in range(4500,5000):\n",
    "    review_ = review_.append(reviews(ids.iloc[i]))\n",
    "    if i%50 == 0:\n",
    "        print('step',i)\n",
    "print('done')"
   ]
  },
  {
   "cell_type": "code",
   "execution_count": 27,
   "metadata": {},
   "outputs": [
    {
     "name": "stdout",
     "output_type": "stream",
     "text": [
      "step 5000\n",
      "step 5050\n",
      "step 5100\n",
      "step 5150\n",
      "step 5200\n",
      "step 5250\n",
      "Didn't work Room: 31988004\n",
      "done\n"
     ]
    }
   ],
   "source": [
    "#Generating next entries\n",
    "for i in range(5000,len(ids)):\n",
    "    review_ = review_.append(reviews(ids.iloc[i]))\n",
    "    if i%50 == 0:\n",
    "        print('step',i)\n",
    "print('done')"
   ]
  },
  {
   "cell_type": "code",
   "execution_count": 28,
   "metadata": {},
   "outputs": [],
   "source": [
    "bakfull_=review_ #Backup dataframe"
   ]
  },
  {
   "cell_type": "code",
   "execution_count": 32,
   "metadata": {},
   "outputs": [
    {
     "name": "stdout",
     "output_type": "stream",
     "text": [
      "<class 'pandas.core.frame.DataFrame'>\n",
      "Int64Index: 5296 entries, 3647 to 32053614\n",
      "Data columns (total 8 columns):\n",
      "Review 1       4550 non-null object\n",
      "Review 2       4550 non-null object\n",
      "Review 3       4550 non-null object\n",
      "Review 4       4550 non-null object\n",
      "Review 5       4550 non-null object\n",
      "Review 6       4550 non-null object\n",
      "Review 7       4550 non-null object\n",
      "Description    4550 non-null object\n",
      "dtypes: object(8)\n",
      "memory usage: 372.4+ KB\n"
     ]
    }
   ],
   "source": [
    "review_.info()"
   ]
  },
  {
   "cell_type": "markdown",
   "metadata": {},
   "source": [
    "Generating a new dataframe to replace failed attempts of several listings"
   ]
  },
  {
   "cell_type": "code",
   "execution_count": 33,
   "metadata": {},
   "outputs": [
    {
     "name": "stdout",
     "output_type": "stream",
     "text": [
      "0     310338\n",
      "1     770893\n",
      "2     842494\n",
      "3    1567225\n",
      "4    3139749\n",
      "Name: id, dtype: int64\n",
      "DataPoints: 29\n"
     ]
    }
   ],
   "source": [
    "missing_=[310338,770893,842494,1567225,3139749,3359315,3838375,4572225,4778638,5763191,5944801,6590570,6644669,\n",
    "          7799045,7823121,9341671,12315833,12967227,13559208,15234755,17304795,19389911, 24621401,24624581,\n",
    "          25291991,26025770,26995950,29035502,31988004]\n",
    "\n",
    "miss_df=pd.DataFrame(missing_, columns=['id'])\n",
    "ids_miss = miss_df['id']\n",
    "print(ids_miss.head())\n",
    "print('DataPoints:',len(ids_miss))"
   ]
  },
  {
   "cell_type": "code",
   "execution_count": 34,
   "metadata": {
    "scrolled": true
   },
   "outputs": [
    {
     "name": "stdout",
     "output_type": "stream",
     "text": [
      "step 5\n",
      "step 10\n",
      "step 15\n",
      "step 20\n",
      "step 25\n",
      "done\n"
     ]
    }
   ],
   "source": [
    "#Generating Data Frame for Missed Listings\n",
    "review_miss = reviews(ids_miss.iloc[0])\n",
    "#Generating next entries\n",
    "for i in range(1,len(ids_miss)):\n",
    "    review_miss = review_miss.append(reviews(ids_miss.iloc[i]))\n",
    "    if i%5 == 0:\n",
    "        print('step',i)\n",
    "print('done')"
   ]
  },
  {
   "cell_type": "code",
   "execution_count": 41,
   "metadata": {},
   "outputs": [
    {
     "data": {
      "text/html": [
       "<div>\n",
       "<style scoped>\n",
       "    .dataframe tbody tr th:only-of-type {\n",
       "        vertical-align: middle;\n",
       "    }\n",
       "\n",
       "    .dataframe tbody tr th {\n",
       "        vertical-align: top;\n",
       "    }\n",
       "\n",
       "    .dataframe thead th {\n",
       "        text-align: right;\n",
       "    }\n",
       "</style>\n",
       "<table border=\"1\" class=\"dataframe\">\n",
       "  <thead>\n",
       "    <tr style=\"text-align: right;\">\n",
       "      <th></th>\n",
       "      <th>Review 1</th>\n",
       "      <th>Review 2</th>\n",
       "      <th>Review 3</th>\n",
       "      <th>Review 4</th>\n",
       "      <th>Review 5</th>\n",
       "      <th>Review 6</th>\n",
       "      <th>Review 7</th>\n",
       "      <th>Description</th>\n",
       "    </tr>\n",
       "  </thead>\n",
       "  <tbody>\n",
       "    <tr>\n",
       "      <th>310338</th>\n",
       "      <td>\"Kimberly’s apartment was very clean and homey...</td>\n",
       "      <td>\"The host canceled this reservation 23 days be...</td>\n",
       "      <td>\"We had a bit of a miscommunication on my arri...</td>\n",
       "      <td>\"Kimberly was very nice and accommodating. Sta...</td>\n",
       "      <td>\"Kimberly was awesome! She was wicked accommod...</td>\n",
       "      <td>\"Kimberly is a great host. Laid back and is a ...</td>\n",
       "      <td>\"This was a great stay.  A secure building and...</td>\n",
       "      <td>sectioned_description\":{\"access\":null,\"author_...</td>\n",
       "    </tr>\n",
       "    <tr>\n",
       "      <th>770893</th>\n",
       "      <td>\"Victoria was very flexible and able to work w...</td>\n",
       "      <td>\"Great apartment and location! Victoria was a ...</td>\n",
       "      <td>\"The host canceled this reservation 23 days be...</td>\n",
       "      <td></td>\n",
       "      <td></td>\n",
       "      <td></td>\n",
       "      <td></td>\n",
       "      <td>sectioned_description\":{\"access\":null,\"author_...</td>\n",
       "    </tr>\n",
       "    <tr>\n",
       "      <th>842494</th>\n",
       "      <td>\"Staying at Lisa´s apartment was great. The pl...</td>\n",
       "      <td></td>\n",
       "      <td></td>\n",
       "      <td></td>\n",
       "      <td></td>\n",
       "      <td></td>\n",
       "      <td></td>\n",
       "      <td>sectioned_description\":{\"access\":\"Immaculate l...</td>\n",
       "    </tr>\n",
       "    <tr>\n",
       "      <th>1567225</th>\n",
       "      <td>\"The apartment is so very convenient to the su...</td>\n",
       "      <td>\"Great location and hospitality.  Matt's place...</td>\n",
       "      <td>\"Great location near the subway and Central Park\"</td>\n",
       "      <td>\"Matt's apt is very interesting. His house is ...</td>\n",
       "      <td>\"The host was welcoming and very accommodating...</td>\n",
       "      <td>\"Hard-to-beat location, with super-convenient ...</td>\n",
       "      <td>\"The reservation was canceled 28 days before a...</td>\n",
       "      <td>sectioned_description\":{\"access\":\"We have Wifi...</td>\n",
       "    </tr>\n",
       "    <tr>\n",
       "      <th>3139749</th>\n",
       "      <td>\"Jack was a great host.  He was very responsiv...</td>\n",
       "      <td>\"Jack was wonderfully helpful (as in, like, he...</td>\n",
       "      <td>\"Jack is a really welcoming person! \\r\\nAs I a...</td>\n",
       "      <td></td>\n",
       "      <td></td>\n",
       "      <td></td>\n",
       "      <td></td>\n",
       "      <td>sectioned_description\":{\"access\":\"You have acc...</td>\n",
       "    </tr>\n",
       "  </tbody>\n",
       "</table>\n",
       "</div>"
      ],
      "text/plain": [
       "                                                  Review 1  \\\n",
       "310338   \"Kimberly’s apartment was very clean and homey...   \n",
       "770893   \"Victoria was very flexible and able to work w...   \n",
       "842494   \"Staying at Lisa´s apartment was great. The pl...   \n",
       "1567225  \"The apartment is so very convenient to the su...   \n",
       "3139749  \"Jack was a great host.  He was very responsiv...   \n",
       "\n",
       "                                                  Review 2  \\\n",
       "310338   \"The host canceled this reservation 23 days be...   \n",
       "770893   \"Great apartment and location! Victoria was a ...   \n",
       "842494                                                       \n",
       "1567225  \"Great location and hospitality.  Matt's place...   \n",
       "3139749  \"Jack was wonderfully helpful (as in, like, he...   \n",
       "\n",
       "                                                  Review 3  \\\n",
       "310338   \"We had a bit of a miscommunication on my arri...   \n",
       "770893   \"The host canceled this reservation 23 days be...   \n",
       "842494                                                       \n",
       "1567225  \"Great location near the subway and Central Park\"   \n",
       "3139749  \"Jack is a really welcoming person! \\r\\nAs I a...   \n",
       "\n",
       "                                                  Review 4  \\\n",
       "310338   \"Kimberly was very nice and accommodating. Sta...   \n",
       "770893                                                       \n",
       "842494                                                       \n",
       "1567225  \"Matt's apt is very interesting. His house is ...   \n",
       "3139749                                                      \n",
       "\n",
       "                                                  Review 5  \\\n",
       "310338   \"Kimberly was awesome! She was wicked accommod...   \n",
       "770893                                                       \n",
       "842494                                                       \n",
       "1567225  \"The host was welcoming and very accommodating...   \n",
       "3139749                                                      \n",
       "\n",
       "                                                  Review 6  \\\n",
       "310338   \"Kimberly is a great host. Laid back and is a ...   \n",
       "770893                                                       \n",
       "842494                                                       \n",
       "1567225  \"Hard-to-beat location, with super-convenient ...   \n",
       "3139749                                                      \n",
       "\n",
       "                                                  Review 7  \\\n",
       "310338   \"This was a great stay.  A secure building and...   \n",
       "770893                                                       \n",
       "842494                                                       \n",
       "1567225  \"The reservation was canceled 28 days before a...   \n",
       "3139749                                                      \n",
       "\n",
       "                                               Description  \n",
       "310338   sectioned_description\":{\"access\":null,\"author_...  \n",
       "770893   sectioned_description\":{\"access\":null,\"author_...  \n",
       "842494   sectioned_description\":{\"access\":\"Immaculate l...  \n",
       "1567225  sectioned_description\":{\"access\":\"We have Wifi...  \n",
       "3139749  sectioned_description\":{\"access\":\"You have acc...  "
      ]
     },
     "execution_count": 41,
     "metadata": {},
     "output_type": "execute_result"
    }
   ],
   "source": [
    "review_miss.head()"
   ]
  },
  {
   "cell_type": "code",
   "execution_count": 37,
   "metadata": {
    "scrolled": true
   },
   "outputs": [
    {
     "name": "stdout",
     "output_type": "stream",
     "text": [
      "<class 'pandas.core.frame.DataFrame'>\n",
      "Int64Index: 5296 entries, 3647 to 31988004\n",
      "Data columns (total 8 columns):\n",
      "Review 1       4579 non-null object\n",
      "Review 2       4579 non-null object\n",
      "Review 3       4579 non-null object\n",
      "Review 4       4579 non-null object\n",
      "Review 5       4579 non-null object\n",
      "Review 6       4579 non-null object\n",
      "Review 7       4579 non-null object\n",
      "Description    4579 non-null object\n",
      "dtypes: object(8)\n",
      "memory usage: 372.4+ KB\n"
     ]
    }
   ],
   "source": [
    "#Complementing missed listings\n",
    "bak_=review_.drop(missing_) #Dropping initially missed listings with succesful attempts\n",
    "\n",
    "complete_=pd.concat([bak_,review_miss])\n",
    "complete_.info()"
   ]
  },
  {
   "cell_type": "code",
   "execution_count": 38,
   "metadata": {},
   "outputs": [],
   "source": [
    "#Generating csv file to export Ratings\n",
    "complete_.to_csv('reviews.csv')"
   ]
  }
 ],
 "metadata": {
  "kernelspec": {
   "display_name": "Python 3",
   "language": "python",
   "name": "python3"
  },
  "language_info": {
   "codemirror_mode": {
    "name": "ipython",
    "version": 3
   },
   "file_extension": ".py",
   "mimetype": "text/x-python",
   "name": "python",
   "nbconvert_exporter": "python",
   "pygments_lexer": "ipython3",
   "version": "3.6.5"
  }
 },
 "nbformat": 4,
 "nbformat_minor": 2
}
