{
 "cells": [
  {
   "cell_type": "markdown",
   "metadata": {},
   "source": [
    "# Ratings\n",
    "\n",
    "This notebook is meant to add new features to our listings: the ratings"
   ]
  },
  {
   "cell_type": "code",
   "execution_count": 1,
   "metadata": {},
   "outputs": [],
   "source": [
    "import time   \n",
    "from random import randint\n",
    "from bs4 import BeautifulSoup\n",
    "import re\n",
    "import urllib\n",
    "import requests\n",
    "import pandas as pd\n",
    "import numpy as np\n",
    "\n",
    "def get_result(room_):\n",
    "    hdr = {'User-Agent': \n",
    "           'Mozilla/5.0 (X11; Linux x86_64) AppleWebKit/537.11 (KHTML, like Gecko) Chrome/23.0.1271.64 Safari/537.11'}\n",
    "    room=str(room_)\n",
    "    url = \"https://www.airbnb.com/rooms/\"\n",
    "    search= '?guests=1&adults=1'\n",
    "    url_=url+room+search\n",
    "    time.sleep(randint(0,1))\n",
    "    response = requests.get(url_, hdr, timeout=20)\n",
    "    result_page = BeautifulSoup(response.content,'lxml')\n",
    "    \n",
    "    return result_page\n",
    "\n",
    "def get_avail(room_):\n",
    "    result_page = get_result(room_)\n",
    "    meta_=result_page.find_all(id=\"reviews\") #If empty, listing is not available\n",
    "    if meta_==[]:\n",
    "        available_=False\n",
    "    else:\n",
    "        available_=True\n",
    "\n",
    "    return available_"
   ]
  },
  {
   "cell_type": "code",
   "execution_count": 2,
   "metadata": {},
   "outputs": [],
   "source": [
    "def ratings(room_): \n",
    "    result_page = get_result(room_)\n",
    "    available_=get_avail(room_)\n",
    "        \n",
    "    try:\n",
    "        \n",
    "        if available_==False:\n",
    "            rating_df=pd.DataFrame([[np.NAN, np.NAN, np.NAN, np.NAN, np.NAN, np.NAN, np.NAN]],index = [room_], \n",
    "                    columns = ['Stars','Accuracy','Communication','Cleanliness','Location','Check-In','Value'])\n",
    "    \n",
    "        else:\n",
    "            abc_=result_page.find_all(type=\"application/json\")[2].get_text()\n",
    "\n",
    "            # AirBNB has 6 main categories in the reviews:\n",
    "            # Accuracy, Communication, Cleanliness, Location, Check-in & Value\n",
    "\n",
    "            acc_=(abc_[abc_.rfind('\"label\":\"Accuracy\"')-4:abc_.rfind('\"label\":\"Accuracy\"')]).replace(':',\"\").replace(',',\n",
    "                                                                    \"\").replace('\"',\"\").replace('}',\"\").replace('-',\"\")\n",
    "            comm_=(abc_[abc_.rfind('\"label\":\"Communication\"')-4:abc_.rfind('\"label\":\"Communication\"')]).replace(':',\n",
    "                                                \"\").replace(',',\"\").replace('\"',\"\").replace('}',\"\").replace('-',\"\")\n",
    "            cle_=(abc_[abc_.rfind('\"label\":\"Cleanliness\"')-4:abc_.rfind('\"label\":\"Cleanliness\"')]).replace(':',\n",
    "                                            \"\").replace(',',\"\").replace('\"',\"\").replace('}',\"\").replace('-',\"\")\n",
    "            loc_=(abc_[abc_.rfind('\"label\":\"Location\"')-4:abc_.rfind('\"label\":\"Location\"')]).replace(':',\n",
    "                                    \"\").replace(',',\"\").replace('\"',\"\").replace('}',\"\").replace('-',\"\")\n",
    "            che_=(abc_[abc_.rfind('\"label\":\"Check-in\"')-4:abc_.rfind('\"label\":\"Check-in\"')]).replace(':',\n",
    "                                    \"\").replace(',',\"\").replace('\"',\"\").replace('}',\"\").replace('-',\"\")\n",
    "            val_=(abc_[abc_.rfind('\"label\":\"Value\"')-4:abc_.rfind('\"label\":\"Value\"')]).replace(':',\n",
    "                            \"\").replace(',',\"\").replace('\"',\"\").replace('}',\"\").replace('-',\"\")\n",
    "            star_=(abc_[abc_.find('\"star_rating\"')+14:abc_.find('\"star_rating\"')+19]).replace(':',\n",
    "                                 \"\").replace(',',\"\").replace('\"',\"\").replace('t','').replace('i','').replace('ralU',\"\")\n",
    "\n",
    "            # Ratings\n",
    "            rat_=[star_,acc_,comm_,cle_,loc_,che_,val_]\n",
    "            arr_=np.array(rat_)\n",
    "            arr_=[arr_]\n",
    "            lab_=['Stars','Accuracy','Communication','Cleanliness','Location','Check-In','Value']\n",
    "\n",
    "            rating_df=pd.DataFrame(arr_,index=[room_],columns=lab_)\n",
    "\n",
    "        return rating_df\n",
    "        \n",
    "    except:\n",
    "        \n",
    "        print(\"Didn't work\",'Room:',room_)\n",
    "        return pd.DataFrame([[np.NAN, np.NAN, np.NAN, np.NAN, np.NAN, np.NAN, np.NAN]],index = [room_], columns = ['Stars',\n",
    "                                    'Accuracy','Communication','Cleanliness','Location','Check-In','Value'])\n",
    "    "
   ]
  },
  {
   "cell_type": "code",
   "execution_count": 34,
   "metadata": {},
   "outputs": [
    {
     "data": {
      "text/html": [
       "<div>\n",
       "<style scoped>\n",
       "    .dataframe tbody tr th:only-of-type {\n",
       "        vertical-align: middle;\n",
       "    }\n",
       "\n",
       "    .dataframe tbody tr th {\n",
       "        vertical-align: top;\n",
       "    }\n",
       "\n",
       "    .dataframe thead th {\n",
       "        text-align: right;\n",
       "    }\n",
       "</style>\n",
       "<table border=\"1\" class=\"dataframe\">\n",
       "  <thead>\n",
       "    <tr style=\"text-align: right;\">\n",
       "      <th></th>\n",
       "      <th>id</th>\n",
       "      <th>price</th>\n",
       "      <th>minimum_nights</th>\n",
       "      <th>number_of_reviews</th>\n",
       "      <th>reviews_per_month</th>\n",
       "      <th>availability_365</th>\n",
       "      <th>room_type_Entire home/apt</th>\n",
       "      <th>room_type_Private room</th>\n",
       "      <th>room_type_Shared room</th>\n",
       "      <th>neighbourhood_Harlem</th>\n",
       "      <th>neighbourhood_Morningside Heights</th>\n",
       "      <th>neighbourhood_Upper West Side</th>\n",
       "    </tr>\n",
       "  </thead>\n",
       "  <tbody>\n",
       "    <tr>\n",
       "      <th>0</th>\n",
       "      <td>3647</td>\n",
       "      <td>150</td>\n",
       "      <td>3</td>\n",
       "      <td>0</td>\n",
       "      <td>0.00</td>\n",
       "      <td>365</td>\n",
       "      <td>0</td>\n",
       "      <td>1</td>\n",
       "      <td>0</td>\n",
       "      <td>1</td>\n",
       "      <td>0</td>\n",
       "      <td>0</td>\n",
       "    </tr>\n",
       "    <tr>\n",
       "      <th>1</th>\n",
       "      <td>5203</td>\n",
       "      <td>79</td>\n",
       "      <td>2</td>\n",
       "      <td>118</td>\n",
       "      <td>1.03</td>\n",
       "      <td>0</td>\n",
       "      <td>0</td>\n",
       "      <td>1</td>\n",
       "      <td>0</td>\n",
       "      <td>0</td>\n",
       "      <td>0</td>\n",
       "      <td>1</td>\n",
       "    </tr>\n",
       "    <tr>\n",
       "      <th>2</th>\n",
       "      <td>5295</td>\n",
       "      <td>135</td>\n",
       "      <td>5</td>\n",
       "      <td>43</td>\n",
       "      <td>0.36</td>\n",
       "      <td>53</td>\n",
       "      <td>1</td>\n",
       "      <td>0</td>\n",
       "      <td>0</td>\n",
       "      <td>0</td>\n",
       "      <td>0</td>\n",
       "      <td>1</td>\n",
       "    </tr>\n",
       "    <tr>\n",
       "      <th>3</th>\n",
       "      <td>6021</td>\n",
       "      <td>85</td>\n",
       "      <td>2</td>\n",
       "      <td>100</td>\n",
       "      <td>0.84</td>\n",
       "      <td>365</td>\n",
       "      <td>0</td>\n",
       "      <td>1</td>\n",
       "      <td>0</td>\n",
       "      <td>0</td>\n",
       "      <td>0</td>\n",
       "      <td>1</td>\n",
       "    </tr>\n",
       "    <tr>\n",
       "      <th>4</th>\n",
       "      <td>9668</td>\n",
       "      <td>50</td>\n",
       "      <td>3</td>\n",
       "      <td>230</td>\n",
       "      <td>2.02</td>\n",
       "      <td>348</td>\n",
       "      <td>0</td>\n",
       "      <td>1</td>\n",
       "      <td>0</td>\n",
       "      <td>1</td>\n",
       "      <td>0</td>\n",
       "      <td>0</td>\n",
       "    </tr>\n",
       "  </tbody>\n",
       "</table>\n",
       "</div>"
      ],
      "text/plain": [
       "     id  price  minimum_nights  number_of_reviews  reviews_per_month  \\\n",
       "0  3647    150               3                  0               0.00   \n",
       "1  5203     79               2                118               1.03   \n",
       "2  5295    135               5                 43               0.36   \n",
       "3  6021     85               2                100               0.84   \n",
       "4  9668     50               3                230               2.02   \n",
       "\n",
       "   availability_365  room_type_Entire home/apt  room_type_Private room  \\\n",
       "0               365                          0                       1   \n",
       "1                 0                          0                       1   \n",
       "2                53                          1                       0   \n",
       "3               365                          0                       1   \n",
       "4               348                          0                       1   \n",
       "\n",
       "   room_type_Shared room  neighbourhood_Harlem  \\\n",
       "0                      0                     1   \n",
       "1                      0                     0   \n",
       "2                      0                     0   \n",
       "3                      0                     0   \n",
       "4                      0                     1   \n",
       "\n",
       "   neighbourhood_Morningside Heights  neighbourhood_Upper West Side  \n",
       "0                                  0                              0  \n",
       "1                                  0                              1  \n",
       "2                                  0                              1  \n",
       "3                                  0                              1  \n",
       "4                                  0                              0  "
      ]
     },
     "execution_count": 34,
     "metadata": {},
     "output_type": "execute_result"
    }
   ],
   "source": [
    "filename = 'listings_neibourhood.csv'\n",
    "data_borough = pd.read_csv(filename)\n",
    "del data_borough['Unnamed: 0']\n",
    "data_borough.head()"
   ]
  },
  {
   "cell_type": "code",
   "execution_count": 9,
   "metadata": {},
   "outputs": [
    {
     "data": {
      "text/plain": [
       "5296"
      ]
     },
     "execution_count": 9,
     "metadata": {},
     "output_type": "execute_result"
    }
   ],
   "source": [
    "ids = data_borough['id']\n",
    "len(ids)"
   ]
  },
  {
   "cell_type": "code",
   "execution_count": 16,
   "metadata": {},
   "outputs": [
    {
     "data": {
      "text/plain": [
       "0    3647\n",
       "1    5203\n",
       "2    5295\n",
       "3    6021\n",
       "4    9668\n",
       "Name: id, dtype: int64"
      ]
     },
     "execution_count": 16,
     "metadata": {},
     "output_type": "execute_result"
    }
   ],
   "source": [
    "ids.head()"
   ]
  },
  {
   "cell_type": "markdown",
   "metadata": {},
   "source": [
    "Data frame is generated in small batch in order to mitigate mistakes due to internet connections, loading errors, etc. There is a timeout between each call to avoid blockage from AirBNB"
   ]
  },
  {
   "cell_type": "code",
   "execution_count": 5,
   "metadata": {},
   "outputs": [],
   "source": [
    "#Generating Data Frame \n",
    "rating_ = ratings(ids.iloc[0])"
   ]
  },
  {
   "cell_type": "code",
   "execution_count": 6,
   "metadata": {},
   "outputs": [
    {
     "name": "stdout",
     "output_type": "stream",
     "text": [
      "step 50\n",
      "step 100\n",
      "step 150\n",
      "step 200\n",
      "step 250\n",
      "step 300\n",
      "step 350\n",
      "step 400\n",
      "step 450\n",
      "step 500\n",
      "step 550\n",
      "step 600\n",
      "step 650\n",
      "Didn't work Room: 3818298\n",
      "step 700\n",
      "Didn't work Room: 4121110\n",
      "step 750\n",
      "step 800\n",
      "step 850\n",
      "step 900\n",
      "step 950\n",
      "done\n"
     ]
    }
   ],
   "source": [
    "#Generating 1st 1000 entries\n",
    "for i in range(1,1000):\n",
    "    rating_ = rating_.append(ratings(ids.iloc[i]))\n",
    "    if i%50 == 0:\n",
    "        print('step',i)\n",
    "print('done')"
   ]
  },
  {
   "cell_type": "code",
   "execution_count": 12,
   "metadata": {},
   "outputs": [
    {
     "name": "stdout",
     "output_type": "stream",
     "text": [
      "step 1000\n",
      "step 1050\n",
      "step 1100\n",
      "Didn't work Room: 6471117\n",
      "step 1150\n",
      "step 1200\n",
      "Didn't work Room: 7034609\n",
      "Didn't work Room: 7279583\n",
      "step 1250\n",
      "step 1300\n",
      "step 1350\n",
      "step 1400\n",
      "step 1450\n",
      "done\n"
     ]
    }
   ],
   "source": [
    "#Generating next entries\n",
    "for i in range(1000,1500):\n",
    "    rating_ = rating_.append(ratings(ids.iloc[i]))\n",
    "    if i%50 == 0:\n",
    "        print('step',i)\n",
    "print('done')"
   ]
  },
  {
   "cell_type": "code",
   "execution_count": 29,
   "metadata": {},
   "outputs": [
    {
     "name": "stdout",
     "output_type": "stream",
     "text": [
      "step 1500\n",
      "Didn't work Room: 9022118\n",
      "step 1550\n",
      "Didn't work Room: 9249597\n",
      "Didn't work Room: 9296089\n",
      "Didn't work Room: 9405466\n",
      "step 1600\n",
      "step 1650\n",
      "Didn't work Room: 9839017\n",
      "step 1700\n",
      "step 1750\n",
      "step 1800\n",
      "Didn't work Room: 10367220\n",
      "Didn't work Room: 10704981\n",
      "step 1850\n",
      "step 1900\n",
      "step 1950\n",
      "done\n"
     ]
    }
   ],
   "source": [
    "#Generating next entries\n",
    "for i in range(1500,2000):\n",
    "    rating_ = rating_.append(ratings(ids.iloc[i]))\n",
    "    if i%50 == 0:\n",
    "        print('step',i)\n",
    "print('done')"
   ]
  },
  {
   "cell_type": "code",
   "execution_count": 81,
   "metadata": {},
   "outputs": [
    {
     "name": "stdout",
     "output_type": "stream",
     "text": [
      "step 2000\n",
      "Didn't work Room: 12535946\n",
      "step 2050\n",
      "Didn't work Room: 12774249\n",
      "Didn't work Room: 12798141\n",
      "step 2100\n",
      "step 2150\n",
      "step 2200\n",
      "step 2250\n",
      "step 2300\n",
      "step 2350\n",
      "step 2400\n",
      "step 2450\n",
      "Didn't work Room: 15062944\n",
      "done\n"
     ]
    }
   ],
   "source": [
    "#Generating next entries\n",
    "for i in range(2000,2500):\n",
    "    rating_ = rating_.append(ratings(ids.iloc[i]))\n",
    "    if i%50 == 0:\n",
    "        print('step',i)\n",
    "print('done')"
   ]
  },
  {
   "cell_type": "code",
   "execution_count": 82,
   "metadata": {},
   "outputs": [
    {
     "name": "stdout",
     "output_type": "stream",
     "text": [
      "step 2500\n",
      "step 2550\n",
      "step 2600\n",
      "step 2650\n",
      "step 2700\n",
      "Didn't work Room: 16804336\n",
      "step 2750\n",
      "step 2800\n",
      "step 2850\n",
      "step 2900\n",
      "Didn't work Room: 18209795\n",
      "Didn't work Room: 18264659\n",
      "step 2950\n",
      "done\n"
     ]
    }
   ],
   "source": [
    "#Generating next entries\n",
    "for i in range(2500,3000):\n",
    "    rating_ = rating_.append(ratings(ids.iloc[i]))\n",
    "    if i%50 == 0:\n",
    "        print('step',i)\n",
    "print('done')"
   ]
  },
  {
   "cell_type": "code",
   "execution_count": 83,
   "metadata": {},
   "outputs": [
    {
     "name": "stdout",
     "output_type": "stream",
     "text": [
      "step 3000\n",
      "step 3050\n",
      "step 3100\n",
      "Didn't work Room: 19495570\n",
      "step 3150\n",
      "step 3200\n",
      "step 3250\n",
      "step 3300\n",
      "step 3350\n",
      "Didn't work Room: 21133911\n",
      "step 3400\n",
      "Didn't work Room: 21324522\n",
      "step 3450\n",
      "done\n"
     ]
    }
   ],
   "source": [
    "#Generating next entries\n",
    "for i in range(3000,3500):\n",
    "    rating_ = rating_.append(ratings(ids.iloc[i]))\n",
    "    if i%50 == 0:\n",
    "        print('step',i)\n",
    "print('done')"
   ]
  },
  {
   "cell_type": "code",
   "execution_count": 84,
   "metadata": {},
   "outputs": [],
   "source": [
    "bak3500_=rating_ #Backup dataframe"
   ]
  },
  {
   "cell_type": "code",
   "execution_count": 85,
   "metadata": {},
   "outputs": [
    {
     "name": "stdout",
     "output_type": "stream",
     "text": [
      "step 3500\n",
      "step 3550\n",
      "Didn't work Room: 21892834\n",
      "step 3600\n",
      "step 3650\n",
      "Didn't work Room: 22265878\n",
      "step 3700\n",
      "step 3750\n",
      "Didn't work Room: 22881110\n",
      "step 3800\n",
      "Didn't work Room: 23336678\n",
      "Didn't work Room: 23378803\n",
      "step 3850\n",
      "step 3900\n",
      "step 3950\n",
      "done\n"
     ]
    }
   ],
   "source": [
    "#Generating next entries\n",
    "for i in range(3500,4000):\n",
    "    rating_ = rating_.append(ratings(ids.iloc[i]))\n",
    "    if i%50 == 0:\n",
    "        print('step',i)\n",
    "print('done')"
   ]
  },
  {
   "cell_type": "code",
   "execution_count": 86,
   "metadata": {},
   "outputs": [
    {
     "name": "stdout",
     "output_type": "stream",
     "text": [
      "step 4000\n",
      "step 4050\n",
      "step 4100\n",
      "step 4150\n",
      "step 4200\n",
      "step 4250\n",
      "Didn't work Room: 26313558\n",
      "Didn't work Room: 26318555\n",
      "step 4300\n",
      "step 4350\n",
      "Didn't work Room: 27230145\n",
      "step 4400\n",
      "step 4450\n",
      "Didn't work Room: 27926975\n",
      "done\n"
     ]
    }
   ],
   "source": [
    "#Generating next entries\n",
    "for i in range(4000,4500):\n",
    "    rating_ = rating_.append(ratings(ids.iloc[i]))\n",
    "    if i%50 == 0:\n",
    "        print('step',i)\n",
    "print('done')"
   ]
  },
  {
   "cell_type": "code",
   "execution_count": 87,
   "metadata": {},
   "outputs": [
    {
     "name": "stdout",
     "output_type": "stream",
     "text": [
      "step 4500\n",
      "Didn't work Room: 28438004\n",
      "step 4550\n",
      "step 4600\n",
      "step 4650\n",
      "step 4700\n",
      "step 4750\n",
      "step 4800\n",
      "step 4850\n",
      "Didn't work Room: 30232726\n",
      "step 4900\n",
      "Didn't work Room: 30388429\n",
      "step 4950\n",
      "done\n"
     ]
    }
   ],
   "source": [
    "#Generating next entries\n",
    "for i in range(4500,5000):\n",
    "    rating_ = rating_.append(ratings(ids.iloc[i]))\n",
    "    if i%50 == 0:\n",
    "        print('step',i)\n",
    "print('done')"
   ]
  },
  {
   "cell_type": "code",
   "execution_count": 88,
   "metadata": {},
   "outputs": [
    {
     "name": "stdout",
     "output_type": "stream",
     "text": [
      "step 5000\n",
      "step 5050\n",
      "step 5100\n",
      "step 5150\n",
      "step 5200\n",
      "Didn't work Room: 31802641\n",
      "step 5250\n",
      "done\n"
     ]
    }
   ],
   "source": [
    "#Generating next entries\n",
    "for i in range(5000,len(ids)):\n",
    "    rating_ = rating_.append(ratings(ids.iloc[i]))\n",
    "    if i%50 == 0:\n",
    "        print('step',i)\n",
    "print('done')"
   ]
  },
  {
   "cell_type": "code",
   "execution_count": 89,
   "metadata": {},
   "outputs": [],
   "source": [
    "bakfull_=rating_ #Backup dataframe"
   ]
  },
  {
   "cell_type": "markdown",
   "metadata": {},
   "source": [
    "Generating a new dataframe to replace failed attempts of several listings"
   ]
  },
  {
   "cell_type": "code",
   "execution_count": 101,
   "metadata": {},
   "outputs": [
    {
     "name": "stdout",
     "output_type": "stream",
     "text": [
      "0    3818298\n",
      "1    4121110\n",
      "2    6471117\n",
      "3    7034609\n",
      "4    7279583\n",
      "Name: id, dtype: int64\n",
      "DataPoints: 35\n"
     ]
    }
   ],
   "source": [
    "missing_=[3818298,4121110,6471117,7034609,7279583,9022118,9249597,9296089,9405466,9839017,10367220,\n",
    "          10704981,12535946,12774249,12798141,15062944,16804336,18209795,18264659,19495570,21133911,\n",
    "          21324522,21892834,22265878,22881110,23336678,23378803,26313558,26318555,27230145,27926975,\n",
    "          28438004,30232726,30388429,31802641]\n",
    "\n",
    "miss_df=pd.DataFrame(missing_, columns=['id'])\n",
    "ids_miss = miss_df['id']\n",
    "print(ids_miss.head())\n",
    "print('DataPoints:',len(ids_miss))"
   ]
  },
  {
   "cell_type": "code",
   "execution_count": 102,
   "metadata": {},
   "outputs": [
    {
     "name": "stdout",
     "output_type": "stream",
     "text": [
      "step 5\n",
      "step 10\n",
      "step 15\n",
      "step 20\n",
      "step 25\n",
      "step 30\n",
      "done\n"
     ]
    }
   ],
   "source": [
    "#Generating Data Frame for Missed Listings\n",
    "rating_miss = ratings(ids_miss.iloc[0])\n",
    "#Generating next entries\n",
    "for i in range(1,len(ids_miss)):\n",
    "    rating_miss = rating_miss.append(ratings(ids_miss.iloc[i]))\n",
    "    if i%5 == 0:\n",
    "        print('step',i)\n",
    "print('done')"
   ]
  },
  {
   "cell_type": "code",
   "execution_count": 115,
   "metadata": {
    "scrolled": true
   },
   "outputs": [
    {
     "name": "stdout",
     "output_type": "stream",
     "text": [
      "<class 'pandas.core.frame.DataFrame'>\n",
      "Int64Index: 5296 entries, 3647 to 31802641\n",
      "Data columns (total 7 columns):\n",
      "Stars            4591 non-null object\n",
      "Accuracy         4591 non-null object\n",
      "Communication    4591 non-null object\n",
      "Cleanliness      4591 non-null object\n",
      "Location         4591 non-null object\n",
      "Check-In         4591 non-null object\n",
      "Value            4591 non-null object\n",
      "dtypes: object(7)\n",
      "memory usage: 331.0+ KB\n"
     ]
    }
   ],
   "source": [
    "#Complementing missed listings\n",
    "bak_=rating_.drop(missing_) #Dropping initially missed listings with succesful attempts\n",
    "\n",
    "complete_=pd.concat([bak_,rating_miss])\n",
    "complete_.info()"
   ]
  },
  {
   "cell_type": "code",
   "execution_count": 123,
   "metadata": {},
   "outputs": [],
   "source": [
    "#Generating csv file to export Ratings\n",
    "complete_.to_csv('../files/ratings.csv')"
   ]
  }
 ],
 "metadata": {
  "kernelspec": {
   "display_name": "Python 3",
   "language": "python",
   "name": "python3"
  },
  "language_info": {
   "codemirror_mode": {
    "name": "ipython",
    "version": 3
   },
   "file_extension": ".py",
   "mimetype": "text/x-python",
   "name": "python",
   "nbconvert_exporter": "python",
   "pygments_lexer": "ipython3",
   "version": "3.7.1"
  }
 },
 "nbformat": 4,
 "nbformat_minor": 2
}
