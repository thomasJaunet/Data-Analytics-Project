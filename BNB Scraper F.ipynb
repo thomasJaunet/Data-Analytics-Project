{
 "cells": [
  {
   "cell_type": "code",
   "execution_count": 2,
   "metadata": {
    "scrolled": true
   },
   "outputs": [
    {
     "name": "stdout",
     "output_type": "stream",
     "text": [
      "https://www.airbnb.com/rooms/5203?guests=1&adults=1\n",
      "200\n",
      "True\n"
     ]
    }
   ],
   "source": [
    "import time   \n",
    "from random import randint\n",
    "from bs4 import BeautifulSoup\n",
    "import re\n",
    "import urllib\n",
    "import requests\n",
    "import pandas as pd\n",
    "import numpy as np\n",
    "\n",
    "hdr = {'User-Agent':\n",
    "   'Mozilla/5.0 (X11; Linux x86_64) AppleWebKit/537.11 (KHTML, like Gecko) Chrome/23.0.1271.64 Safari/537.11'}\n",
    "\n",
    "room_ = 5203\n",
    "\n",
    "# 27678634\n",
    "# 29564148\n",
    "# 5203\n",
    "room=str(room_)\n",
    "url = \"https://www.airbnb.com/rooms/\"\n",
    "search= '?guests=1&adults=1'\n",
    "\n",
    "url_=url+room+search\n",
    "\n",
    "time.sleep(randint(0,1))\n",
    "response = requests.get(url_, hdr, timeout=5)\n",
    "result_page = BeautifulSoup(response.content,'lxml')\n",
    "\n",
    "meta_=result_page.find_all(id=\"reviews\") #If empty, listing is not available\n",
    "\n",
    "if meta_==[]:\n",
    "    available_=False\n",
    "else:\n",
    "    available_=True\n",
    "\n",
    "print(url_)\n",
    "print(response.status_code)\n",
    "print(available_)\n",
    "\n",
    "# print(result_page.prettify())\n",
    "\n"
   ]
  },
  {
   "cell_type": "code",
   "execution_count": 3,
   "metadata": {
    "scrolled": true
   },
   "outputs": [
    {
     "name": "stdout",
     "output_type": "stream",
     "text": [
      "------- \n",
      " Short Description: Our best guests are seeking a safe, clean, spare room in a family apartment.  They are comfortable being independent, accommodating of family noise (quiet hours 11pm-7am), and aren't afraid of a friendly two year old golden lab (dog).  Our guests aren't put off by an old bathroom that while perfectly clean, has some peeling paint.  In short, our guests want to feel like they are staying at their sister's apartment while visiting the city! (only their sister changed the sheets and cleaned). \n",
      " ------- \n",
      " Adittional Desc: Welcome to family life with my oldest two away at college all the way down to a seventh grader. You may see everything from lively dinner conversation to a nearly empty apartment with everyone out enjoying the city.  I'm friendly, leave tea and coffee always available and…Read more \n",
      " ------- \n",
      " # of Reviews:  118\n"
     ]
    }
   ],
   "source": [
    "try:\n",
    "    short_desc=result_page.find_all('span',class_='_czm8crp')[4].get_text()\n",
    "except:\n",
    "    short_desc='None'\n",
    "    \n",
    "try:\n",
    "    add_desc=result_page.find('div',class_='_czm8crp',dir=\"ltr\").get_text()\n",
    "except:\n",
    "    add_desc='None'\n",
    "\n",
    "try:\n",
    "    numb_reviews=result_page.find(class_=\"_ff6jfq\").get_text()\n",
    "except:\n",
    "    numb_reviews='None'\n",
    "\n",
    "print ('-------','\\n','Short Description:',short_desc,'\\n','-------','\\n',\n",
    "       'Adittional Desc:',add_desc,'\\n','-------','\\n','# of Reviews:',numb_reviews)"
   ]
  },
  {
   "cell_type": "code",
   "execution_count": 4,
   "metadata": {},
   "outputs": [
    {
     "data": {
      "text/html": [
       "<div>\n",
       "<style scoped>\n",
       "    .dataframe tbody tr th:only-of-type {\n",
       "        vertical-align: middle;\n",
       "    }\n",
       "\n",
       "    .dataframe tbody tr th {\n",
       "        vertical-align: top;\n",
       "    }\n",
       "\n",
       "    .dataframe thead th {\n",
       "        text-align: right;\n",
       "    }\n",
       "</style>\n",
       "<table border=\"1\" class=\"dataframe\">\n",
       "  <thead>\n",
       "    <tr style=\"text-align: right;\">\n",
       "      <th></th>\n",
       "      <th>Stars</th>\n",
       "      <th>Accuracy</th>\n",
       "      <th>Communication</th>\n",
       "      <th>Cleanliness</th>\n",
       "      <th>Location</th>\n",
       "      <th>Check-In</th>\n",
       "      <th>Value</th>\n",
       "    </tr>\n",
       "  </thead>\n",
       "  <tbody>\n",
       "    <tr>\n",
       "      <th>5203</th>\n",
       "      <td>5</td>\n",
       "      <td>10</td>\n",
       "      <td>10</td>\n",
       "      <td>10</td>\n",
       "      <td>10</td>\n",
       "      <td>10</td>\n",
       "      <td>10</td>\n",
       "    </tr>\n",
       "  </tbody>\n",
       "</table>\n",
       "</div>"
      ],
      "text/plain": [
       "     Stars Accuracy Communication Cleanliness Location Check-In Value\n",
       "5203     5       10            10          10       10       10    10"
      ]
     },
     "execution_count": 4,
     "metadata": {},
     "output_type": "execute_result"
    }
   ],
   "source": [
    "if available_==False:\n",
    "    \n",
    "    star_=None;acc_=None;comm_=None;cle_=None;loc_=None;che_=None;val_=None\n",
    "    # Ratings\n",
    "    rat_=[star_,acc_,comm_,cle_,loc_,che_,val_]\n",
    "    arr_=np.array(rat_)\n",
    "    arr_=[arr_]\n",
    "    lab_=['Stars','Accuracy','Communication','Cleanliness','Location','Check-In','Value']\n",
    "    \n",
    "else:\n",
    "\n",
    "    abc_=result_page.find_all(type=\"application/json\")\n",
    "    abc_=result_page.find_all(type=\"application/json\")[2].get_text()\n",
    "\n",
    "    # AirBNB has 6 main categories in the reviews:\n",
    "    # Accuracy, Communication, Cleanliness, Location, Check-in & Value\n",
    "\n",
    "    acc_=(abc_[abc_.rfind('\"label\":\"Accuracy\"')-4:abc_.rfind('\"label\":\"Accuracy\"')]).replace(':',\"\").replace(',',\n",
    "                                                            \"\").replace('\"',\"\").replace('}',\"\").replace('-',\"\")\n",
    "    comm_=(abc_[abc_.rfind('\"label\":\"Communication\"')-4:abc_.rfind('\"label\":\"Communication\"')]).replace(':',\n",
    "                                        \"\").replace(',',\"\").replace('\"',\"\").replace('}',\"\").replace('-',\"\")\n",
    "    cle_=(abc_[abc_.rfind('\"label\":\"Cleanliness\"')-4:abc_.rfind('\"label\":\"Cleanliness\"')]).replace(':',\n",
    "                                    \"\").replace(',',\"\").replace('\"',\"\").replace('}',\"\").replace('-',\"\")\n",
    "    loc_=(abc_[abc_.rfind('\"label\":\"Location\"')-4:abc_.rfind('\"label\":\"Location\"')]).replace(':',\n",
    "                            \"\").replace(',',\"\").replace('\"',\"\").replace('}',\"\").replace('-',\"\")\n",
    "    che_=(abc_[abc_.rfind('\"label\":\"Check-in\"')-4:abc_.rfind('\"label\":\"Check-in\"')]).replace(':',\n",
    "                            \"\").replace(',',\"\").replace('\"',\"\").replace('}',\"\").replace('-',\"\")\n",
    "    val_=(abc_[abc_.rfind('\"label\":\"Value\"')-4:abc_.rfind('\"label\":\"Value\"')]).replace(':',\n",
    "                    \"\").replace(',',\"\").replace('\"',\"\").replace('}',\"\").replace('-',\"\")\n",
    "    star_=(abc_[abc_.find('\"star_rating\"')+14:abc_.find('\"star_rating\"')+19]).replace(':',\n",
    "                         \"\").replace(',',\"\").replace('\"',\"\").replace('t','').replace('i','').replace('ralU',\"\")\n",
    "\n",
    "    # Ratings\n",
    "    rat_=[star_,acc_,comm_,cle_,loc_,che_,val_]\n",
    "    arr_=np.array(rat_)\n",
    "    arr_=[arr_]\n",
    "    lab_=['Stars','Accuracy','Communication','Cleanliness','Location','Check-In','Value']\n",
    "\n",
    "rating_df=pd.DataFrame(arr_,index=[room_],columns=lab_)\n",
    "rating_df"
   ]
  },
  {
   "cell_type": "code",
   "execution_count": 8,
   "metadata": {},
   "outputs": [
    {
     "data": {
      "text/plain": [
       "('Review 1:',\n",
       " '\"fantastic. great stay and nice people \"',\n",
       " 'Review 2:',\n",
       " '\"Great location, 5min walk to Columbia campus; fantastic people! Clean, cozy room in a spacious apartment. Freddie is probably the cutest dog you\\'ll ever see within a 10 mile radius. \"',\n",
       " 'Review 3:',\n",
       " '\"Great price for the room and location. My host went out of her way to make sure I arrived and that someone was there to let me in. Highly recommend.\"',\n",
       " 'Review 4:',\n",
       " '\"Welcoming space, clean, great location, comfortable.\"',\n",
       " 'Review 5:',\n",
       " '\"Hands down my favorite Airbnb listing where I\\'ve stayed in New York. Mary Ellen is easy to communicate with, and provides a very pretty, comfy room that\\'s in quite a nice building. I got there late and left early, but the nice desk in the room helped me get some essays written for my classes. Definitely hope to stay here again for future city visits!\"',\n",
       " 'Review 6:',\n",
       " '\"MaryEllen is a very nice, hospitable person. My stay was very comfortable. Great location, clean, comfortable, not noisy- couldn\\'t have asked for more. \"',\n",
       " 'Review 7:',\n",
       " '\"The whole family is amazing, including their sweet dog.\\\\nI will suggest staying with them to anyone I know who plans a trip to NYC.\\\\n\"')"
      ]
     },
     "execution_count": 8,
     "metadata": {},
     "output_type": "execute_result"
    }
   ],
   "source": [
    "if available_==False:\n",
    "    rev_=None\n",
    "\n",
    "else:\n",
    "    rev_=(abc_[abc_.find('\"sorted_reviews\"')+17:abc_.rfind('\"visible_review_count\"')-1])\n",
    "    \n",
    "    rev_1=rev_[rev_.find('\"comments\"')+11:rev_.find('\"id\"')-1]\n",
    "    \n",
    "    rev_=rev_[rev_.find('\"id\"')+5:]\n",
    "    rev_=rev_[rev_.find('\"comments\"'):]\n",
    "    rev_2=rev_[rev_.find('\"comments\"')+11:rev_.find('\"id\"')-1]\n",
    "    \n",
    "    rev_=rev_[rev_.find('\"id\"')+5:]\n",
    "    rev_=rev_[rev_.find('\"comments\"'):]  \n",
    "    rev_3=rev_[rev_.find('\"comments\"')+11:rev_.find('\"id\"')-1]\n",
    "    \n",
    "    rev_=rev_[rev_.find('\"id\"')+5:]\n",
    "    rev_=rev_[rev_.find('\"comments\"'):]\n",
    "    rev_4=rev_[rev_.find('\"comments\"')+11:rev_.find('\"id\"')-1]\n",
    "    \n",
    "    rev_=rev_[rev_.find('\"id\"')+5:]\n",
    "    rev_=rev_[rev_.find('\"comments\"'):]\n",
    "    rev_5=rev_[rev_.find('\"comments\"')+11:rev_.find('\"id\"')-1]\n",
    "    \n",
    "    rev_=rev_[rev_.find('\"id\"')+5:]\n",
    "    rev_=rev_[rev_.find('\"comments\"'):]\n",
    "    rev_6=rev_[rev_.find('\"comments\"')+11:rev_.find('\"id\"')-1]\n",
    "    \n",
    "    rev_=rev_[rev_.find('\"id\"')+5:]\n",
    "    rev_=rev_[rev_.find('\"comments\"'):]\n",
    "    rev_7=rev_[rev_.find('\"comments\"')+11:rev_.find('\"id\"')-1]\n",
    "    \n",
    "\n",
    "rev_summary=('Review 1:',rev_1,'Review 2:',rev_2,'Review 3:',rev_3,'Review 4:',\n",
    "             rev_4,'Review 5:',rev_5,'Review 6:',rev_6,'Review 7:',rev_7,)\n",
    "rev_summ=(rev_1,rev_2,rev_3,rev_4,rev_5,rev_6,rev_7)\n",
    "rev_summary"
   ]
  },
  {
   "cell_type": "code",
   "execution_count": 7,
   "metadata": {},
   "outputs": [
    {
     "data": {
      "text/plain": [
       "'sectioned_description\":{\"access\":\"Guests will be able to come and go as they need and will enjoy complete privacy in their bedroom.  Guests will serve themselves breakfast from the kitchen, and enjoy eating in the lovely pre-war dining room.\",\"author_type\":\"human\",\"description\":\"Our best guests are seeking a safe, clean, spare room in a family apartment.  They are comfortable being independent, accommodating of family noise (quiet hours 11pm-7am), and aren\\'t afraid of a friendly two year old golden lab (dog).  Our guests aren\\'t put off by an old bathroom that while perfectly clean, has some peeling paint.  In short, our guests want to feel like they are staying at their sister\\'s apartment while visiting the city! (only their sister changed the sheets and cleaned).\\\\n\\\\nStay in my family\\'s little  guest room and enjoy privacy, a warm welcome, and security. \\\\n\\\\nYour guest room is comfortable and clean.   It is small but well outfitted, has a single bed and a fabulous mattress which is firm and yet pillowy on top, all at the same time. The bathroom is shared and immediately across the hall. (\\\\\"Shared\\\\\" in the sense it isn\\'t \\\\\"en suite.\\\\\" The family will use our second bath while you are staying with us). The bathroom is fully supplied with shampoo, conditioner, scrub, soap, towels.\\\\n\\\\nThere is a window air conditioner in summer, ceiling fan, abundant pre-war construction apartment heat.  No smoking. I leave out a simple self serve breakfast: granola, yogurt, fruit.  We may chat with you over coffee, or perhaps you\\'ll hit us on a busy day when we are already out and have left the coffee for you to serve yourself. Coffee or tea are available anytime. \\\\n\\\\nWhen you respond tell us a little bit about yourself, the purpose of your visit, and persuade us that you\\'d be a suitable overnight guest in my family home.  Please engage in a message back-and-forth before requesting a reservation. I\\'ll reply promptly. I will automatically reject any reservation request placed without prior messaging back and forth.\\\\n\\\\nWe have hosted all sorts of guests: conference attendees, international travelers, high school kids coming for college interviews, Columbia parents, and grandparents.  We will generally adapt to your needs and follow your cues.  If you want to chat and get help with directions, we\\'ll do that.  If you seek a quick hello and then retreat to peace and quiet, we\\'re up for that too.  Our lively family life is not really conducive to some one needing to sleep all day or seeking peace and quiet in which to write their novel in the room:)  Coming and going through the day is fine.\\\\n\\\\nI look forward to hearing from you.\\\\n\\\\nWith your own set of keys, you will come and go while you enjoy the city.  Breakfast will be set out for you to enjoy in the morning; a coffee and tea station will be set up for 24 hour access.  We have a great tea collection.\\\\n\\\\nMost often, our guests need a little help with maps and recommendations, and then are out and about.  A family member is always in residence during guest stays. \\\\nLocated in the shadow of Columbia University, my neighborhood provides that comfy residential feel with ample cafes and restaurants. My building is two doors in from well-travelled and lighted Broadway.  I feel safe coming and going at any hour of the night.\\\\n\\\\nThe number 1 train stop is two blocks from my front door.  Running the full length of the West Side  with easy transfers to every useful train, the number 1 train is the best!\\\\n\\\\nThe kids and I developed the guest business in order to make ends meet\\\\n\\\\nGuests will be able to come and go as they need and will enjoy complete privacy in their bedroom.  Guests will serve themselves breakfast from the kitchen, and enjoy eating in the lovely pre-war dining room.\\\\n\\\\nMy modern family is super busy with lots of coming and going.  You may encounter someone at home doing homework in the living room or me making dinner in the kitchen. I will always be available by text.\\\\n\\\\nOur neighborhood is full of restaurants and cafes.  There is plenty to do.\\\\n\\\\nThe number 1 train stops at 110th Street/Cathedral Parkway, just two blocks from our apartment.\\\\n\\\\nBecause we are an active family, I guarantee this is not a suitable room if you are seeking a quiet retreat to write the great American novel or work on business from your room.  Our best guests are out and about.\",\"detected_languages\":null,\"house_rules\":\"No smoking. In fact, there is no smoking anywhere in the building or in front of the building.  \\\\nReturn home by midnight.\",\"interaction\":\"My modern family is super busy with lots of coming and going.  You may encounter someone at home doing homework in the living room or me making dinner in the kitchen. I will always be available by text.\",\"locale\":\"en\",\"localized_language_name\":\"English\",\"name\":\"Cozy Clean Guest Room - Family Apt\",\"neighborhood_overview\":\"Our neighborhood is full of restaurants and cafes.  There is plenty to do.\",\"notes\":\"Because we are an active family, I guarantee this is not a suitable room if you are seeking a quiet retreat to write the great American novel or work on business from your room.  Our best guests are out and about.\",\"space\":\"Stay in my family\\'s little  guest room and enjoy privacy, a warm welcome, and security. \\\\n\\\\nYour guest room is comfortable and clean.   It is small but well outfitted, has a single bed and a fabulous mattress which is firm and yet pillowy on top, all at the same time. The bathroom is shared and immediately across the hall. (\\\\\"Shared\\\\\" in the sense it isn\\'t \\\\\"en suite.\\\\\" The family will use our second bath while you are staying with us). The bathroom is fully supplied with shampoo, conditioner, scrub, soap, towels.\\\\n\\\\nThere is a window air conditioner in summer, ceiling fan, abundant pre-war construction apartment heat.  No smoking. I leave out a simple self serve breakfast: granola, yogurt, fruit.  We may chat with you over coffee, or perhaps you\\'ll hit us on a busy day when we are already out and have left the coffee for you to serve yourself. Coffee or tea are available anytime. \\\\n\\\\nWhen you respond tell us a little bit about yourself, the purpose of your visit, and persuade us that you\\'d be a suitable overnight guest in my family home.  Please engage in a message back-and-forth before requesting a reservation. I\\'ll reply promptly. I will automatically reject any reservation request placed without prior messaging back and forth.\\\\n\\\\nWe have hosted all sorts of guests: conference attendees, international travelers, high school kids coming for college interviews, Columbia parents, and grandparents.  We will generally adapt to your needs and follow your cues.  If you want to chat and get help with directions, we\\'ll do that.  If you seek a quick hello and then retreat to peace and quiet, we\\'re up for that too.  Our lively family life is not really conducive to some one needing to sleep all day or seeking peace and quiet in which to write their novel in the room:)  Coming and going through the day is fine.\\\\n\\\\nI look forward to hearing from you.\\\\n\\\\nWith your own set of keys, you will come and go while you enjoy the city.  Breakfast will be set out for you to enjoy in the morning; a coffee and tea station will be set up for 24 hour access.  We have a great tea collection.\\\\n\\\\nMost often, our guests need a little help with maps and recommendations, and then are out and about.  A family member is always in residence during guest stays. \\\\nLocated in the shadow of Columbia University, my neighborhood provides that comfy residential feel with ample cafes and restaurants. My building is two doors in from well-travelled and lighted Broadway.  I feel safe coming and going at any hour of the night.\\\\n\\\\nThe number 1 train stop is two blocks from my front door.  Running the full length of the West Side  with easy transfers to every useful train, the number 1 train is the best!\\\\n\\\\nThe kids and I developed the guest business in order to make ends meet\",\"summary\":\"Our best guests are seeking a safe, clean, spare room in a family apartment.  They are comfortable being independent, accommodating of family noise (quiet hours 11pm-7am), and aren\\'t afraid of a friendly two year old golden lab (dog).  Our guests aren\\'t put off by an old bathroom that while perfectly clean, has some peeling paint.  In short, our guests want to feel like they are staying at their sister\\'s apartment while visiting the city! (only their sister changed the sheets and cleaned).\",\"transit\":\"The number 1 train stops at 110th Street/Cathedral Parkway, just two blocks from our apartment.\"},'"
      ]
     },
     "execution_count": 7,
     "metadata": {},
     "output_type": "execute_result"
    }
   ],
   "source": [
    "if available_==False:\n",
    "    descrip_=None\n",
    "else:\n",
    "\n",
    "    descrip_=(abc_[abc_.find('sectioned_description'):abc_.find('\"star_rating\"')])\n",
    "    descrip_\n",
    "\n",
    "descrip_"
   ]
  },
  {
   "cell_type": "code",
   "execution_count": null,
   "metadata": {
    "scrolled": false
   },
   "outputs": [],
   "source": []
  }
 ],
 "metadata": {
  "kernelspec": {
   "display_name": "Python 3",
   "language": "python",
   "name": "python3"
  },
  "language_info": {
   "codemirror_mode": {
    "name": "ipython",
    "version": 3
   },
   "file_extension": ".py",
   "mimetype": "text/x-python",
   "name": "python",
   "nbconvert_exporter": "python",
   "pygments_lexer": "ipython3",
   "version": "3.6.5"
  }
 },
 "nbformat": 4,
 "nbformat_minor": 2
}
