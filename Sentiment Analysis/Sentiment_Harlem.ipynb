{
 "cells": [
  {
   "cell_type": "markdown",
   "metadata": {},
   "source": [
    "# Sentiment Analysis Harlem\n",
    "\n",
    "This notebook is meant to perform a sentiment analysis over Harlem's Airbnb reviews"
   ]
  },
  {
   "cell_type": "code",
   "execution_count": 64,
   "metadata": {},
   "outputs": [],
   "source": [
    "import pandas as pd\n",
    "import nltk\n",
    "from wordcloud import WordCloud, STOPWORDS\n",
    "from nltk import sent_tokenize,word_tokenize \n",
    "from vaderSentiment.vaderSentiment import SentimentIntensityAnalyzer\n",
    "import matplotlib.pyplot as plt\n",
    "%matplotlib inline"
   ]
  },
  {
   "cell_type": "code",
   "execution_count": 18,
   "metadata": {},
   "outputs": [
    {
     "data": {
      "text/html": [
       "<div>\n",
       "<style scoped>\n",
       "    .dataframe tbody tr th:only-of-type {\n",
       "        vertical-align: middle;\n",
       "    }\n",
       "\n",
       "    .dataframe tbody tr th {\n",
       "        vertical-align: top;\n",
       "    }\n",
       "\n",
       "    .dataframe thead th {\n",
       "        text-align: right;\n",
       "    }\n",
       "</style>\n",
       "<table border=\"1\" class=\"dataframe\">\n",
       "  <thead>\n",
       "    <tr style=\"text-align: right;\">\n",
       "      <th></th>\n",
       "      <th>Unnamed: 0</th>\n",
       "      <th>id</th>\n",
       "      <th>price</th>\n",
       "      <th>minimum_nights</th>\n",
       "      <th>number_of_reviews</th>\n",
       "      <th>reviews_per_month</th>\n",
       "      <th>availability_365</th>\n",
       "      <th>room_type_Entire home/apt</th>\n",
       "      <th>room_type_Private room</th>\n",
       "      <th>room_type_Shared room</th>\n",
       "      <th>neighbourhood_Harlem</th>\n",
       "      <th>neighbourhood_Morningside Heights</th>\n",
       "      <th>neighbourhood_Upper West Side</th>\n",
       "    </tr>\n",
       "  </thead>\n",
       "  <tbody>\n",
       "    <tr>\n",
       "      <th>0</th>\n",
       "      <td>4</td>\n",
       "      <td>3647</td>\n",
       "      <td>150</td>\n",
       "      <td>3</td>\n",
       "      <td>0</td>\n",
       "      <td>0.00</td>\n",
       "      <td>365</td>\n",
       "      <td>0</td>\n",
       "      <td>1</td>\n",
       "      <td>0</td>\n",
       "      <td>1</td>\n",
       "      <td>0</td>\n",
       "      <td>0</td>\n",
       "    </tr>\n",
       "    <tr>\n",
       "      <th>1</th>\n",
       "      <td>10</td>\n",
       "      <td>5203</td>\n",
       "      <td>79</td>\n",
       "      <td>2</td>\n",
       "      <td>118</td>\n",
       "      <td>1.03</td>\n",
       "      <td>0</td>\n",
       "      <td>0</td>\n",
       "      <td>1</td>\n",
       "      <td>0</td>\n",
       "      <td>0</td>\n",
       "      <td>0</td>\n",
       "      <td>1</td>\n",
       "    </tr>\n",
       "    <tr>\n",
       "      <th>2</th>\n",
       "      <td>13</td>\n",
       "      <td>5295</td>\n",
       "      <td>135</td>\n",
       "      <td>5</td>\n",
       "      <td>43</td>\n",
       "      <td>0.36</td>\n",
       "      <td>53</td>\n",
       "      <td>1</td>\n",
       "      <td>0</td>\n",
       "      <td>0</td>\n",
       "      <td>0</td>\n",
       "      <td>0</td>\n",
       "      <td>1</td>\n",
       "    </tr>\n",
       "    <tr>\n",
       "      <th>3</th>\n",
       "      <td>17</td>\n",
       "      <td>6021</td>\n",
       "      <td>85</td>\n",
       "      <td>2</td>\n",
       "      <td>100</td>\n",
       "      <td>0.84</td>\n",
       "      <td>365</td>\n",
       "      <td>0</td>\n",
       "      <td>1</td>\n",
       "      <td>0</td>\n",
       "      <td>0</td>\n",
       "      <td>0</td>\n",
       "      <td>1</td>\n",
       "    </tr>\n",
       "    <tr>\n",
       "      <th>4</th>\n",
       "      <td>36</td>\n",
       "      <td>9668</td>\n",
       "      <td>50</td>\n",
       "      <td>3</td>\n",
       "      <td>230</td>\n",
       "      <td>2.02</td>\n",
       "      <td>348</td>\n",
       "      <td>0</td>\n",
       "      <td>1</td>\n",
       "      <td>0</td>\n",
       "      <td>1</td>\n",
       "      <td>0</td>\n",
       "      <td>0</td>\n",
       "    </tr>\n",
       "  </tbody>\n",
       "</table>\n",
       "</div>"
      ],
      "text/plain": [
       "   Unnamed: 0    id  price  minimum_nights  number_of_reviews  \\\n",
       "0           4  3647    150               3                  0   \n",
       "1          10  5203     79               2                118   \n",
       "2          13  5295    135               5                 43   \n",
       "3          17  6021     85               2                100   \n",
       "4          36  9668     50               3                230   \n",
       "\n",
       "   reviews_per_month  availability_365  room_type_Entire home/apt  \\\n",
       "0               0.00               365                          0   \n",
       "1               1.03                 0                          0   \n",
       "2               0.36                53                          1   \n",
       "3               0.84               365                          0   \n",
       "4               2.02               348                          0   \n",
       "\n",
       "   room_type_Private room  room_type_Shared room  neighbourhood_Harlem  \\\n",
       "0                       1                      0                     1   \n",
       "1                       1                      0                     0   \n",
       "2                       0                      0                     0   \n",
       "3                       1                      0                     0   \n",
       "4                       1                      0                     1   \n",
       "\n",
       "   neighbourhood_Morningside Heights  neighbourhood_Upper West Side  \n",
       "0                                  0                              0  \n",
       "1                                  0                              1  \n",
       "2                                  0                              1  \n",
       "3                                  0                              1  \n",
       "4                                  0                              0  "
      ]
     },
     "execution_count": 18,
     "metadata": {},
     "output_type": "execute_result"
    }
   ],
   "source": [
    "filename = '../files/listings_neibourhood.csv'\n",
    "data_borough = pd.read_csv(filename)\n",
    "data_borough.head()"
   ]
  },
  {
   "cell_type": "code",
   "execution_count": 9,
   "metadata": {},
   "outputs": [
    {
     "data": {
      "text/html": [
       "<div>\n",
       "<style scoped>\n",
       "    .dataframe tbody tr th:only-of-type {\n",
       "        vertical-align: middle;\n",
       "    }\n",
       "\n",
       "    .dataframe tbody tr th {\n",
       "        vertical-align: top;\n",
       "    }\n",
       "\n",
       "    .dataframe thead th {\n",
       "        text-align: right;\n",
       "    }\n",
       "</style>\n",
       "<table border=\"1\" class=\"dataframe\">\n",
       "  <thead>\n",
       "    <tr style=\"text-align: right;\">\n",
       "      <th></th>\n",
       "      <th>Unnamed: 0</th>\n",
       "      <th>Review 1</th>\n",
       "      <th>Review 2</th>\n",
       "      <th>Review 3</th>\n",
       "      <th>Review 4</th>\n",
       "      <th>Review 5</th>\n",
       "      <th>Review 6</th>\n",
       "      <th>Review 7</th>\n",
       "      <th>Description</th>\n",
       "    </tr>\n",
       "  </thead>\n",
       "  <tbody>\n",
       "    <tr>\n",
       "      <th>0</th>\n",
       "      <td>3647</td>\n",
       "      <td>NaN</td>\n",
       "      <td>NaN</td>\n",
       "      <td>NaN</td>\n",
       "      <td>NaN</td>\n",
       "      <td>NaN</td>\n",
       "      <td>NaN</td>\n",
       "      <td>NaN</td>\n",
       "      <td>sectioned_description\":{\"access\":null,\"author_...</td>\n",
       "    </tr>\n",
       "    <tr>\n",
       "      <th>1</th>\n",
       "      <td>5203</td>\n",
       "      <td>\"fantastic. great stay and nice people \"</td>\n",
       "      <td>\"Great location, 5min walk to Columbia campus;...</td>\n",
       "      <td>\"Great price for the room and location. My hos...</td>\n",
       "      <td>\"Welcoming space, clean, great location, comfo...</td>\n",
       "      <td>\"Hands down my favorite Airbnb listing where I...</td>\n",
       "      <td>\"MaryEllen is a very nice, hospitable person. ...</td>\n",
       "      <td>\"The whole family is amazing, including their ...</td>\n",
       "      <td>sectioned_description\":{\"access\":\"Guests will ...</td>\n",
       "    </tr>\n",
       "    <tr>\n",
       "      <th>2</th>\n",
       "      <td>5295</td>\n",
       "      <td>\"Great option for a trip to NYC!!!!! Quick res...</td>\n",
       "      <td>\"The host canceled this reservation 14 days be...</td>\n",
       "      <td>\"Great place.  Great location \\nSuper Host. \\n...</td>\n",
       "      <td>\"This a perfect place! Perfect location  (Uppe...</td>\n",
       "      <td>\"Lena is a very thoughtful and attentive host....</td>\n",
       "      <td>\"Great location.\"</td>\n",
       "      <td>\"Lena was a terrific host, and her apartment i...</td>\n",
       "      <td>sectioned_description\":{\"access\":null,\"author_...</td>\n",
       "    </tr>\n",
       "    <tr>\n",
       "      <th>3</th>\n",
       "      <td>6021</td>\n",
       "      <td>\"I would first like to start by saying that Cl...</td>\n",
       "      <td>\"My stay was beyond pleasant! Claudio has a be...</td>\n",
       "      <td>\"Claudio’s place was great. Only 2 short block...</td>\n",
       "      <td>\"This is one of the best Airbnb apartment I’ve...</td>\n",
       "      <td>\"This is an amazing location - across the stre...</td>\n",
       "      <td>\"The reservation was canceled 7 days before ar...</td>\n",
       "      <td>\"Claudio's apartment was a great find! It is c...</td>\n",
       "      <td>sectioned_description\":{\"access\":\"Guests are w...</td>\n",
       "    </tr>\n",
       "    <tr>\n",
       "      <th>4</th>\n",
       "      <td>9668</td>\n",
       "      <td>\"This is probably one of the best places to st...</td>\n",
       "      <td>\"We met Donaldo and he was very sweet and prov...</td>\n",
       "      <td>\"I didn't meet Trip, but his co-host managed e...</td>\n",
       "      <td>\"Big applauds to a co-host Donald. He was very...</td>\n",
       "      <td>\"pretty comfortable place and accessible to an...</td>\n",
       "      <td>\"I’ll begin by saying, “you get what you pay f...</td>\n",
       "      <td>\"Trip was very flexible and accommodating!\"</td>\n",
       "      <td>sectioned_description\":{\"access\":\"bedroom, bat...</td>\n",
       "    </tr>\n",
       "  </tbody>\n",
       "</table>\n",
       "</div>"
      ],
      "text/plain": [
       "   Unnamed: 0                                           Review 1  \\\n",
       "0        3647                                                NaN   \n",
       "1        5203           \"fantastic. great stay and nice people \"   \n",
       "2        5295  \"Great option for a trip to NYC!!!!! Quick res...   \n",
       "3        6021  \"I would first like to start by saying that Cl...   \n",
       "4        9668  \"This is probably one of the best places to st...   \n",
       "\n",
       "                                            Review 2  \\\n",
       "0                                                NaN   \n",
       "1  \"Great location, 5min walk to Columbia campus;...   \n",
       "2  \"The host canceled this reservation 14 days be...   \n",
       "3  \"My stay was beyond pleasant! Claudio has a be...   \n",
       "4  \"We met Donaldo and he was very sweet and prov...   \n",
       "\n",
       "                                            Review 3  \\\n",
       "0                                                NaN   \n",
       "1  \"Great price for the room and location. My hos...   \n",
       "2  \"Great place.  Great location \\nSuper Host. \\n...   \n",
       "3  \"Claudio’s place was great. Only 2 short block...   \n",
       "4  \"I didn't meet Trip, but his co-host managed e...   \n",
       "\n",
       "                                            Review 4  \\\n",
       "0                                                NaN   \n",
       "1  \"Welcoming space, clean, great location, comfo...   \n",
       "2  \"This a perfect place! Perfect location  (Uppe...   \n",
       "3  \"This is one of the best Airbnb apartment I’ve...   \n",
       "4  \"Big applauds to a co-host Donald. He was very...   \n",
       "\n",
       "                                            Review 5  \\\n",
       "0                                                NaN   \n",
       "1  \"Hands down my favorite Airbnb listing where I...   \n",
       "2  \"Lena is a very thoughtful and attentive host....   \n",
       "3  \"This is an amazing location - across the stre...   \n",
       "4  \"pretty comfortable place and accessible to an...   \n",
       "\n",
       "                                            Review 6  \\\n",
       "0                                                NaN   \n",
       "1  \"MaryEllen is a very nice, hospitable person. ...   \n",
       "2                                  \"Great location.\"   \n",
       "3  \"The reservation was canceled 7 days before ar...   \n",
       "4  \"I’ll begin by saying, “you get what you pay f...   \n",
       "\n",
       "                                            Review 7  \\\n",
       "0                                                NaN   \n",
       "1  \"The whole family is amazing, including their ...   \n",
       "2  \"Lena was a terrific host, and her apartment i...   \n",
       "3  \"Claudio's apartment was a great find! It is c...   \n",
       "4        \"Trip was very flexible and accommodating!\"   \n",
       "\n",
       "                                         Description  \n",
       "0  sectioned_description\":{\"access\":null,\"author_...  \n",
       "1  sectioned_description\":{\"access\":\"Guests will ...  \n",
       "2  sectioned_description\":{\"access\":null,\"author_...  \n",
       "3  sectioned_description\":{\"access\":\"Guests are w...  \n",
       "4  sectioned_description\":{\"access\":\"bedroom, bat...  "
      ]
     },
     "execution_count": 9,
     "metadata": {},
     "output_type": "execute_result"
    }
   ],
   "source": [
    "filename_r = 'reviews.csv'\n",
    "reviews = pd.read_csv(filename_r)\n",
    "reviews.head()"
   ]
  },
  {
   "cell_type": "code",
   "execution_count": 16,
   "metadata": {},
   "outputs": [
    {
     "data": {
      "text/plain": [
       "2832"
      ]
     },
     "execution_count": 16,
     "metadata": {},
     "output_type": "execute_result"
    }
   ],
   "source": [
    "list_ind = list(data_borough[data_borough['neighbourhood_Harlem'] == 1].index)\n",
    "len(list_ind)"
   ]
  },
  {
   "cell_type": "code",
   "execution_count": 23,
   "metadata": {},
   "outputs": [
    {
     "name": "stdout",
     "output_type": "stream",
     "text": [
      "<class 'pandas.core.frame.DataFrame'>\n",
      "Int64Index: 2832 entries, 0 to 5295\n",
      "Data columns (total 7 columns):\n",
      "Review 1    2032 non-null object\n",
      "Review 2    1750 non-null object\n",
      "Review 3    1561 non-null object\n",
      "Review 4    1443 non-null object\n",
      "Review 5    1360 non-null object\n",
      "Review 6    1269 non-null object\n",
      "Review 7    1201 non-null object\n",
      "dtypes: object(7)\n",
      "memory usage: 177.0+ KB\n"
     ]
    }
   ],
   "source": [
    "df = pd.DataFrame(columns = list(reviews.columns))\n",
    "for i in list_ind:\n",
    "    df = df.append(reviews.iloc[i])\n",
    "del df['Unnamed: 0']\n",
    "del df['Description']\n",
    "df.info()"
   ]
  },
  {
   "cell_type": "markdown",
   "metadata": {},
   "source": [
    "#### Functions and database for the sentiment analysis"
   ]
  },
  {
   "cell_type": "code",
   "execution_count": 27,
   "metadata": {},
   "outputs": [],
   "source": [
    "def get_nrc_data():\n",
    "    nrc = \"NRC-emotion-lexicon-wordlevel-alphabetized-v0.92.txt\"\n",
    "    count=0\n",
    "    emotion_dict=dict()\n",
    "    with open(nrc,'r') as f:\n",
    "        all_lines = list()\n",
    "        for line in f:\n",
    "            if count < 46:\n",
    "                count+=1\n",
    "                continue\n",
    "            line = line.strip().split('\\t')\n",
    "            if int(line[2]) == 1:\n",
    "                if emotion_dict.get(line[0]):\n",
    "                    emotion_dict[line[0]].append(line[1])\n",
    "                else:\n",
    "                    emotion_dict[line[0]] = [line[1]]\n",
    "    return emotion_dict\n",
    "emotion_dict = get_nrc_data()"
   ]
  },
  {
   "cell_type": "code",
   "execution_count": 31,
   "metadata": {},
   "outputs": [],
   "source": [
    "def emotion_analyzer(text,emotion_dict=emotion_dict):\n",
    "    #Set up the result dictionary\n",
    "    emotions = {x for y in emotion_dict.values() for x in y}\n",
    "    emotion_count = dict()\n",
    "    for emotion in emotions:\n",
    "        emotion_count[emotion] = 0\n",
    "\n",
    "    #Analyze the text and normalize by total number of words\n",
    "    total_words = len(text.split())\n",
    "    for word in text.split():\n",
    "        if emotion_dict.get(word):\n",
    "            for emotion in emotion_dict.get(word):\n",
    "                emotion_count[emotion] += 1/len(text.split())\n",
    "    return emotion_count"
   ]
  },
  {
   "cell_type": "code",
   "execution_count": 41,
   "metadata": {},
   "outputs": [],
   "source": [
    "def comparative_emotion_analyzer(text_tuples,object_name=\"reviews\",print_output=False):\n",
    "    if print_output:\n",
    "        print(\"%-20s %1s\\t%1s %1s %1s %1s   %1s %1s %1s %1s\"%(object_name,\n",
    "                                                              \"fear\",\"trust\",\"negative\",\"positive\",\n",
    "                                                              \"joy\",\"disgust\",\"anticip\", \"sadness\",\n",
    "                                                              \"surprise\"))\n",
    "        \n",
    "    df = pd.DataFrame(columns=[object_name,'Fear','Trust','Negative',\n",
    "                           'Positive','Joy','Disgust','Anticipation',\n",
    "                           'Sadness','Surprise'],)\n",
    "    df.set_index(object_name,inplace=True)\n",
    "    \n",
    "    output = df    \n",
    "    for text in text_tuples:\n",
    "        result = emotion_analyzer(text)\n",
    "        if print_output:\n",
    "            print(\"%-20s %1.2f\\t%1.2f\\t%1.2f\\t%1.2f\\t%1.2f\\t%1.2f\\t%1.2f\\t%1.2f\\t%1.2f\"%(\n",
    "                text_tuple[1][0:20],result['fear'],result['trust'],\n",
    "                  result['negative'],result['positive'],result['joy'],result['disgust'],\n",
    "                  result['anticipation'],result['sadness'],result['surprise']))\n",
    "        df.loc[text] = [result['fear'],result['trust'],\n",
    "                  result['negative'],result['positive'],result['joy'],result['disgust'],\n",
    "                  result['anticipation'],result['sadness'],result['surprise']]\n",
    "    return output"
   ]
  },
  {
   "cell_type": "markdown",
   "metadata": {},
   "source": [
    "#### Perform sentiment analysis"
   ]
  },
  {
   "cell_type": "code",
   "execution_count": 35,
   "metadata": {},
   "outputs": [
    {
     "data": {
      "text/plain": [
       "4     \"This is probably one of the best places to st...\n",
       "5     \"Teri’s place worked out great for me and I’ll...\n",
       "6     \"It's a good hostel and Donaldo it's amazing,i...\n",
       "8     \"The host canceled this reservation 21 days be...\n",
       "11    \"Sybillas apartment is very homey and perfect ...\n",
       "Name: Review 1, dtype: object"
      ]
     },
     "execution_count": 35,
     "metadata": {},
     "output_type": "execute_result"
    }
   ],
   "source": [
    "R1 = df['Review 1']\n",
    "R2 = df['Review 2']\n",
    "R3 = df['Review 3']\n",
    "R4 = df['Review 4']\n",
    "R5 = df['Review 5']\n",
    "R6 = df['Review 6']\n",
    "R7 = df['Review 7']\n",
    "R1 = R1.dropna(how='any')\n",
    "R2 = R2.dropna(how='any')\n",
    "R3 = R3.dropna(how='any')\n",
    "R4 = R4.dropna(how='any')\n",
    "R5 = R5.dropna(how='any')\n",
    "R6 = R6.dropna(how='any')\n",
    "R7 = R7.dropna(how='any')\n",
    "R1.head()"
   ]
  },
  {
   "cell_type": "code",
   "execution_count": 47,
   "metadata": {},
   "outputs": [
    {
     "data": {
      "text/plain": [
       "Fear            0.001640\n",
       "Trust           0.031090\n",
       "Negative        0.004735\n",
       "Positive        0.047381\n",
       "Joy             0.025758\n",
       "Disgust         0.000802\n",
       "Anticipation    0.019032\n",
       "Sadness         0.004840\n",
       "Surprise        0.009293\n",
       "dtype: float64"
      ]
     },
     "execution_count": 47,
     "metadata": {},
     "output_type": "execute_result"
    }
   ],
   "source": [
    "R1_analysis = comparative_emotion_analyzer(R1)\n",
    "R2_analysis = comparative_emotion_analyzer(R2)\n",
    "R3_analysis = comparative_emotion_analyzer(R3)\n",
    "R4_analysis = comparative_emotion_analyzer(R4)\n",
    "R5_analysis = comparative_emotion_analyzer(R5)\n",
    "R6_analysis = comparative_emotion_analyzer(R6)\n",
    "R7_analysis = comparative_emotion_analyzer(R7)\n",
    "R_analysis = R1_analysis.append(R2_analysis)\n",
    "R_analysis = R_analysis.append(R3_analysis)\n",
    "R_analysis = R_analysis.append(R4_analysis)\n",
    "R_analysis = R_analysis.append(R5_analysis)\n",
    "R_analysis = R_analysis.append(R6_analysis)\n",
    "R_analysis = R_analysis.append(R7_analysis)\n",
    "R_analysis.mean()"
   ]
  },
  {
   "cell_type": "markdown",
   "metadata": {},
   "source": [
    "#### Visualize the most common words"
   ]
  },
  {
   "cell_type": "code",
   "execution_count": 49,
   "metadata": {},
   "outputs": [],
   "source": [
    "all_rev = str()\n",
    "for elt in R1:\n",
    "    all_rev += elt\n",
    "for elt in R2:\n",
    "    all_rev += elt\n",
    "for elt in R3:\n",
    "    all_rev += elt\n",
    "for elt in R4:\n",
    "    all_rev += elt\n",
    "for elt in R5:\n",
    "    all_rev += elt\n",
    "for elt in R6:\n",
    "    all_rev += elt\n",
    "for elt in R7:\n",
    "    all_rev += elt"
   ]
  },
  {
   "cell_type": "code",
   "execution_count": 58,
   "metadata": {},
   "outputs": [
    {
     "data": {
      "image/png": "[encoded data removed]",
      "text/plain": [
       "<Figure size 864x864 with 1 Axes>"
      ]
     },
     "metadata": {
      "needs_background": "light"
     },
     "output_type": "display_data"
    }
   ],
   "source": [
    "DELETE_WORDS = []\n",
    "def remove_words(text_string,DELETE_WORDS=DELETE_WORDS):\n",
    "    for word in DELETE_WORDS:\n",
    "        text_string = text_string.replace(word,' ')\n",
    "    return text_string\n",
    "\n",
    "#Remove short words\n",
    "MIN_LENGTH = 0\n",
    "def remove_short_words(text_string,min_length = MIN_LENGTH):\n",
    "    word_list = text_string.split()\n",
    "    for word in word_list:\n",
    "        if len(word) < min_length:\n",
    "            text_string = text_string.replace(' '+word+' ',' ',1)\n",
    "    return text_string\n",
    "\n",
    "\n",
    "#Set up side by side clouds\n",
    "COL_NUM = 1\n",
    "ROW_NUM = 1\n",
    "fig, axes = plt.subplots(ROW_NUM, COL_NUM, figsize=(12,12))\n",
    "\n",
    "text_string = remove_words(all_rev)\n",
    "text_string = remove_short_words(all_rev)\n",
    "ax = axes \n",
    "ax.set_title('Reviews Harlem')\n",
    "wordcloud = WordCloud(stopwords=STOPWORDS,background_color='white',width=1200,height=1000,max_words=20).generate(all_rev)\n",
    "ax.imshow(wordcloud)\n",
    "ax.axis('off')\n",
    "plt.show()"
   ]
  },
  {
   "cell_type": "markdown",
   "metadata": {},
   "source": [
    "#### Complexity"
   ]
  },
  {
   "cell_type": "code",
   "execution_count": 62,
   "metadata": {},
   "outputs": [],
   "source": [
    "def get_complexity(text):\n",
    "    num_chars=len(text)\n",
    "    num_words=len(word_tokenize(text))\n",
    "    num_sentences=len(sent_tokenize(text))\n",
    "    vocab = {x.lower() for x in word_tokenize(text)}\n",
    "    return len(vocab),int(num_chars/num_words),int(num_words/num_sentences),len(vocab)/num_words"
   ]
  },
  {
   "cell_type": "code",
   "execution_count": 63,
   "metadata": {},
   "outputs": [
    {
     "data": {
      "text/plain": [
       "(17790, 4, 15, 0.02883226880296653)"
      ]
     },
     "execution_count": 63,
     "metadata": {},
     "output_type": "execute_result"
    }
   ],
   "source": [
    "get_complexity(all_rev)"
   ]
  },
  {
   "cell_type": "markdown",
   "metadata": {},
   "source": [
    "#### Sentiment analysis with vader"
   ]
  },
  {
   "cell_type": "code",
   "execution_count": 68,
   "metadata": {},
   "outputs": [],
   "source": [
    "def vader_comparison(texts):\n",
    "    from vaderSentiment.vaderSentiment import SentimentIntensityAnalyzer\n",
    "    headers = ['pos','neg','neu','compound']\n",
    "    print('  pos\\t','neg\\t','neu\\t','compound')\n",
    "    analyzer = SentimentIntensityAnalyzer()\n",
    "\n",
    "    sentences = sent_tokenize(texts)\n",
    "    pos=compound=neu=neg=0\n",
    "    for sentence in sentences:\n",
    "        vs = analyzer.polarity_scores(sentence)\n",
    "        pos+=vs['pos']/(len(sentences))\n",
    "        compound+=vs['compound']/(len(sentences))\n",
    "        neu+=vs['neu']/(len(sentences))\n",
    "        neg+=vs['neg']/(len(sentences))\n",
    "    print('%1.2f\\t'%pos,'%1.2f\\t'%neg,'%1.2f\\t'%neu,'%1.2f\\t'%compound)"
   ]
  },
  {
   "cell_type": "code",
   "execution_count": 69,
   "metadata": {},
   "outputs": [
    {
     "name": "stdout",
     "output_type": "stream",
     "text": [
      "  pos\t neg\t neu\t compound\n",
      "0.27\t 0.02\t 0.71\t 0.41\t\n"
     ]
    }
   ],
   "source": [
    "vader_comparison(all_rev)"
   ]
  }
 ],
 "metadata": {
  "kernelspec": {
   "display_name": "Python 3",
   "language": "python",
   "name": "python3"
  },
  "language_info": {
   "codemirror_mode": {
    "name": "ipython",
    "version": 3
   },
   "file_extension": ".py",
   "mimetype": "text/x-python",
   "name": "python",
   "nbconvert_exporter": "python",
   "pygments_lexer": "ipython3",
   "version": "3.7.1"
  }
 },
 "nbformat": 4,
 "nbformat_minor": 2
}
