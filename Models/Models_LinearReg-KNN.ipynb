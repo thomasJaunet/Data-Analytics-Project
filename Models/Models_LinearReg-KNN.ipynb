{
 "cells": [
  {
   "cell_type": "markdown",
   "metadata": {},
   "source": [
    "## Fitting models (other than random forest and decision tree)"
   ]
  },
  {
   "cell_type": "code",
   "execution_count": 44,
   "metadata": {},
   "outputs": [],
   "source": [
    "import pandas as pd\n",
    "from sklearn.model_selection import train_test_split\n",
    "from sklearn.linear_model import LinearRegression\n",
    "from sklearn import ensemble\n",
    "from sklearn.metrics import mean_absolute_error\n",
    "from sklearn.externals import joblib\n",
    "from sklearn.model_selection import GridSearchCV\n",
    "from sklearn.metrics import mean_squared_error, r2_score\n",
    "import numpy as np\n",
    "import matplotlib.pyplot as plt\n",
    "import statsmodels.api as sm"
   ]
  },
  {
   "cell_type": "markdown",
   "metadata": {},
   "source": [
    "### import data in relevant neighborhoods "
   ]
  },
  {
   "cell_type": "code",
   "execution_count": 2,
   "metadata": {},
   "outputs": [
    {
     "name": "stdout",
     "output_type": "stream",
     "text": [
      "<class 'pandas.core.frame.DataFrame'>\n",
      "RangeIndex: 5296 entries, 0 to 5295\n",
      "Data columns (total 12 columns):\n",
      "Unnamed: 0                           5296 non-null int64\n",
      "price                                5296 non-null int64\n",
      "minimum_nights                       5296 non-null int64\n",
      "number_of_reviews                    5296 non-null int64\n",
      "reviews_per_month                    5296 non-null float64\n",
      "availability_365                     5296 non-null int64\n",
      "room_type_Entire home/apt            5296 non-null int64\n",
      "room_type_Private room               5296 non-null int64\n",
      "room_type_Shared room                5296 non-null int64\n",
      "neighbourhood_Harlem                 5296 non-null int64\n",
      "neighbourhood_Morningside Heights    5296 non-null int64\n",
      "neighbourhood_Upper West Side        5296 non-null int64\n",
      "dtypes: float64(1), int64(11)\n",
      "memory usage: 496.6 KB\n"
     ]
    }
   ],
   "source": [
    "filename = '../files/listings_neibourhood.csv'\n",
    "data_borough = pd.read_csv(filename)\n",
    "data_borough.info()"
   ]
  },
  {
   "cell_type": "code",
   "execution_count": 3,
   "metadata": {},
   "outputs": [
    {
     "data": {
      "text/html": [
       "<div>\n",
       "<style scoped>\n",
       "    .dataframe tbody tr th:only-of-type {\n",
       "        vertical-align: middle;\n",
       "    }\n",
       "\n",
       "    .dataframe tbody tr th {\n",
       "        vertical-align: top;\n",
       "    }\n",
       "\n",
       "    .dataframe thead th {\n",
       "        text-align: right;\n",
       "    }\n",
       "</style>\n",
       "<table border=\"1\" class=\"dataframe\">\n",
       "  <thead>\n",
       "    <tr style=\"text-align: right;\">\n",
       "      <th></th>\n",
       "      <th>Unnamed: 0</th>\n",
       "      <th>price</th>\n",
       "      <th>minimum_nights</th>\n",
       "      <th>number_of_reviews</th>\n",
       "      <th>reviews_per_month</th>\n",
       "      <th>availability_365</th>\n",
       "      <th>room_type_Entire home/apt</th>\n",
       "      <th>room_type_Private room</th>\n",
       "      <th>room_type_Shared room</th>\n",
       "      <th>neighbourhood_Harlem</th>\n",
       "      <th>neighbourhood_Morningside Heights</th>\n",
       "      <th>neighbourhood_Upper West Side</th>\n",
       "    </tr>\n",
       "  </thead>\n",
       "  <tbody>\n",
       "    <tr>\n",
       "      <th>0</th>\n",
       "      <td>4</td>\n",
       "      <td>150</td>\n",
       "      <td>3</td>\n",
       "      <td>0</td>\n",
       "      <td>0.00</td>\n",
       "      <td>365</td>\n",
       "      <td>0</td>\n",
       "      <td>1</td>\n",
       "      <td>0</td>\n",
       "      <td>1</td>\n",
       "      <td>0</td>\n",
       "      <td>0</td>\n",
       "    </tr>\n",
       "    <tr>\n",
       "      <th>1</th>\n",
       "      <td>10</td>\n",
       "      <td>79</td>\n",
       "      <td>2</td>\n",
       "      <td>118</td>\n",
       "      <td>1.03</td>\n",
       "      <td>0</td>\n",
       "      <td>0</td>\n",
       "      <td>1</td>\n",
       "      <td>0</td>\n",
       "      <td>0</td>\n",
       "      <td>0</td>\n",
       "      <td>1</td>\n",
       "    </tr>\n",
       "    <tr>\n",
       "      <th>2</th>\n",
       "      <td>13</td>\n",
       "      <td>135</td>\n",
       "      <td>5</td>\n",
       "      <td>43</td>\n",
       "      <td>0.36</td>\n",
       "      <td>53</td>\n",
       "      <td>1</td>\n",
       "      <td>0</td>\n",
       "      <td>0</td>\n",
       "      <td>0</td>\n",
       "      <td>0</td>\n",
       "      <td>1</td>\n",
       "    </tr>\n",
       "    <tr>\n",
       "      <th>3</th>\n",
       "      <td>17</td>\n",
       "      <td>85</td>\n",
       "      <td>2</td>\n",
       "      <td>100</td>\n",
       "      <td>0.84</td>\n",
       "      <td>365</td>\n",
       "      <td>0</td>\n",
       "      <td>1</td>\n",
       "      <td>0</td>\n",
       "      <td>0</td>\n",
       "      <td>0</td>\n",
       "      <td>1</td>\n",
       "    </tr>\n",
       "    <tr>\n",
       "      <th>4</th>\n",
       "      <td>36</td>\n",
       "      <td>50</td>\n",
       "      <td>3</td>\n",
       "      <td>230</td>\n",
       "      <td>2.02</td>\n",
       "      <td>348</td>\n",
       "      <td>0</td>\n",
       "      <td>1</td>\n",
       "      <td>0</td>\n",
       "      <td>1</td>\n",
       "      <td>0</td>\n",
       "      <td>0</td>\n",
       "    </tr>\n",
       "  </tbody>\n",
       "</table>\n",
       "</div>"
      ],
      "text/plain": [
       "   Unnamed: 0  price  minimum_nights  number_of_reviews  reviews_per_month  \\\n",
       "0           4    150               3                  0               0.00   \n",
       "1          10     79               2                118               1.03   \n",
       "2          13    135               5                 43               0.36   \n",
       "3          17     85               2                100               0.84   \n",
       "4          36     50               3                230               2.02   \n",
       "\n",
       "   availability_365  room_type_Entire home/apt  room_type_Private room  \\\n",
       "0               365                          0                       1   \n",
       "1                 0                          0                       1   \n",
       "2                53                          1                       0   \n",
       "3               365                          0                       1   \n",
       "4               348                          0                       1   \n",
       "\n",
       "   room_type_Shared room  neighbourhood_Harlem  \\\n",
       "0                      0                     1   \n",
       "1                      0                     0   \n",
       "2                      0                     0   \n",
       "3                      0                     0   \n",
       "4                      0                     1   \n",
       "\n",
       "   neighbourhood_Morningside Heights  neighbourhood_Upper West Side  \n",
       "0                                  0                              0  \n",
       "1                                  0                              1  \n",
       "2                                  0                              1  \n",
       "3                                  0                              1  \n",
       "4                                  0                              0  "
      ]
     },
     "execution_count": 3,
     "metadata": {},
     "output_type": "execute_result"
    }
   ],
   "source": [
    "data_borough.head()"
   ]
  },
  {
   "cell_type": "markdown",
   "metadata": {},
   "source": [
    "### deletion of irrelevant and dependent feature, normalize data "
   ]
  },
  {
   "cell_type": "code",
   "execution_count": 4,
   "metadata": {},
   "outputs": [],
   "source": [
    "y = data_borough['price']\n",
    "del data_borough['Unnamed: 0']\n",
    "del data_borough['price']\n",
    "del data_borough['number_of_reviews']\n",
    "del data_borough['reviews_per_month']\n",
    "data_borough['availability_365'] = (data_borough['availability_365'] - data_borough['availability_365'].mean())/(data_borough['availability_365'].std())**2\n",
    "data_borough['minimum_nights'] = (data_borough['minimum_nights'] - data_borough['minimum_nights'].mean())/(data_borough['minimum_nights'].std())**2\n",
    "X = data_borough"
   ]
  },
  {
   "cell_type": "code",
   "execution_count": 6,
   "metadata": {},
   "outputs": [
    {
     "data": {
      "text/html": [
       "<div>\n",
       "<style scoped>\n",
       "    .dataframe tbody tr th:only-of-type {\n",
       "        vertical-align: middle;\n",
       "    }\n",
       "\n",
       "    .dataframe tbody tr th {\n",
       "        vertical-align: top;\n",
       "    }\n",
       "\n",
       "    .dataframe thead th {\n",
       "        text-align: right;\n",
       "    }\n",
       "</style>\n",
       "<table border=\"1\" class=\"dataframe\">\n",
       "  <thead>\n",
       "    <tr style=\"text-align: right;\">\n",
       "      <th></th>\n",
       "      <th>minimum_nights</th>\n",
       "      <th>availability_365</th>\n",
       "      <th>room_type_Entire home/apt</th>\n",
       "      <th>room_type_Private room</th>\n",
       "      <th>room_type_Shared room</th>\n",
       "      <th>neighbourhood_Harlem</th>\n",
       "      <th>neighbourhood_Morningside Heights</th>\n",
       "      <th>neighbourhood_Upper West Side</th>\n",
       "    </tr>\n",
       "  </thead>\n",
       "  <tbody>\n",
       "    <tr>\n",
       "      <th>0</th>\n",
       "      <td>-0.010470</td>\n",
       "      <td>0.014581</td>\n",
       "      <td>0</td>\n",
       "      <td>1</td>\n",
       "      <td>0</td>\n",
       "      <td>1</td>\n",
       "      <td>0</td>\n",
       "      <td>0</td>\n",
       "    </tr>\n",
       "    <tr>\n",
       "      <th>1</th>\n",
       "      <td>-0.012895</td>\n",
       "      <td>-0.006331</td>\n",
       "      <td>0</td>\n",
       "      <td>1</td>\n",
       "      <td>0</td>\n",
       "      <td>0</td>\n",
       "      <td>0</td>\n",
       "      <td>1</td>\n",
       "    </tr>\n",
       "    <tr>\n",
       "      <th>2</th>\n",
       "      <td>-0.005619</td>\n",
       "      <td>-0.003295</td>\n",
       "      <td>1</td>\n",
       "      <td>0</td>\n",
       "      <td>0</td>\n",
       "      <td>0</td>\n",
       "      <td>0</td>\n",
       "      <td>1</td>\n",
       "    </tr>\n",
       "    <tr>\n",
       "      <th>3</th>\n",
       "      <td>-0.012895</td>\n",
       "      <td>0.014581</td>\n",
       "      <td>0</td>\n",
       "      <td>1</td>\n",
       "      <td>0</td>\n",
       "      <td>0</td>\n",
       "      <td>0</td>\n",
       "      <td>1</td>\n",
       "    </tr>\n",
       "    <tr>\n",
       "      <th>4</th>\n",
       "      <td>-0.010470</td>\n",
       "      <td>0.013607</td>\n",
       "      <td>0</td>\n",
       "      <td>1</td>\n",
       "      <td>0</td>\n",
       "      <td>1</td>\n",
       "      <td>0</td>\n",
       "      <td>0</td>\n",
       "    </tr>\n",
       "  </tbody>\n",
       "</table>\n",
       "</div>"
      ],
      "text/plain": [
       "   minimum_nights  availability_365  room_type_Entire home/apt  \\\n",
       "0       -0.010470          0.014581                          0   \n",
       "1       -0.012895         -0.006331                          0   \n",
       "2       -0.005619         -0.003295                          1   \n",
       "3       -0.012895          0.014581                          0   \n",
       "4       -0.010470          0.013607                          0   \n",
       "\n",
       "   room_type_Private room  room_type_Shared room  neighbourhood_Harlem  \\\n",
       "0                       1                      0                     1   \n",
       "1                       1                      0                     0   \n",
       "2                       0                      0                     0   \n",
       "3                       1                      0                     0   \n",
       "4                       1                      0                     1   \n",
       "\n",
       "   neighbourhood_Morningside Heights  neighbourhood_Upper West Side  \n",
       "0                                  0                              0  \n",
       "1                                  0                              1  \n",
       "2                                  0                              1  \n",
       "3                                  0                              1  \n",
       "4                                  0                              0  "
      ]
     },
     "execution_count": 6,
     "metadata": {},
     "output_type": "execute_result"
    }
   ],
   "source": [
    "X.head()"
   ]
  },
  {
   "cell_type": "code",
   "execution_count": 68,
   "metadata": {},
   "outputs": [],
   "source": [
    "X_train, X_val, y_train, y_val = train_test_split(X, y, test_size=0.15)"
   ]
  },
  {
   "cell_type": "markdown",
   "metadata": {},
   "source": [
    "### we'll first fit a linear regression to get an idea "
   ]
  },
  {
   "cell_type": "code",
   "execution_count": 69,
   "metadata": {},
   "outputs": [],
   "source": [
    "lin_reg = LinearRegression(fit_intercept=True)"
   ]
  },
  {
   "cell_type": "code",
   "execution_count": 70,
   "metadata": {},
   "outputs": [],
   "source": [
    "reg = LinearRegression().fit(X_train, y_train)"
   ]
  },
  {
   "cell_type": "code",
   "execution_count": 71,
   "metadata": {},
   "outputs": [
    {
     "data": {
      "text/plain": [
       "array([ -41.46463092, 3218.8980716 ,   88.7276347 ,  -28.33013402,\n",
       "        -60.39750068,  -15.67681289,  -18.6495846 ,   34.32639749])"
      ]
     },
     "execution_count": 71,
     "metadata": {},
     "output_type": "execute_result"
    }
   ],
   "source": [
    "reg.coef_"
   ]
  },
  {
   "cell_type": "code",
   "execution_count": 72,
   "metadata": {},
   "outputs": [
    {
     "data": {
      "text/plain": [
       "0.07913955401407347"
      ]
     },
     "execution_count": 72,
     "metadata": {},
     "output_type": "execute_result"
    }
   ],
   "source": [
    "reg.score(X_train,y_train)"
   ]
  },
  {
   "cell_type": "markdown",
   "metadata": {},
   "source": [
    "### predictions "
   ]
  },
  {
   "cell_type": "code",
   "execution_count": 73,
   "metadata": {},
   "outputs": [],
   "source": [
    "y_preds = reg.predict(X_val)"
   ]
  },
  {
   "cell_type": "code",
   "execution_count": 75,
   "metadata": {},
   "outputs": [
    {
     "name": "stdout",
     "output_type": "stream",
     "text": [
      "Coefficients: \n",
      " [ -41.46463092 3218.8980716    88.7276347   -28.33013402  -60.39750068\n",
      "  -15.67681289  -18.6495846    34.32639749]\n",
      "Mean squared error: 76894.78\n",
      "Variance score: 0.04\n"
     ]
    }
   ],
   "source": [
    "# The coefficients\n",
    "print('Coefficients: \\n', reg.coef_)\n",
    "# The mean squared error\n",
    "print(\"Mean squared error: %.2f\"\n",
    "      % mean_squared_error(y_val, y_preds))\n",
    "# Explained variance score: 1 is perfect prediction\n",
    "print('Variance score: %.2f' % r2_score(y_val, y_preds))"
   ]
  },
  {
   "cell_type": "code",
   "execution_count": 77,
   "metadata": {},
   "outputs": [
    {
     "name": "stdout",
     "output_type": "stream",
     "text": [
      "mean absolute error on train set: 72.58\n",
      "mean absolute error on valuation set: 77.90\n"
     ]
    }
   ],
   "source": [
    "print('mean absolute error on train set: %.2f' % mean_absolute_error(y_train,reg.predict(X_train)))\n",
    "print('mean absolute error on valuation set: %.2f' % mean_absolute_error(y_val,y_preds))"
   ]
  },
  {
   "cell_type": "markdown",
   "metadata": {},
   "source": [
    "### using statsmodels "
   ]
  },
  {
   "cell_type": "code",
   "execution_count": 78,
   "metadata": {},
   "outputs": [
    {
     "name": "stdout",
     "output_type": "stream",
     "text": [
      "                            OLS Regression Results                            \n",
      "==============================================================================\n",
      "Dep. Variable:                  price   R-squared:                       0.079\n",
      "Model:                            OLS   Adj. R-squared:                  0.078\n",
      "Method:                 Least Squares   F-statistic:                     64.37\n",
      "Date:                Wed, 10 Apr 2019   Prob (F-statistic):           5.59e-77\n",
      "Time:                        21:17:46   Log-Likelihood:                -31216.\n",
      "No. Observations:                4501   AIC:                         6.245e+04\n",
      "Df Residuals:                    4494   BIC:                         6.249e+04\n",
      "Df Model:                           6                                         \n",
      "Covariance Type:            nonrobust                                         \n",
      "=====================================================================================================\n",
      "                                        coef    std err          t      P>|t|      [0.025      0.975]\n",
      "-----------------------------------------------------------------------------------------------------\n",
      "minimum_nights                      -41.4646     73.220     -0.566      0.571    -185.012     102.083\n",
      "availability_365                   3218.8981    500.977      6.425      0.000    2236.737    4201.059\n",
      "room_type_Entire home/apt           148.1455      6.694     22.133      0.000     135.023     161.268\n",
      "room_type_Private room               31.0877      6.723      4.624      0.000      17.907      44.269\n",
      "room_type_Shared room                -0.9796     22.526     -0.043      0.965     -45.142      43.183\n",
      "neighbourhood_Harlem                 43.7411      6.597      6.630      0.000      30.807      56.675\n",
      "neighbourhood_Morningside Heights    40.7683     12.717      3.206      0.001      15.837      65.700\n",
      "neighbourhood_Upper West Side        93.7443      7.041     13.315      0.000      79.941     107.547\n",
      "==============================================================================\n",
      "Omnibus:                    10122.863   Durbin-Watson:                   2.006\n",
      "Prob(Omnibus):                  0.000   Jarque-Bera (JB):         78175606.416\n",
      "Skew:                          20.875   Prob(JB):                         0.00\n",
      "Kurtosis:                     647.283   Cond. No.                     5.25e+15\n",
      "==============================================================================\n",
      "\n",
      "Warnings:\n",
      "[1] Standard Errors assume that the covariance matrix of the errors is correctly specified.\n",
      "[2] The smallest eigenvalue is 1.56e-28. This might indicate that there are\n",
      "strong multicollinearity problems or that the design matrix is singular.\n"
     ]
    }
   ],
   "source": [
    "est = sm.OLS(y_train, X_train)\n",
    "est2 = est.fit()\n",
    "print(est2.summary())"
   ]
  },
  {
   "cell_type": "markdown",
   "metadata": {},
   "source": [
    "### K-NN"
   ]
  },
  {
   "cell_type": "code",
   "execution_count": 79,
   "metadata": {},
   "outputs": [],
   "source": [
    "from sklearn.neighbors import KNeighborsClassifier"
   ]
  },
  {
   "cell_type": "code",
   "execution_count": 103,
   "metadata": {},
   "outputs": [],
   "source": [
    "errors=list()\n",
    "for K in range(100):\n",
    "    knn_model = KNeighborsClassifier(K+1)\n",
    "    knn_model.fit(X_train,y_train)\n",
    "    #np.average(knn_model.predict(X_train)==y_test)\n",
    "    errors.append(mean_squared_error(y_val,knn_model.predict(X_val)))"
   ]
  },
  {
   "cell_type": "code",
   "execution_count": 104,
   "metadata": {},
   "outputs": [
    {
     "data": {
      "text/plain": [
       "[<matplotlib.lines.Line2D at 0x25e93dc89b0>]"
      ]
     },
     "execution_count": 104,
     "metadata": {},
     "output_type": "execute_result"
    },
    {
     "data": {
      "image/png": "[encoded data removed]",
      "text/plain": [
       "<Figure size 432x288 with 1 Axes>"
      ]
     },
     "metadata": {},
     "output_type": "display_data"
    }
   ],
   "source": [
    "plt.plot(errors)"
   ]
  },
  {
   "cell_type": "code",
   "execution_count": 109,
   "metadata": {},
   "outputs": [],
   "source": [
    "bestK = np.argmin(errors)+1"
   ]
  },
  {
   "cell_type": "code",
   "execution_count": 116,
   "metadata": {},
   "outputs": [
    {
     "name": "stdout",
     "output_type": "stream",
     "text": [
      "mean absolute error on test set: 67.02\n"
     ]
    }
   ],
   "source": [
    "knn_model = KNeighborsClassifier(bestK)\n",
    "knn_model.fit(X_train,y_train)\n",
    "ypred_val = knn_model.predict(X_val)#to be replaced with an actual test set, not the validation one which we used to select bestK\n",
    "print('mean absolute error on test set: %.2f' % mean_absolute_error(y_val,ypred_val))"
   ]
  },
  {
   "cell_type": "code",
   "execution_count": 86,
   "metadata": {},
   "outputs": [
    {
     "data": {
      "text/plain": [
       "count     795.000000\n",
       "mean      151.621384\n",
       "std       282.826435\n",
       "min        25.000000\n",
       "25%        75.000000\n",
       "50%       110.000000\n",
       "75%       160.000000\n",
       "max      6500.000000\n",
       "Name: price, dtype: float64"
      ]
     },
     "execution_count": 86,
     "metadata": {},
     "output_type": "execute_result"
    }
   ],
   "source": [
    "y_val.describe()"
   ]
  },
  {
   "cell_type": "code",
   "execution_count": 85,
   "metadata": {},
   "outputs": [
    {
     "data": {
      "text/plain": [
       "count    795.000000\n",
       "mean     118.044025\n",
       "std       62.242229\n",
       "min       45.000000\n",
       "25%       70.000000\n",
       "50%      100.000000\n",
       "75%      150.000000\n",
       "max      350.000000\n",
       "dtype: float64"
      ]
     },
     "execution_count": 85,
     "metadata": {},
     "output_type": "execute_result"
    }
   ],
   "source": [
    "pd.Series(y_pred).describe()"
   ]
  },
  {
   "cell_type": "markdown",
   "metadata": {},
   "source": [
    "#### removing very high values of dependent variable and see impact on performance "
   ]
  },
  {
   "cell_type": "code",
   "execution_count": 93,
   "metadata": {},
   "outputs": [
    {
     "name": "stderr",
     "output_type": "stream",
     "text": [
      "C:\\ProgramData\\Anaconda3\\lib\\site-packages\\ipykernel_launcher.py:8: SettingWithCopyWarning: \n",
      "A value is trying to be set on a copy of a slice from a DataFrame.\n",
      "Try using .loc[row_indexer,col_indexer] = value instead\n",
      "\n",
      "See the caveats in the documentation: http://pandas.pydata.org/pandas-docs/stable/indexing.html#indexing-view-versus-copy\n",
      "  \n",
      "C:\\ProgramData\\Anaconda3\\lib\\site-packages\\ipykernel_launcher.py:9: SettingWithCopyWarning: \n",
      "A value is trying to be set on a copy of a slice from a DataFrame.\n",
      "Try using .loc[row_indexer,col_indexer] = value instead\n",
      "\n",
      "See the caveats in the documentation: http://pandas.pydata.org/pandas-docs/stable/indexing.html#indexing-view-versus-copy\n",
      "  if __name__ == '__main__':\n"
     ]
    }
   ],
   "source": [
    "data_borough = pd.read_csv(filename)\n",
    "data_borough_low = data_borough[data_borough['price']<=200]\n",
    "y_low = data_borough_low['price']\n",
    "del data_borough_low['Unnamed: 0']\n",
    "del data_borough_low['price']\n",
    "del data_borough_low['number_of_reviews']\n",
    "del data_borough_low['reviews_per_month']\n",
    "data_borough_low['availability_365'] = (data_borough_low['availability_365'] - data_borough_low['availability_365'].mean())/(data_borough_low['availability_365'].std())**2\n",
    "data_borough_low['minimum_nights'] = (data_borough_low['minimum_nights'] - data_borough_low['minimum_nights'].mean())/(data_borough_low['minimum_nights'].std())**2\n",
    "X2 = data_borough_low"
   ]
  },
  {
   "cell_type": "code",
   "execution_count": 94,
   "metadata": {},
   "outputs": [],
   "source": [
    "X2_train, X2_val, y2_train, y2_val = train_test_split(X2, y_low, test_size=0.15)"
   ]
  },
  {
   "cell_type": "code",
   "execution_count": 112,
   "metadata": {},
   "outputs": [],
   "source": [
    "errors2 = list()\n",
    "for K in range(100):\n",
    "    knn_model = KNeighborsClassifier(K+1)\n",
    "    knn_model.fit(X2_train,y2_train)\n",
    "    #np.average(knn_model.predict(X_train)==y_test)\n",
    "    errors2.append(mean_squared_error(y2_val,knn_model.predict(X2_val)))"
   ]
  },
  {
   "cell_type": "code",
   "execution_count": 113,
   "metadata": {},
   "outputs": [
    {
     "data": {
      "text/plain": [
       "[<matplotlib.lines.Line2D at 0x25e93e26630>]"
      ]
     },
     "execution_count": 113,
     "metadata": {},
     "output_type": "execute_result"
    },
    {
     "data": {
      "image/png": "[encoded data removed]",
      "text/plain": [
       "<Figure size 432x288 with 1 Axes>"
      ]
     },
     "metadata": {},
     "output_type": "display_data"
    }
   ],
   "source": [
    "plt.plot(errors2)"
   ]
  },
  {
   "cell_type": "code",
   "execution_count": 115,
   "metadata": {},
   "outputs": [],
   "source": [
    "bestK2 = np.argmin(errors2)+1"
   ]
  },
  {
   "cell_type": "code",
   "execution_count": 120,
   "metadata": {},
   "outputs": [
    {
     "name": "stdout",
     "output_type": "stream",
     "text": [
      "mean absolute error on test set: 29.26\n",
      "note: improvement overly optimistic, not an actual test set\n"
     ]
    }
   ],
   "source": [
    "knn_model = KNeighborsClassifier(bestK2)\n",
    "knn_model.fit(X2_train,y2_train)\n",
    "ypred_val2 = knn_model.predict(X2_val)\n",
    "print('mean absolute error on test set: %.2f' % mean_absolute_error(y2_val,ypred_val2))#to be replaced with an actual test set\n",
    "print('note: improvement overly optimistic, not an actual test set')"
   ]
  }
 ],
 "metadata": {
  "kernelspec": {
   "display_name": "Python 3",
   "language": "python",
   "name": "python3"
  },
  "language_info": {
   "codemirror_mode": {
    "name": "ipython",
    "version": 3
   },
   "file_extension": ".py",
   "mimetype": "text/x-python",
   "name": "python",
   "nbconvert_exporter": "python",
   "pygments_lexer": "ipython3",
   "version": "3.7.1"
  }
 },
 "nbformat": 4,
 "nbformat_minor": 2
}
