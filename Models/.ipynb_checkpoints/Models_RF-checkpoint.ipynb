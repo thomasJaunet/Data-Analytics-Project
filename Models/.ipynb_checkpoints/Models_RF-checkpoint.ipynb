{
 "cells": [
  {
   "cell_type": "markdown",
   "metadata": {},
   "source": [
    "# Build the model\n",
    "\n",
    "This notebook is meant to present some models to fit our dataset with the boroughs one hot encoded"
   ]
  },
  {
   "cell_type": "code",
   "execution_count": 2,
   "metadata": {},
   "outputs": [],
   "source": [
    "import pandas as pd\n",
    "from sklearn.model_selection import train_test_split\n",
    "from sklearn import ensemble\n",
    "from sklearn.metrics import mean_absolute_error\n",
    "from sklearn.externals import joblib\n",
    "from sklearn.model_selection import GridSearchCV\n",
    "import numpy as np"
   ]
  },
  {
   "cell_type": "code",
   "execution_count": 3,
   "metadata": {},
   "outputs": [
    {
     "name": "stdout",
     "output_type": "stream",
     "text": [
      "<class 'pandas.core.frame.DataFrame'>\n",
      "RangeIndex: 5296 entries, 0 to 5295\n",
      "Data columns (total 13 columns):\n",
      "Unnamed: 0                           5296 non-null int64\n",
      "id                                   5296 non-null int64\n",
      "price                                5296 non-null int64\n",
      "minimum_nights                       5296 non-null int64\n",
      "number_of_reviews                    5296 non-null int64\n",
      "reviews_per_month                    5296 non-null float64\n",
      "availability_365                     5296 non-null int64\n",
      "room_type_Entire home/apt            5296 non-null int64\n",
      "room_type_Private room               5296 non-null int64\n",
      "room_type_Shared room                5296 non-null int64\n",
      "neighbourhood_Harlem                 5296 non-null int64\n",
      "neighbourhood_Morningside Heights    5296 non-null int64\n",
      "neighbourhood_Upper West Side        5296 non-null int64\n",
      "dtypes: float64(1), int64(12)\n",
      "memory usage: 538.0 KB\n"
     ]
    }
   ],
   "source": [
    "filename = '../files/listings_neighbourhood.csv'\n",
    "data_borough = pd.read_csv(filename)\n",
    "data_borough.info()"
   ]
  },
  {
   "cell_type": "code",
   "execution_count": 3,
   "metadata": {},
   "outputs": [],
   "source": [
    "y = data_borough['price']\n",
    "del data_borough['Unnamed: 0']\n",
    "del data_borough['price']\n",
    "del data_borough['number_of_reviews']\n",
    "del data_borough['reviews_per_month']\n",
    "data_borough['availability_365'] = (data_borough['availability_365'] - data_borough['availability_365'].mean())/(data_borough['availability_365'].std())**2\n",
    "data_borough['minimum_nights'] = (data_borough['minimum_nights'] - data_borough['minimum_nights'].mean())/(data_borough['minimum_nights'].std())**2\n",
    "X = data_borough"
   ]
  },
  {
   "cell_type": "code",
   "execution_count": 4,
   "metadata": {},
   "outputs": [],
   "source": [
    "X_train, X_test, y_train, y_test = train_test_split(X, y, test_size=0.15)"
   ]
  },
  {
   "cell_type": "code",
   "execution_count": 5,
   "metadata": {},
   "outputs": [
    {
     "name": "stdout",
     "output_type": "stream",
     "text": [
      "Training Set Mean Absolute Error: 59.9824\n",
      "Test Set Mean Absolute Error: 54.0978\n"
     ]
    }
   ],
   "source": [
    "#Fit regression model\n",
    "model = ensemble.GradientBoostingRegressor(\n",
    "    n_estimators=500,\n",
    "    learning_rate=0.1,\n",
    "    max_depth=4,\n",
    "    min_samples_leaf=3,\n",
    "    max_features=0.3,\n",
    "    loss='huber',\n",
    "    random_state=0\n",
    ")\n",
    "model.fit(X_train, y_train)\n",
    "# Save the trained model to a file so we can use it in other programs\n",
    "#joblib.dump(model, 'trained_house_classifier_model_year_sq.pkl')\n",
    "\n",
    "# Find the error rate on the training set\n",
    "mse = mean_absolute_error(y_train, model.predict(X_train))\n",
    "print(\"Training Set Mean Absolute Error: %.4f\" % mse)\n",
    "\n",
    "# Find the error rate on the test set\n",
    "mse = mean_absolute_error(y_test, model.predict(X_test))\n",
    "print(\"Test Set Mean Absolute Error: %.4f\" % mse)"
   ]
  },
  {
   "cell_type": "markdown",
   "metadata": {},
   "source": [
    "Perform the grid search to ameliorate the model"
   ]
  },
  {
   "cell_type": "code",
   "execution_count": 11,
   "metadata": {},
   "outputs": [
    {
     "name": "stderr",
     "output_type": "stream",
     "text": [
      "/anaconda3/lib/python3.7/site-packages/sklearn/model_selection/_split.py:2053: FutureWarning: You should specify a value for 'cv' instead of relying on the default value. The default value will change from 3 to 5 in version 0.22.\n",
      "  warnings.warn(CV_WARNING, FutureWarning)\n"
     ]
    },
    {
     "name": "stdout",
     "output_type": "stream",
     "text": [
      "{'learning_rate': 0.02, 'loss': 'huber', 'max_depth': 4, 'max_features': 0.1, 'min_samples_leaf': 3, 'n_estimators': 500}\n",
      "Training Set Mean Absolute Error: 62.3416\n",
      "Test Set Mean Absolute Error: 53.6109\n"
     ]
    }
   ],
   "source": [
    "# Create the model\n",
    "model = ensemble.GradientBoostingRegressor()\n",
    "\n",
    "# Parameters we want to try\n",
    "param_grid = {\n",
    "    'n_estimators': [500, 1000, 2000],\n",
    "    'max_depth': [4, 6],\n",
    "    'min_samples_leaf': [3, 5, 9],\n",
    "    'learning_rate': [0.1, 0.05, 0.02],\n",
    "    'max_features': [1.0, 0.3, 0.1],\n",
    "    'loss': ['ls', 'lad', 'huber']\n",
    "}\n",
    "\n",
    "# Define the grid search we want to run. Run it with six cpus in parallel.\n",
    "gs_cv = GridSearchCV(model, param_grid, n_jobs=6)\n",
    "\n",
    "# Run the grid search - on only the training data!\n",
    "gs_cv.fit(X_train, y_train)\n",
    "\n",
    "# Print the parameters that gave us the best result!\n",
    "print(gs_cv.best_params_)\n",
    "\n",
    "# Find the error rate on the training set using the best parameters\n",
    "mse = mean_absolute_error(y_train, gs_cv.predict(X_train))\n",
    "print(\"Training Set Mean Absolute Error: %.4f\" % mse)\n",
    "\n",
    "# Find the error rate on the test set using the best parameters\n",
    "mse = mean_absolute_error(y_test, gs_cv.predict(X_test))\n",
    "print(\"Test Set Mean Absolute Error: %.4f\" % mse)\n"
   ]
  },
  {
   "cell_type": "markdown",
   "metadata": {},
   "source": [
    "After the grid search, we see that we have a worst training estimation but a test set estimation a bit better. Our model is not very accurate. It is not surprising since we don't have enough explanatory variables and that we have outlier variables (more that 2000 and less than 10)."
   ]
  },
  {
   "cell_type": "code",
   "execution_count": 10,
   "metadata": {},
   "outputs": [
    {
     "data": {
      "text/plain": [
       "['Neighborhoods_near_Columbia.pkl']"
      ]
     },
     "execution_count": 10,
     "metadata": {},
     "output_type": "execute_result"
    }
   ],
   "source": [
    "# Save the trained model to a file so we can use it in other programs\n",
    "joblib.dump(model, 'Neighborhoods_near_Columbia.pkl')"
   ]
  },
  {
   "cell_type": "code",
   "execution_count": 6,
   "metadata": {},
   "outputs": [
    {
     "name": "stderr",
     "output_type": "stream",
     "text": [
      "/anaconda3/lib/python3.7/site-packages/sklearn/model_selection/_split.py:652: Warning: The least populated class in y has only 1 members, which is too few. The minimum number of members in any class cannot be less than n_splits=3.\n",
      "  % (min_groups, self.n_splits)), Warning)\n"
     ]
    },
    {
     "data": {
      "text/plain": [
       "(0.07848099939369152,\n",
       " {'max_depth': 4,\n",
       "  'min_samples_leaf': 4,\n",
       "  'min_samples_split': 4,\n",
       "  'n_estimators': 100})"
      ]
     },
     "execution_count": 6,
     "metadata": {},
     "output_type": "execute_result"
    }
   ],
   "source": [
    "from sklearn.ensemble import RandomForestClassifier\n",
    "import numpy as np\n",
    "model = RandomForestClassifier()\n",
    "\n",
    "parameters = {\n",
    "     'n_estimators':(100, 30, 50), #the number of trees\n",
    "     'max_depth':(4,8,15),\n",
    "     'min_samples_split': (2, 4, 8),\n",
    "     'min_samples_leaf': (4,8,16)\n",
    "}\n",
    "\n",
    "model = GridSearchCV(RandomForestClassifier(),parameters,cv=3,iid=False)\n",
    "model.fit(X_train, y_train)\n",
    "model.best_score_, model.best_params_"
   ]
  },
  {
   "cell_type": "code",
   "execution_count": 7,
   "metadata": {},
   "outputs": [
    {
     "name": "stdout",
     "output_type": "stream",
     "text": [
      "Training Set Mean Absolute Error: 64.9576\n",
      "Test Set Mean Absolute Error: 61.8994\n"
     ]
    }
   ],
   "source": [
    "#Fit regression model\n",
    "model = RandomForestClassifier(n_estimators=100, max_depth=4, min_samples_leaf=4, min_samples_split=4)\n",
    "\n",
    "model.fit(X_train, y_train)\n",
    "# Save the trained model to a file so we can use it in other programs\n",
    "#joblib.dump(model, 'trained_house_classifier_model_year_sq.pkl')\n",
    "\n",
    "# Find the error rate on the training set\n",
    "mse = mean_absolute_error(y_train, model.predict(X_train))\n",
    "print(\"Training Set Mean Absolute Error: %.4f\" % mse)\n",
    "\n",
    "# Find the error rate on the test set\n",
    "mse = mean_absolute_error(y_test, model.predict(X_test))\n",
    "print(\"Test Set Mean Absolute Error: %.4f\" % mse)"
   ]
  },
  {
   "cell_type": "markdown",
   "metadata": {},
   "source": [
    "Worst Results than with the previous model "
   ]
  },
  {
   "cell_type": "code",
   "execution_count": 6,
   "metadata": {},
   "outputs": [
    {
     "data": {
      "text/plain": [
       "count     4501.000000\n",
       "mean       154.699400\n",
       "std        277.012429\n",
       "min          0.000000\n",
       "25%         75.000000\n",
       "50%        109.000000\n",
       "75%        174.000000\n",
       "max      10000.000000\n",
       "Name: price, dtype: float64"
      ]
     },
     "execution_count": 6,
     "metadata": {},
     "output_type": "execute_result"
    }
   ],
   "source": [
    "y_train.describe()"
   ]
  },
  {
   "cell_type": "code",
   "execution_count": 7,
   "metadata": {},
   "outputs": [
    {
     "data": {
      "text/plain": [
       "count    4501.000000\n",
       "mean      129.425902\n",
       "std        56.379811\n",
       "min        18.160371\n",
       "25%        79.034523\n",
       "50%       122.947265\n",
       "75%       178.409500\n",
       "max       514.611432\n",
       "dtype: float64"
      ]
     },
     "execution_count": 7,
     "metadata": {},
     "output_type": "execute_result"
    }
   ],
   "source": [
    "y_train_predict = model.predict(X_train)\n",
    "pd.Series(y_train_predict).describe()"
   ]
  },
  {
   "cell_type": "code",
   "execution_count": 8,
   "metadata": {},
   "outputs": [
    {
     "data": {
      "text/plain": [
       "count     795.000000\n",
       "mean      140.227673\n",
       "std       160.582927\n",
       "min        22.000000\n",
       "25%        70.500000\n",
       "50%       101.000000\n",
       "75%       159.000000\n",
       "max      2900.000000\n",
       "Name: price, dtype: float64"
      ]
     },
     "execution_count": 8,
     "metadata": {},
     "output_type": "execute_result"
    }
   ],
   "source": [
    "y_test.describe()"
   ]
  },
  {
   "cell_type": "code",
   "execution_count": 9,
   "metadata": {},
   "outputs": [
    {
     "data": {
      "text/plain": [
       "count    795.000000\n",
       "mean     129.255223\n",
       "std       55.120134\n",
       "min       37.151722\n",
       "25%       78.728636\n",
       "50%      125.126330\n",
       "75%      178.409500\n",
       "max      333.021529\n",
       "dtype: float64"
      ]
     },
     "execution_count": 9,
     "metadata": {},
     "output_type": "execute_result"
    }
   ],
   "source": [
    "y_predict = model.predict(X_test)\n",
    "pd.Series(y_predict).describe()"
   ]
  },
  {
   "cell_type": "code",
   "execution_count": 12,
   "metadata": {},
   "outputs": [
    {
     "data": {
      "text/plain": [
       "array([166.37392534, 155.43575278, 169.25152191,  65.16476195,\n",
       "       194.10020108,  97.54119922,  78.71838923, 135.21960137,\n",
       "       178.40950022,  85.61430252,  90.49340857,  82.03072518,\n",
       "        60.22432809, 176.07907405, 232.17815502,  64.91009751,\n",
       "       131.13977007,  51.64404324, 135.21960137, 279.63009005,\n",
       "       152.6181683 , 151.63951069, 172.66818874,  70.12176891,\n",
       "        67.64445738,  73.22773747, 133.59183098,  60.30312911,\n",
       "        73.22773747, 194.42866431, 142.46892027, 188.88556754,\n",
       "       105.28836542, 211.23523252,  56.49375724, 129.48668094,\n",
       "       139.17232151, 196.13658252,  91.41809558, 162.7271592 ,\n",
       "       102.4775506 ,  96.79687475, 184.84735878, 189.17539444,\n",
       "        68.06150405,  98.02399953, 101.40145609,  92.81950663,\n",
       "        73.04247925, 104.79754522, 185.23916581,  97.80552046,\n",
       "        99.59923327, 135.21960137, 150.06532023,  72.59554975,\n",
       "       112.03015824,  44.58193466,  61.25607374, 194.11764293,\n",
       "       135.85056796, 188.12008239, 191.04479787,  77.72916327,\n",
       "       135.21960137, 150.09001986,  96.95471358,  64.91009751,\n",
       "        72.28507739,  70.31741589,  85.61430252, 129.50832546,\n",
       "       212.05840337, 198.03011416,  72.59554975, 153.0006234 ,\n",
       "       125.48766469,  96.95471358,  78.71838923,  74.34262626,\n",
       "        92.27897859, 175.25536827, 125.48766469, 181.44414821,\n",
       "       129.73127   ,  94.09019486,  68.06150405, 108.12820994,\n",
       "       154.16501389, 157.37001722,  91.41809558,  88.43926146,\n",
       "       195.48353108, 129.48668094, 200.16407827,  62.85582317,\n",
       "        82.96144883, 227.85014527, 144.79170151, 191.04479787,\n",
       "        51.2284259 , 135.85056796, 182.58867203, 141.17341849,\n",
       "       186.80972659,  92.54721209,  75.38444778,  54.94529264,\n",
       "        64.97935183,  96.00464635, 127.86285144, 188.4068686 ,\n",
       "       188.4068686 ,  81.7185306 ,  62.41410362, 184.43493006,\n",
       "        73.6800241 ,  62.85582317, 159.94026296, 153.34317121,\n",
       "        82.62765236,  70.33702826,  88.87787767, 212.05840337,\n",
       "        64.91009751,  88.72553734,  67.13797147, 150.77225632,\n",
       "       178.40950022,  91.41809558, 156.64350868, 135.85056796,\n",
       "        92.57806364,  95.0313675 ,  89.15390244,  73.04793303,\n",
       "       163.62115063,  94.71885969, 238.83948576, 162.75061226,\n",
       "       218.51453719, 188.59231716,  95.96229999, 104.10367766,\n",
       "       183.40665858,  85.61430252,  67.11142142,  78.13823933,\n",
       "        74.93135591, 182.58867203, 111.61435829,  91.41809558,\n",
       "       129.50832546,  75.14526913, 192.10389815,  96.95471358,\n",
       "       186.30832453,  73.04793303,  62.55093057, 178.40950022,\n",
       "       238.83948576,  96.95471358, 189.23033558,  91.41809558,\n",
       "        70.60750176,  97.24931039,  86.57077474,  85.59359552,\n",
       "       181.70648905, 218.51453719, 106.78171495,  91.41809558,\n",
       "       199.77417464,  93.93094244,  53.99584892, 186.92134739,\n",
       "       100.23483378,  94.09019486,  64.19974641, 209.98351219,\n",
       "       101.21145689,  60.98474603, 178.40950022, 213.17032437,\n",
       "        70.33702826,  94.44175687,  86.57077474,  73.22773747,\n",
       "       238.83948576,  73.22773747, 206.59499607,  72.60978333,\n",
       "       200.491641  , 136.83207264, 154.07442612, 187.10499399,\n",
       "       177.6834552 , 125.12633027,  86.02579891, 178.40950022,\n",
       "       178.05533886, 120.37748279, 151.90670412, 206.7068604 ,\n",
       "        68.24746015,  56.42697527,  96.79687475,  68.06150405,\n",
       "       132.41384126, 146.65444501, 182.58867203, 195.84917092,\n",
       "       115.20839759,  75.86200736, 178.40950022,  73.22773747,\n",
       "        73.86583854,  91.41809558, 135.21960137, 188.4068686 ,\n",
       "       133.59183098, 181.44414821,  82.58827901,  87.5243555 ,\n",
       "       125.05204516,  72.14077995,  73.22773747,  64.90241574,\n",
       "       274.29853709,  95.6084891 , 169.28521282, 201.1496663 ,\n",
       "       178.40950022, 112.73540381, 196.23094861,  78.48900951,\n",
       "       141.74155313, 178.32742962,  92.54721209, 161.85501508,\n",
       "       172.66818874,  59.6104008 , 135.85056796, 159.81616092,\n",
       "        98.74738877,  71.90973954,  75.58482319,  94.09019486,\n",
       "        93.93094244, 139.17232151, 317.78260255, 122.05173251,\n",
       "        79.49407464, 125.48766469, 190.32228466,  98.39247821,\n",
       "        97.54119922, 134.81434486, 208.04044262, 313.69539436,\n",
       "        48.32373031,  72.63529677,  76.56156048,  82.39094662,\n",
       "        69.83891249, 182.02614338,  73.22773747, 194.06959211,\n",
       "        75.96404618, 238.83948576, 130.73839147, 125.48766469,\n",
       "       129.48668094, 194.06959211,  82.70375113,  81.12635122,\n",
       "        70.35100567,  72.59554975, 202.52977082, 162.90989847,\n",
       "        73.22773747,  55.00705362, 182.58867203,  94.71885969,\n",
       "       135.85056796,  77.58772882, 115.16965597,  68.06150405,\n",
       "       135.85056796,  85.41810338, 216.90341545, 135.85056796,\n",
       "       129.4914984 , 118.77111461, 182.58867203, 281.1346282 ,\n",
       "       213.3199589 ,  73.22773747,  62.85582317, 104.98369875,\n",
       "       182.58867203, 135.21960137, 125.48766469, 148.05205781,\n",
       "        73.22773747,  76.83591374,  59.45641617,  73.8163437 ,\n",
       "       258.73490347, 194.02140911, 186.78820213,  86.57077474,\n",
       "       215.12369499,  87.1884093 , 130.01760112, 180.15304333,\n",
       "       147.68842298,  72.59554975, 188.4068686 ,  85.15194547,\n",
       "       181.70648905,  81.4154969 ,  73.22773747, 105.30406803,\n",
       "        75.85997278,  75.86200736,  73.22773747,  91.41809558,\n",
       "       112.03015824, 138.78263966,  91.41809558, 152.6181683 ,\n",
       "       187.029657  , 182.58867203, 189.00112136, 273.58577094,\n",
       "        70.60750176,  73.22773747,  78.40657576, 205.33183238,\n",
       "       153.0006234 , 187.47058372, 114.56085971, 146.47529593,\n",
       "        79.49407464,  87.75618768, 165.37138284, 172.84037253,\n",
       "        90.49340857, 179.38263082,  96.79687475,  78.71838923,\n",
       "       194.29599873,  72.59554975,  91.41809558, 150.09001986,\n",
       "       136.83207264, 161.45555109, 173.55894002,  54.0062849 ,\n",
       "        96.95471358,  90.49340857,  68.06150405, 238.83948576,\n",
       "        59.66702882,  95.82044527, 156.18276984,  90.49340857,\n",
       "        85.39300952, 190.34584176, 108.0115354 ,  64.91009751,\n",
       "       188.4068686 , 176.88671673, 166.67622881,  97.80552046,\n",
       "       156.56470242,  86.57077474, 191.39506659,  88.26656542,\n",
       "        97.80552046,  62.85582317,  71.87214144, 178.40950022,\n",
       "        42.64347862,  73.22773747, 155.30001175, 171.97430032,\n",
       "        78.71838923, 177.05436756,  85.61430252,  82.30863192,\n",
       "        63.62144321, 178.40950022,  85.61430252, 150.41930733,\n",
       "        88.74326195, 135.21960137, 182.58867203, 182.02432657,\n",
       "        70.39686534, 137.3290178 , 166.54383575,  91.41809558,\n",
       "        88.74326195,  78.7388834 , 182.58867203, 162.48039902,\n",
       "        85.66742135, 190.29523206,  66.57098733, 100.07466714,\n",
       "       188.4068686 , 191.92075903, 134.74929745,  74.18879692,\n",
       "       150.77539259, 188.4068686 , 200.55762864, 152.6181683 ,\n",
       "       135.85056796,  73.22773747, 208.04044262, 217.211188  ,\n",
       "       187.47058372,  73.22773747, 153.06860156,  83.50267046,\n",
       "       110.03313727,  72.72280745,  62.15143133, 299.48677486,\n",
       "        85.61430252, 238.83948576,  73.22773747,  75.14136496,\n",
       "        91.41809558, 130.07463727, 182.58867203, 135.85056796,\n",
       "       146.46200151, 152.6181683 ,  91.41809558,  78.71838923,\n",
       "        73.22773747,  68.06150405, 228.54853888,  76.51651138,\n",
       "       108.12820994, 105.49074602,  70.39686534, 215.12369499,\n",
       "        72.59554975, 178.40950022, 180.15304333,  63.62144321,\n",
       "        70.42822581, 135.85056796,  86.02579891, 182.58867203,\n",
       "        52.44923757,  78.71838923, 107.67343667, 178.32742962,\n",
       "       188.56975478, 208.8887028 , 146.11503518,  56.98669543,\n",
       "       162.8111058 ,  63.62144321,  73.22773747, 136.83207264,\n",
       "       154.54481771, 212.65396901, 190.29523206,  72.59554975,\n",
       "        77.2627142 , 188.4068686 , 187.47058372, 216.90341545,\n",
       "        78.71838923, 112.03015824,  57.48056802,  85.58186509,\n",
       "       188.4068686 , 270.49113058, 333.02152867,  74.07136895,\n",
       "        73.22773747, 137.72250925, 188.4068686 ,  64.91009751,\n",
       "        94.05875496, 107.27774707,  92.81950663, 188.4068686 ,\n",
       "       130.04548599, 182.58867203, 136.83207264,  87.21559036,\n",
       "       188.4068686 , 100.2753846 , 162.61791185,  90.32742181,\n",
       "       135.21960137, 116.22068322, 135.21960137, 206.2064509 ,\n",
       "        78.71838923, 156.03517142, 210.57017895,  85.61430252,\n",
       "       211.84897222, 133.59183098, 176.42064318, 258.5046637 ,\n",
       "        73.22773747,  73.64173146,  93.287837  , 188.4068686 ,\n",
       "        84.04127805,  73.22773747, 135.85056796,  94.71885969,\n",
       "        85.61430252, 253.0256852 , 159.77567383,  74.4771511 ,\n",
       "       187.47058372,  88.3332294 , 256.0865936 , 182.58867203,\n",
       "       238.83948576, 189.80263058,  64.91009751, 178.40950022,\n",
       "       238.83948576, 182.58867203, 139.17232151,  89.40182595,\n",
       "        86.10038247, 181.70648905, 129.48668094, 169.41038382,\n",
       "       115.21202482,  96.95471358, 131.48273004, 186.80972659,\n",
       "       150.99335287,  83.50267046,  59.6837868 ,  72.84136145,\n",
       "       139.17232151, 135.85056796, 182.07189367, 182.58867203,\n",
       "        74.74287188,  80.09004583, 106.64755583,  85.61430252,\n",
       "        96.79687475, 185.23916581,  82.21681737, 129.48668094,\n",
       "       235.65656977,  82.08878193,  71.2456574 , 206.2064509 ,\n",
       "       238.50872702,  72.59554975,  73.22773747, 191.04479787,\n",
       "        96.79687475,  72.59554975, 129.50832546, 204.89287053,\n",
       "       180.67203949,  85.61430252, 144.57702307, 178.40950022,\n",
       "        72.59554975, 129.50832546,  74.948648  , 176.13492851,\n",
       "       188.4068686 , 175.75605555,  65.90519805, 182.58867203,\n",
       "       135.85056796, 130.07463727,  80.2246816 ,  95.96229999,\n",
       "        82.25693886, 129.48668094, 187.73025988, 135.38517327,\n",
       "       182.58736974,  82.21681737, 129.48668094,  65.90519805,\n",
       "       177.67219655,  73.22773747, 188.4068686 ,  70.33702826,\n",
       "        70.35100567, 255.28979609,  94.09019486,  73.20796731,\n",
       "       186.30832453, 179.43328359, 144.0736343 ,  73.22773747,\n",
       "       181.44414821,  65.75531469, 227.7590439 , 163.18875887,\n",
       "        91.51676675,  93.93094244,  66.99641999, 152.6181683 ,\n",
       "       166.0198932 , 181.44414821, 189.23033558,  73.04247925,\n",
       "       119.69881514,  64.91009751, 134.35872386,  74.73501173,\n",
       "        76.51651138, 237.97550064, 185.10609886, 129.48668094,\n",
       "       123.62089522, 178.40950022, 133.79467218, 158.82119965,\n",
       "       285.90977809, 181.75447149,  91.41809558,  65.80429523,\n",
       "       181.70648905, 152.12299529, 263.38162329, 181.70648905,\n",
       "        78.87594368, 233.29744404,  87.44124025,  72.59554975,\n",
       "       148.05205781,  84.67633927,  59.32640525, 150.77539259,\n",
       "       238.83948576,  72.28507739, 152.6181683 , 133.59183098,\n",
       "       135.85056796,  65.32059502,  64.19974641,  75.41151145,\n",
       "        62.85582317,  68.10756781,  60.98474603, 134.26078202,\n",
       "        75.86819051, 131.83442417, 184.85432664,  37.15172153,\n",
       "        99.59923327, 143.38832695, 209.76618237, 159.81616092,\n",
       "       211.84897222,  73.22773747,  89.3229007 , 130.44123749,\n",
       "       139.17232151, 112.03015824, 134.06248371, 178.32742962,\n",
       "       197.90737184, 189.40282628, 187.47058372, 178.40950022,\n",
       "       135.85056796,  60.98474603,  59.6104008 , 107.67343667,\n",
       "       181.70648905, 187.65086509, 178.40950022, 207.1366746 ,\n",
       "        87.75618768, 189.23033558,  90.49340857, 120.84599971,\n",
       "        74.93135591, 135.21960137, 159.31528451, 186.70432771,\n",
       "        72.59554975, 229.88501811,  73.22773747,  98.02399953,\n",
       "        73.22773747, 135.85056796, 177.68229653,  92.81950663,\n",
       "        91.60559925,  91.41809558, 119.38439227, 135.85056796,\n",
       "       178.40950022,  79.34337552, 160.03507901, 167.49195284,\n",
       "       122.05173251, 153.0006234 ,  81.4154969 ,  73.22773747,\n",
       "       181.44414821, 181.44414821, 141.17341849,  73.22773747,\n",
       "       100.50464791,  82.96144883,  91.41809558, 213.10424603,\n",
       "        91.41809558, 178.40950022, 174.69092745, 206.0280933 ,\n",
       "       184.43493006, 112.67056636, 143.38832695,  73.22773747,\n",
       "       259.89587069,  69.52388269, 252.12278743, 191.04479787,\n",
       "        98.02399953, 133.59183098, 137.39945742, 150.09001986,\n",
       "       129.48668094, 194.79295935,  85.66742135,  90.49340857,\n",
       "        64.57827851,  56.76294655,  73.8466506 , 209.98351219,\n",
       "       129.48668094, 125.33308514, 153.34317121,  40.93053832,\n",
       "       209.77041011, 131.41723118, 107.82503564,  95.96229999,\n",
       "        62.85582317,  73.22773747,  63.62144321,  70.12176891,\n",
       "        69.52388269,  96.95471358,  72.59554975,  74.93135591,\n",
       "        98.61485292,  73.22773747,  72.85764513, 192.10389815,\n",
       "       168.27911936, 109.38373782, 178.40950022, 238.83948576,\n",
       "        93.93094244,  76.1127796 , 114.56085971, 129.50832546,\n",
       "       276.80601068,  54.94529264,  78.71838923, 178.40950022,\n",
       "       121.21085297,  73.22773747, 182.58867203,  84.4833431 ,\n",
       "        88.3332294 , 133.59183098, 200.78445984,  87.5243555 ,\n",
       "       125.97882865,  67.52195118, 114.03878562])"
      ]
     },
     "execution_count": 12,
     "metadata": {},
     "output_type": "execute_result"
    }
   ],
   "source": [
    "y_predict"
   ]
  },
  {
   "cell_type": "code",
   "execution_count": 11,
   "metadata": {},
   "outputs": [
    {
     "data": {
      "text/plain": [
       "0.01850453172205438"
      ]
     },
     "execution_count": 11,
     "metadata": {},
     "output_type": "execute_result"
    }
   ],
   "source": [
    "np.sum(y>500)/len(y)"
   ]
  },
  {
   "cell_type": "markdown",
   "metadata": {},
   "source": [
    "We see that our model is really bad at estimating the outliers values. In addition these values only represent 1.8% of the values in our dataset. Furthermore, if we have the goal to predict the airbnb our parent should rent for our graduation, they won't take listings that are more than $500 per day. Hence it seems reasonnable to fit our model on values that are less than 500. This is what we do below."
   ]
  },
  {
   "cell_type": "code",
   "execution_count": 4,
   "metadata": {},
   "outputs": [
    {
     "name": "stdout",
     "output_type": "stream",
     "text": [
      "<class 'pandas.core.frame.DataFrame'>\n",
      "RangeIndex: 5296 entries, 0 to 5295\n",
      "Data columns (total 13 columns):\n",
      "Unnamed: 0                           5296 non-null int64\n",
      "id                                   5296 non-null int64\n",
      "price                                5296 non-null int64\n",
      "minimum_nights                       5296 non-null int64\n",
      "number_of_reviews                    5296 non-null int64\n",
      "reviews_per_month                    5296 non-null float64\n",
      "availability_365                     5296 non-null int64\n",
      "room_type_Entire home/apt            5296 non-null int64\n",
      "room_type_Private room               5296 non-null int64\n",
      "room_type_Shared room                5296 non-null int64\n",
      "neighbourhood_Harlem                 5296 non-null int64\n",
      "neighbourhood_Morningside Heights    5296 non-null int64\n",
      "neighbourhood_Upper West Side        5296 non-null int64\n",
      "dtypes: float64(1), int64(12)\n",
      "memory usage: 538.0 KB\n"
     ]
    }
   ],
   "source": [
    "filename = '../files/listings_neibourhood.csv'\n",
    "data_borough = pd.read_csv(filename)\n",
    "data_borough.info()"
   ]
  },
  {
   "cell_type": "code",
   "execution_count": 55,
   "metadata": {},
   "outputs": [
    {
     "name": "stdout",
     "output_type": "stream",
     "text": [
      "y: (5198,)\n",
      "X: (5198, 8)\n"
     ]
    }
   ],
   "source": [
    "data_borough = data_borough[data_borough['price'] <= 500]\n",
    "y = data_borough['price']\n",
    "del data_borough['Unnamed: 0']\n",
    "del data_borough['price']\n",
    "del data_borough['number_of_reviews']\n",
    "del data_borough['reviews_per_month']\n",
    "data_borough['availability_365'] = (data_borough['availability_365'] - data_borough['availability_365'].mean())/(data_borough['availability_365'].std())**2\n",
    "data_borough['minimum_nights'] = (data_borough['minimum_nights'] - data_borough['minimum_nights'].mean())/(data_borough['minimum_nights'].std())**2\n",
    "X = data_borough\n",
    "print('y:', y.shape)\n",
    "print('X:', X.shape)"
   ]
  },
  {
   "cell_type": "code",
   "execution_count": 56,
   "metadata": {},
   "outputs": [],
   "source": [
    "X_train, X_test, y_train, y_test = train_test_split(X, y, test_size=0.15)"
   ]
  },
  {
   "cell_type": "code",
   "execution_count": 57,
   "metadata": {},
   "outputs": [
    {
     "name": "stdout",
     "output_type": "stream",
     "text": [
      "Training Set Mean Absolute Error: 40.2254\n",
      "Test Set Mean Absolute Error: 40.1195\n"
     ]
    }
   ],
   "source": [
    "#Fit regression model\n",
    "model = ensemble.GradientBoostingRegressor(\n",
    "    n_estimators=500,\n",
    "    learning_rate=0.02,\n",
    "    max_depth=4,\n",
    "    min_samples_leaf=3,\n",
    "    max_features=0.1,\n",
    "    loss='huber',\n",
    "    random_state=0\n",
    ")\n",
    "model.fit(X_train, y_train)\n",
    "# Save the trained model to a file so we can use it in other programs\n",
    "#joblib.dump(model, 'trained_house_classifier_model_year_sq.pkl')\n",
    "\n",
    "# Find the error rate on the training set\n",
    "mse = mean_absolute_error(y_train, model.predict(X_train))\n",
    "print(\"Training Set Mean Absolute Error: %.4f\" % mse)\n",
    "\n",
    "# Find the error rate on the test set\n",
    "mse = mean_absolute_error(y_test, model.predict(X_test))\n",
    "print(\"Test Set Mean Absolute Error: %.4f\" % mse)"
   ]
  },
  {
   "cell_type": "code",
   "execution_count": 58,
   "metadata": {},
   "outputs": [
    {
     "data": {
      "text/plain": [
       "count    780.000000\n",
       "mean     128.194872\n",
       "std       79.906222\n",
       "min       10.000000\n",
       "25%       70.000000\n",
       "50%      100.000000\n",
       "75%      165.000000\n",
       "max      500.000000\n",
       "Name: price, dtype: float64"
      ]
     },
     "execution_count": 58,
     "metadata": {},
     "output_type": "execute_result"
    }
   ],
   "source": [
    "y_test.describe()"
   ]
  },
  {
   "cell_type": "code",
   "execution_count": 59,
   "metadata": {},
   "outputs": [
    {
     "data": {
      "text/plain": [
       "count    780.000000\n",
       "mean     121.973005\n",
       "std       47.590107\n",
       "min       45.437776\n",
       "25%       78.510950\n",
       "50%      112.428569\n",
       "75%      168.016473\n",
       "max      269.770394\n",
       "dtype: float64"
      ]
     },
     "execution_count": 59,
     "metadata": {},
     "output_type": "execute_result"
    }
   ],
   "source": [
    "y_predict = model.predict(X_test)\n",
    "pd.Series(y_predict).describe()"
   ]
  },
  {
   "cell_type": "markdown",
   "metadata": {},
   "source": [
    "Delete outlier values and see if the model performs better"
   ]
  },
  {
   "cell_type": "code",
   "execution_count": 60,
   "metadata": {},
   "outputs": [
    {
     "data": {
      "text/plain": [
       "719"
      ]
     },
     "execution_count": 60,
     "metadata": {},
     "output_type": "execute_result"
    }
   ],
   "source": [
    "list_ind = list(y_test[y_test<=250].index)\n",
    "len(list_ind)"
   ]
  },
  {
   "cell_type": "code",
   "execution_count": 61,
   "metadata": {},
   "outputs": [
    {
     "data": {
      "text/plain": [
       "719"
      ]
     },
     "execution_count": 61,
     "metadata": {},
     "output_type": "execute_result"
    }
   ],
   "source": [
    "list_row = []\n",
    "for i in range(len(y_test)):\n",
    "    if y_test.index[i] in list_ind:\n",
    "        list_row += [i]\n",
    "len(list_row)"
   ]
  },
  {
   "cell_type": "code",
   "execution_count": 62,
   "metadata": {},
   "outputs": [
    {
     "data": {
      "text/plain": [
       "(719,)"
      ]
     },
     "execution_count": 62,
     "metadata": {},
     "output_type": "execute_result"
    }
   ],
   "source": [
    "y_test = y_test[list_ind]\n",
    "y_test.shape"
   ]
  },
  {
   "cell_type": "code",
   "execution_count": 63,
   "metadata": {},
   "outputs": [
    {
     "data": {
      "text/plain": [
       "(719,)"
      ]
     },
     "execution_count": 63,
     "metadata": {},
     "output_type": "execute_result"
    }
   ],
   "source": [
    "y_predict = y_predict[list_row]\n",
    "y_predict.shape"
   ]
  },
  {
   "cell_type": "code",
   "execution_count": 64,
   "metadata": {},
   "outputs": [
    {
     "name": "stdout",
     "output_type": "stream",
     "text": [
      "Test Set Mean Absolute Error: 31.4776\n"
     ]
    }
   ],
   "source": [
    "mse = mean_absolute_error(y_test, y_predict)\n",
    "print(\"Test Set Mean Absolute Error: %.4f\" % mse)"
   ]
  },
  {
   "cell_type": "code",
   "execution_count": 70,
   "metadata": {},
   "outputs": [
    {
     "data": {
      "text/plain": [
       "count    698.000000\n",
       "mean     113.858166\n",
       "std       54.545612\n",
       "min       40.000000\n",
       "25%       70.000000\n",
       "50%       99.000000\n",
       "75%      150.000000\n",
       "max      250.000000\n",
       "Name: price, dtype: float64"
      ]
     },
     "execution_count": 70,
     "metadata": {},
     "output_type": "execute_result"
    }
   ],
   "source": [
    "y_test.describe()"
   ]
  },
  {
   "cell_type": "code",
   "execution_count": 71,
   "metadata": {},
   "outputs": [
    {
     "data": {
      "text/plain": [
       "count    698.000000\n",
       "mean     118.251413\n",
       "std       44.758398\n",
       "min       54.190025\n",
       "25%       78.450416\n",
       "50%      106.665159\n",
       "75%      159.743814\n",
       "max      269.770394\n",
       "dtype: float64"
      ]
     },
     "execution_count": 71,
     "metadata": {},
     "output_type": "execute_result"
    }
   ],
   "source": [
    "pd.Series(y_predict).describe()"
   ]
  },
  {
   "cell_type": "markdown",
   "metadata": {},
   "source": [
    "In conclusion, we can see that our model is still very bad to predict outlier values (more than 250 dollars) but is fair enough to have a first approximation for the listing that are lesser or equal to 250 dollars (which is approximately the range of price our parents would look for if they want to attend our graduation). $30 of difference with the true value of the listing in average is not that bad since our features are not very explanatory of the price. In addition our model seems to overestimate the price (by 5 dollars in average and by 15 dollars in if we look at the min/max/quartile values)"
   ]
  },
  {
   "cell_type": "code",
   "execution_count": 72,
   "metadata": {},
   "outputs": [
    {
     "data": {
      "text/plain": [
       "['Neighborhoods_near_Columbia_500.pkl']"
      ]
     },
     "execution_count": 72,
     "metadata": {},
     "output_type": "execute_result"
    }
   ],
   "source": [
    "# Save the trained model to a file so we can use it in other programs\n",
    "joblib.dump(model, 'Neighborhoods_near_Columbia_500.pkl')"
   ]
  }
 ],
 "metadata": {
  "kernelspec": {
   "display_name": "Python 3",
   "language": "python",
   "name": "python3"
  },
  "language_info": {
   "codemirror_mode": {
    "name": "ipython",
    "version": 3
   },
   "file_extension": ".py",
   "mimetype": "text/x-python",
   "name": "python",
   "nbconvert_exporter": "python",
   "pygments_lexer": "ipython3",
   "version": "3.7.1"
  }
 },
 "nbformat": 4,
 "nbformat_minor": 2
}
